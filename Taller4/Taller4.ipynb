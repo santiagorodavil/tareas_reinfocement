{
 "cells": [
  {
   "cell_type": "markdown",
   "id": "247c5a90-c5d3-4661-9d2c-88f2ea2f537a",
   "metadata": {
    "tags": []
   },
   "source": [
    "# **Reinforcement Learning: Taller 4**\n",
    "## Estudiantes: Juan Pablo Reyes Fajardo y Santiago Rodríguez Ávila "
   ]
  },
  {
   "cell_type": "code",
   "execution_count": 123,
   "id": "ca4cd0ea-8a2d-49bb-86f3-8dd44ad516eb",
   "metadata": {},
   "outputs": [],
   "source": [
    "!pip install -q gymnasium gymnasium[classic-control]"
   ]
  },
  {
   "cell_type": "code",
   "execution_count": 2,
   "id": "dd367f16-d8ba-4db1-98f4-b147dc419455",
   "metadata": {},
   "outputs": [],
   "source": [
    "import gymnasium as gym\n",
    "import numpy as np\n",
    "import itertools\n",
    "import operator"
   ]
  },
  {
   "cell_type": "code",
   "execution_count": 3,
   "id": "885daafe",
   "metadata": {},
   "outputs": [],
   "source": [
    "env = gym.make('CartPole-v1')"
   ]
  },
  {
   "cell_type": "markdown",
   "id": "e2de6862",
   "metadata": {},
   "source": [
    "# 1. RL Tabular"
   ]
  },
  {
   "cell_type": "code",
   "execution_count": 4,
   "id": "9f4b0af8",
   "metadata": {},
   "outputs": [],
   "source": [
    "# Funcion Auxiliar para diccionarios\n",
    "def key_max(d):\n",
    "        return max(d.items(), key=operator.itemgetter(1))\n",
    "def key_min(d):\n",
    "        return min(d.items(), key=operator.itemgetter(1))"
   ]
  },
  {
   "cell_type": "markdown",
   "id": "bf80afee",
   "metadata": {},
   "source": [
    "Política $\\epsilon$ - Greedy \n",
    "\n",
    "(Útil más adelante)"
   ]
  },
  {
   "cell_type": "code",
   "execution_count": 5,
   "id": "bda2ad9d",
   "metadata": {},
   "outputs": [],
   "source": [
    "def eps_greedy(Q_, state,epsilon=0.1):\n",
    "    rand = np.random.uniform()\n",
    "    if rand>epsilon:\n",
    "        return key_max(Q_[state])[0],1-epsilon\n",
    "    else:\n",
    "        return key_min(Q_[state])[0],epsilon"
   ]
  },
  {
   "cell_type": "markdown",
   "id": "a2b04298",
   "metadata": {},
   "source": [
    "## Discretización\n",
    "\n",
    "Inicialmente se realizan múltiples experimentos para determinar límites razonables para las variables a discretizar (aquellas cuyo espacio de observación es infinito)"
   ]
  },
  {
   "cell_type": "code",
   "execution_count": 6,
   "id": "451ff1ed",
   "metadata": {},
   "outputs": [
    {
     "name": "stdout",
     "output_type": "stream",
     "text": [
      "Promedio de velocidad lineal absoluta máxima:       3.3626060485839844       \n",
      "Promedio de velocidad angular absoluta máxima:       3.4338462352752686\n"
     ]
    }
   ],
   "source": [
    "velocidades_absolutas_maximas={\"Lineal\":[],\"Angular\":[]}\n",
    "\n",
    "observation, info = env.reset()\n",
    "\n",
    "abs_lineal=abs(observation[1])\n",
    "abs_angular=abs(observation[3])\n",
    "\n",
    "for _ in range(int(1e6)):\n",
    "    \n",
    "    action = env.action_space.sample()  # agent policy that uses the observation and info\n",
    "    observation, reward, terminated, truncated, info = env.step(action)\n",
    "    \n",
    "    if abs(observation[1])>abs_lineal:\n",
    "        abs_lineal=abs(observation[1])\n",
    "    if abs(observation[3])>abs_angular:\n",
    "        abs_angular=abs(observation[3])\n",
    "\n",
    "    if terminated or truncated:\n",
    "        observation, info = env.reset()\n",
    "        velocidades_absolutas_maximas[\"Lineal\"].append(abs_lineal)\n",
    "        velocidades_absolutas_maximas[\"Angular\"].append(abs_angular)\n",
    "\n",
    "env.close()\n",
    "\n",
    "vel_lin_abs_max=np.mean(velocidades_absolutas_maximas[\"Lineal\"])\n",
    "vel_ang_abs_max=np.mean(velocidades_absolutas_maximas[\"Angular\"])\n",
    "print(f'Promedio de velocidad lineal absoluta máxima: \\\n",
    "      {vel_lin_abs_max} \\\n",
    "      \\nPromedio de velocidad angular absoluta máxima: \\\n",
    "      {vel_ang_abs_max}')"
   ]
  },
  {
   "cell_type": "markdown",
   "id": "0a64390d",
   "metadata": {},
   "source": [
    "Discretización de estados:"
   ]
  },
  {
   "cell_type": "code",
   "execution_count": 7,
   "id": "6e0e262a-a666-493f-b6e9-b952ebe4100f",
   "metadata": {},
   "outputs": [],
   "source": [
    "# Límites del espacio de observación del MDP real\n",
    "cart_high_var = env.observation_space.high\n",
    "cart_low_var = env.observation_space.low\n",
    "\n",
    "# Espacios de observación discretizados\n",
    "observation_space_discrete_400=[np.linspace(cart_low_var[0], cart_high_var[0], num= 5),\\\n",
    "                            np.linspace(-vel_lin_abs_max, vel_lin_abs_max, num= 4),\\\n",
    "                            np.linspace(cart_low_var[2], cart_high_var[2], num = 5),\\\n",
    "                            np.linspace(-vel_ang_abs_max, vel_ang_abs_max, num= 4)]\\\n",
    "\n",
    "observation_space_discrete_4096=[np.linspace(cart_low_var[0], cart_high_var[0], num= 8),\\\n",
    "                            np.linspace(-vel_lin_abs_max, vel_lin_abs_max, num= 8),\\\n",
    "                            np.linspace(cart_low_var[2], cart_high_var[2], num = 8),\\\n",
    "                            np.linspace(-vel_ang_abs_max, vel_ang_abs_max, num= 8)]\n",
    "\n",
    "# Uso de iteradores para obtener todos los estados a partir del espacio de obsevación discreto\n",
    "states_400=list(itertools.product(*observation_space_discrete_400))\n",
    "states_4096=list(itertools.product(*observation_space_discrete_4096))\n",
    "\n",
    "def init_Q_400():\n",
    "    Q_table={}\n",
    "    for i in states_400:\n",
    "        Q_table[i] = {0:0,1:0}\n",
    "    return Q_table\n",
    "\n",
    "def init_Q_4096():\n",
    "    Q_table={}\n",
    "    for i in states_4096:\n",
    "        Q_table[i] = {0:0,1:0}\n",
    "    return Q_table\n",
    "         \n",
    "def discretize_400(new_state):\n",
    "    # car pos, car vel, pole angle, pole vel\n",
    "    discretizacion=[0]*4\n",
    "    for i in range(len(discretizacion)):\n",
    "        dif = [(abs(x - new_state[i])) for x in observation_space_discrete_400[i]]\n",
    "        discretizacion[i] = observation_space_discrete_400[i][dif.index(min(dif))]\n",
    "        \n",
    "    return tuple(discretizacion)\n",
    "\n",
    "def discretize_4096(new_state):\n",
    "    # car pos, car vel, pole angle, pole vel\n",
    "    discretizacion=[0]*4\n",
    "    for i in range(len(discretizacion)):\n",
    "        dif = [(abs(x - new_state[i])) for x in observation_space_discrete_4096[i]]\n",
    "        discretizacion[i] = observation_space_discrete_4096[i][dif.index(min(dif))]\n",
    "        \n",
    "    return tuple(discretizacion)"
   ]
  },
  {
   "cell_type": "markdown",
   "id": "615aea94",
   "metadata": {},
   "source": [
    "## Estimación de Q con Q-Learning "
   ]
  },
  {
   "cell_type": "markdown",
   "id": "ab6afd3e",
   "metadata": {},
   "source": [
    "### 400 Estados"
   ]
  },
  {
   "cell_type": "code",
   "execution_count": 8,
   "id": "857dcb4a",
   "metadata": {},
   "outputs": [],
   "source": [
    "def Q_Learning_400(gamma,alpha):\n",
    "    terminated=False\n",
    "    observation, info = env.reset()\n",
    "    observation=discretize_400(observation)\n",
    "    while not terminated:\n",
    "        \n",
    "        action,_=eps_greedy(Q,observation,0.1)\n",
    "        \n",
    "        observation_, reward, terminated, truncated, info = env.step(action)\n",
    "        observation_=discretize_400(observation_)\n",
    "        \n",
    "        Q_=key_max(Q[observation_])[1]\n",
    "\n",
    "        Q[observation][action]+=alpha*(reward+gamma*Q_-Q[observation][action])\n",
    "        observation=observation_"
   ]
  },
  {
   "cell_type": "code",
   "execution_count": 9,
   "id": "5d18a5cc",
   "metadata": {},
   "outputs": [
    {
     "ename": "KeyboardInterrupt",
     "evalue": "",
     "output_type": "error",
     "traceback": [
      "\u001b[1;31m---------------------------------------------------------------------------\u001b[0m",
      "\u001b[1;31mKeyboardInterrupt\u001b[0m                         Traceback (most recent call last)",
      "\u001b[1;32m~\\AppData\\Local\\Temp\\ipykernel_6460\\2035616547.py\u001b[0m in \u001b[0;36m<module>\u001b[1;34m\u001b[0m\n\u001b[0;32m      3\u001b[0m \u001b[0mpolicy\u001b[0m\u001b[1;33m=\u001b[0m\u001b[0mdict\u001b[0m\u001b[1;33m.\u001b[0m\u001b[0mfromkeys\u001b[0m\u001b[1;33m(\u001b[0m\u001b[0mstates_400\u001b[0m\u001b[1;33m,\u001b[0m \u001b[1;36m0\u001b[0m\u001b[1;33m)\u001b[0m\u001b[1;33m\u001b[0m\u001b[1;33m\u001b[0m\u001b[0m\n\u001b[0;32m      4\u001b[0m \u001b[1;32mfor\u001b[0m \u001b[0mi\u001b[0m \u001b[1;32min\u001b[0m \u001b[0mrange\u001b[0m\u001b[1;33m(\u001b[0m\u001b[1;36m0\u001b[0m\u001b[1;33m,\u001b[0m\u001b[1;36m10000\u001b[0m\u001b[1;33m)\u001b[0m\u001b[1;33m:\u001b[0m\u001b[1;33m\u001b[0m\u001b[1;33m\u001b[0m\u001b[0m\n\u001b[1;32m----> 5\u001b[1;33m     \u001b[0mQ_Learning_400\u001b[0m\u001b[1;33m(\u001b[0m\u001b[1;36m0.9\u001b[0m\u001b[1;33m,\u001b[0m\u001b[1;36m0.1\u001b[0m\u001b[1;33m)\u001b[0m\u001b[1;33m\u001b[0m\u001b[1;33m\u001b[0m\u001b[0m\n\u001b[0m",
      "\u001b[1;32m~\\AppData\\Local\\Temp\\ipykernel_6460\\2368843597.py\u001b[0m in \u001b[0;36mQ_Learning_400\u001b[1;34m(gamma, alpha)\u001b[0m\n\u001b[0;32m      7\u001b[0m         \u001b[0maction\u001b[0m\u001b[1;33m,\u001b[0m\u001b[0m_\u001b[0m\u001b[1;33m=\u001b[0m\u001b[0meps_greedy\u001b[0m\u001b[1;33m(\u001b[0m\u001b[0mQ\u001b[0m\u001b[1;33m,\u001b[0m\u001b[0mobservation\u001b[0m\u001b[1;33m,\u001b[0m\u001b[1;36m0.1\u001b[0m\u001b[1;33m)\u001b[0m\u001b[1;33m\u001b[0m\u001b[1;33m\u001b[0m\u001b[0m\n\u001b[0;32m      8\u001b[0m \u001b[1;33m\u001b[0m\u001b[0m\n\u001b[1;32m----> 9\u001b[1;33m         \u001b[0mobservation_\u001b[0m\u001b[1;33m,\u001b[0m \u001b[0mreward\u001b[0m\u001b[1;33m,\u001b[0m \u001b[0mterminated\u001b[0m\u001b[1;33m,\u001b[0m \u001b[0mtruncated\u001b[0m\u001b[1;33m,\u001b[0m \u001b[0minfo\u001b[0m \u001b[1;33m=\u001b[0m \u001b[0menv\u001b[0m\u001b[1;33m.\u001b[0m\u001b[0mstep\u001b[0m\u001b[1;33m(\u001b[0m\u001b[0maction\u001b[0m\u001b[1;33m)\u001b[0m\u001b[1;33m\u001b[0m\u001b[1;33m\u001b[0m\u001b[0m\n\u001b[0m\u001b[0;32m     10\u001b[0m         \u001b[0mobservation_\u001b[0m\u001b[1;33m=\u001b[0m\u001b[0mdiscretize_400\u001b[0m\u001b[1;33m(\u001b[0m\u001b[0mobservation_\u001b[0m\u001b[1;33m)\u001b[0m\u001b[1;33m\u001b[0m\u001b[1;33m\u001b[0m\u001b[0m\n\u001b[0;32m     11\u001b[0m \u001b[1;33m\u001b[0m\u001b[0m\n",
      "\u001b[1;32m~\\anaconda3\\lib\\site-packages\\gymnasium\\wrappers\\time_limit.py\u001b[0m in \u001b[0;36mstep\u001b[1;34m(self, action)\u001b[0m\n\u001b[0;32m     55\u001b[0m \u001b[1;33m\u001b[0m\u001b[0m\n\u001b[0;32m     56\u001b[0m         \"\"\"\n\u001b[1;32m---> 57\u001b[1;33m         \u001b[0mobservation\u001b[0m\u001b[1;33m,\u001b[0m \u001b[0mreward\u001b[0m\u001b[1;33m,\u001b[0m \u001b[0mterminated\u001b[0m\u001b[1;33m,\u001b[0m \u001b[0mtruncated\u001b[0m\u001b[1;33m,\u001b[0m \u001b[0minfo\u001b[0m \u001b[1;33m=\u001b[0m \u001b[0mself\u001b[0m\u001b[1;33m.\u001b[0m\u001b[0menv\u001b[0m\u001b[1;33m.\u001b[0m\u001b[0mstep\u001b[0m\u001b[1;33m(\u001b[0m\u001b[0maction\u001b[0m\u001b[1;33m)\u001b[0m\u001b[1;33m\u001b[0m\u001b[1;33m\u001b[0m\u001b[0m\n\u001b[0m\u001b[0;32m     58\u001b[0m         \u001b[0mself\u001b[0m\u001b[1;33m.\u001b[0m\u001b[0m_elapsed_steps\u001b[0m \u001b[1;33m+=\u001b[0m \u001b[1;36m1\u001b[0m\u001b[1;33m\u001b[0m\u001b[1;33m\u001b[0m\u001b[0m\n\u001b[0;32m     59\u001b[0m \u001b[1;33m\u001b[0m\u001b[0m\n",
      "\u001b[1;32m~\\anaconda3\\lib\\site-packages\\gymnasium\\wrappers\\order_enforcing.py\u001b[0m in \u001b[0;36mstep\u001b[1;34m(self, action)\u001b[0m\n\u001b[0;32m     54\u001b[0m         \u001b[1;32mif\u001b[0m \u001b[1;32mnot\u001b[0m \u001b[0mself\u001b[0m\u001b[1;33m.\u001b[0m\u001b[0m_has_reset\u001b[0m\u001b[1;33m:\u001b[0m\u001b[1;33m\u001b[0m\u001b[1;33m\u001b[0m\u001b[0m\n\u001b[0;32m     55\u001b[0m             \u001b[1;32mraise\u001b[0m \u001b[0mResetNeeded\u001b[0m\u001b[1;33m(\u001b[0m\u001b[1;34m\"Cannot call env.step() before calling env.reset()\"\u001b[0m\u001b[1;33m)\u001b[0m\u001b[1;33m\u001b[0m\u001b[1;33m\u001b[0m\u001b[0m\n\u001b[1;32m---> 56\u001b[1;33m         \u001b[1;32mreturn\u001b[0m \u001b[0mself\u001b[0m\u001b[1;33m.\u001b[0m\u001b[0menv\u001b[0m\u001b[1;33m.\u001b[0m\u001b[0mstep\u001b[0m\u001b[1;33m(\u001b[0m\u001b[0maction\u001b[0m\u001b[1;33m)\u001b[0m\u001b[1;33m\u001b[0m\u001b[1;33m\u001b[0m\u001b[0m\n\u001b[0m\u001b[0;32m     57\u001b[0m \u001b[1;33m\u001b[0m\u001b[0m\n\u001b[0;32m     58\u001b[0m     \u001b[1;32mdef\u001b[0m \u001b[0mreset\u001b[0m\u001b[1;33m(\u001b[0m\u001b[0mself\u001b[0m\u001b[1;33m,\u001b[0m \u001b[1;33m**\u001b[0m\u001b[0mkwargs\u001b[0m\u001b[1;33m)\u001b[0m\u001b[1;33m:\u001b[0m\u001b[1;33m\u001b[0m\u001b[1;33m\u001b[0m\u001b[0m\n",
      "\u001b[1;32m~\\anaconda3\\lib\\site-packages\\gymnasium\\wrappers\\env_checker.py\u001b[0m in \u001b[0;36mstep\u001b[1;34m(self, action)\u001b[0m\n\u001b[0;32m     47\u001b[0m             \u001b[1;32mreturn\u001b[0m \u001b[0menv_step_passive_checker\u001b[0m\u001b[1;33m(\u001b[0m\u001b[0mself\u001b[0m\u001b[1;33m.\u001b[0m\u001b[0menv\u001b[0m\u001b[1;33m,\u001b[0m \u001b[0maction\u001b[0m\u001b[1;33m)\u001b[0m\u001b[1;33m\u001b[0m\u001b[1;33m\u001b[0m\u001b[0m\n\u001b[0;32m     48\u001b[0m         \u001b[1;32melse\u001b[0m\u001b[1;33m:\u001b[0m\u001b[1;33m\u001b[0m\u001b[1;33m\u001b[0m\u001b[0m\n\u001b[1;32m---> 49\u001b[1;33m             \u001b[1;32mreturn\u001b[0m \u001b[0mself\u001b[0m\u001b[1;33m.\u001b[0m\u001b[0menv\u001b[0m\u001b[1;33m.\u001b[0m\u001b[0mstep\u001b[0m\u001b[1;33m(\u001b[0m\u001b[0maction\u001b[0m\u001b[1;33m)\u001b[0m\u001b[1;33m\u001b[0m\u001b[1;33m\u001b[0m\u001b[0m\n\u001b[0m\u001b[0;32m     50\u001b[0m \u001b[1;33m\u001b[0m\u001b[0m\n\u001b[0;32m     51\u001b[0m     \u001b[1;32mdef\u001b[0m \u001b[0mreset\u001b[0m\u001b[1;33m(\u001b[0m\u001b[0mself\u001b[0m\u001b[1;33m,\u001b[0m \u001b[1;33m**\u001b[0m\u001b[0mkwargs\u001b[0m\u001b[1;33m)\u001b[0m\u001b[1;33m:\u001b[0m\u001b[1;33m\u001b[0m\u001b[1;33m\u001b[0m\u001b[0m\n",
      "\u001b[1;32m~\\anaconda3\\lib\\site-packages\\gymnasium\\envs\\classic_control\\cartpole.py\u001b[0m in \u001b[0;36mstep\u001b[1;34m(self, action)\u001b[0m\n\u001b[0;32m    188\u001b[0m \u001b[1;33m\u001b[0m\u001b[0m\n\u001b[0;32m    189\u001b[0m         \u001b[1;32mif\u001b[0m \u001b[0mself\u001b[0m\u001b[1;33m.\u001b[0m\u001b[0mrender_mode\u001b[0m \u001b[1;33m==\u001b[0m \u001b[1;34m\"human\"\u001b[0m\u001b[1;33m:\u001b[0m\u001b[1;33m\u001b[0m\u001b[1;33m\u001b[0m\u001b[0m\n\u001b[1;32m--> 190\u001b[1;33m             \u001b[0mself\u001b[0m\u001b[1;33m.\u001b[0m\u001b[0mrender\u001b[0m\u001b[1;33m(\u001b[0m\u001b[1;33m)\u001b[0m\u001b[1;33m\u001b[0m\u001b[1;33m\u001b[0m\u001b[0m\n\u001b[0m\u001b[0;32m    191\u001b[0m         \u001b[1;32mreturn\u001b[0m \u001b[0mnp\u001b[0m\u001b[1;33m.\u001b[0m\u001b[0marray\u001b[0m\u001b[1;33m(\u001b[0m\u001b[0mself\u001b[0m\u001b[1;33m.\u001b[0m\u001b[0mstate\u001b[0m\u001b[1;33m,\u001b[0m \u001b[0mdtype\u001b[0m\u001b[1;33m=\u001b[0m\u001b[0mnp\u001b[0m\u001b[1;33m.\u001b[0m\u001b[0mfloat32\u001b[0m\u001b[1;33m)\u001b[0m\u001b[1;33m,\u001b[0m \u001b[0mreward\u001b[0m\u001b[1;33m,\u001b[0m \u001b[0mterminated\u001b[0m\u001b[1;33m,\u001b[0m \u001b[1;32mFalse\u001b[0m\u001b[1;33m,\u001b[0m \u001b[1;33m{\u001b[0m\u001b[1;33m}\u001b[0m\u001b[1;33m\u001b[0m\u001b[1;33m\u001b[0m\u001b[0m\n\u001b[0;32m    192\u001b[0m \u001b[1;33m\u001b[0m\u001b[0m\n",
      "\u001b[1;32m~\\anaconda3\\lib\\site-packages\\gymnasium\\envs\\classic_control\\cartpole.py\u001b[0m in \u001b[0;36mrender\u001b[1;34m(self)\u001b[0m\n\u001b[0;32m    300\u001b[0m         \u001b[1;32mif\u001b[0m \u001b[0mself\u001b[0m\u001b[1;33m.\u001b[0m\u001b[0mrender_mode\u001b[0m \u001b[1;33m==\u001b[0m \u001b[1;34m\"human\"\u001b[0m\u001b[1;33m:\u001b[0m\u001b[1;33m\u001b[0m\u001b[1;33m\u001b[0m\u001b[0m\n\u001b[0;32m    301\u001b[0m             \u001b[0mpygame\u001b[0m\u001b[1;33m.\u001b[0m\u001b[0mevent\u001b[0m\u001b[1;33m.\u001b[0m\u001b[0mpump\u001b[0m\u001b[1;33m(\u001b[0m\u001b[1;33m)\u001b[0m\u001b[1;33m\u001b[0m\u001b[1;33m\u001b[0m\u001b[0m\n\u001b[1;32m--> 302\u001b[1;33m             \u001b[0mself\u001b[0m\u001b[1;33m.\u001b[0m\u001b[0mclock\u001b[0m\u001b[1;33m.\u001b[0m\u001b[0mtick\u001b[0m\u001b[1;33m(\u001b[0m\u001b[0mself\u001b[0m\u001b[1;33m.\u001b[0m\u001b[0mmetadata\u001b[0m\u001b[1;33m[\u001b[0m\u001b[1;34m\"render_fps\"\u001b[0m\u001b[1;33m]\u001b[0m\u001b[1;33m)\u001b[0m\u001b[1;33m\u001b[0m\u001b[1;33m\u001b[0m\u001b[0m\n\u001b[0m\u001b[0;32m    303\u001b[0m             \u001b[0mpygame\u001b[0m\u001b[1;33m.\u001b[0m\u001b[0mdisplay\u001b[0m\u001b[1;33m.\u001b[0m\u001b[0mflip\u001b[0m\u001b[1;33m(\u001b[0m\u001b[1;33m)\u001b[0m\u001b[1;33m\u001b[0m\u001b[1;33m\u001b[0m\u001b[0m\n\u001b[0;32m    304\u001b[0m \u001b[1;33m\u001b[0m\u001b[0m\n",
      "\u001b[1;31mKeyboardInterrupt\u001b[0m: "
     ]
    }
   ],
   "source": [
    "env = gym.make('CartPole-v1',render_mode='human')\n",
    "Q=init_Q_400()\n",
    "policy=dict.fromkeys(states_400, 0)\n",
    "for i in range(0,10000):\n",
    "    Q_Learning_400(0.9,0.1)"
   ]
  },
  {
   "cell_type": "code",
   "execution_count": 10,
   "id": "223df6b1",
   "metadata": {},
   "outputs": [],
   "source": [
    "def Q_Learning_4096(gamma,alpha):\n",
    "    terminated=False\n",
    "    observation, info = env.reset()\n",
    "    observation=discretize_4096(observation)\n",
    "    while not terminated:\n",
    "        \n",
    "        action,_=eps_greedy(Q,observation,0.1)\n",
    "        \n",
    "        observation_, reward, terminated, truncated, info = env.step(action)\n",
    "        observation_=discretize_4096(observation_)\n",
    "        \n",
    "        Q_=key_max(Q[observation_])[1]\n",
    "\n",
    "        Q[observation][action]+=alpha*(reward+gamma*Q_-Q[observation][action])\n",
    "        observation=observation_"
   ]
  },
  {
   "cell_type": "code",
   "execution_count": 16,
   "id": "fa13d202",
   "metadata": {},
   "outputs": [],
   "source": [
    "from tqdm import tqdm"
   ]
  },
  {
   "cell_type": "code",
   "execution_count": 17,
   "id": "acafcfcd",
   "metadata": {},
   "outputs": [
    {
     "name": "stderr",
     "output_type": "stream",
     "text": [
      "100%|███████████████████████████████████████████████████████████████████████| 1000000/1000000 [24:05<00:00, 691.78it/s]\n"
     ]
    }
   ],
   "source": [
    "env = gym.make('CartPole-v1')\n",
    "Q=init_Q_4096()\n",
    "policy=dict.fromkeys(states_4096, 0)\n",
    "    \n",
    "for i in tqdm(range(int(1e6))):\n",
    "    Q_Learning_4096(0.9,0.1)"
   ]
  },
  {
   "cell_type": "code",
   "execution_count": 18,
   "id": "fbee4c7d",
   "metadata": {},
   "outputs": [],
   "source": [
    "for state_4096 in states_4096:\n",
    "    policy[state_4096],_=eps_greedy(Q,tuple(state_4096),0)"
   ]
  },
  {
   "cell_type": "code",
   "execution_count": 34,
   "id": "a3e09bbf",
   "metadata": {},
   "outputs": [
    {
     "ename": "KeyboardInterrupt",
     "evalue": "",
     "output_type": "error",
     "traceback": [
      "\u001b[1;31m---------------------------------------------------------------------------\u001b[0m",
      "\u001b[1;31mKeyboardInterrupt\u001b[0m                         Traceback (most recent call last)",
      "\u001b[1;32m~\\AppData\\Local\\Temp\\ipykernel_6460\\1628159352.py\u001b[0m in \u001b[0;36m<module>\u001b[1;34m\u001b[0m\n\u001b[0;32m      8\u001b[0m     \u001b[1;32mwhile\u001b[0m \u001b[1;32mTrue\u001b[0m\u001b[1;33m:\u001b[0m\u001b[1;33m\u001b[0m\u001b[1;33m\u001b[0m\u001b[0m\n\u001b[0;32m      9\u001b[0m         \u001b[0maction\u001b[0m \u001b[1;33m=\u001b[0m \u001b[0mpolicy\u001b[0m\u001b[1;33m[\u001b[0m\u001b[0mdiscretize_4096\u001b[0m\u001b[1;33m(\u001b[0m\u001b[0mobservation\u001b[0m\u001b[1;33m)\u001b[0m\u001b[1;33m]\u001b[0m\u001b[1;33m\u001b[0m\u001b[1;33m\u001b[0m\u001b[0m\n\u001b[1;32m---> 10\u001b[1;33m         \u001b[0mobservation\u001b[0m\u001b[1;33m,\u001b[0m \u001b[0mreward\u001b[0m\u001b[1;33m,\u001b[0m \u001b[0mterminated\u001b[0m\u001b[1;33m,\u001b[0m \u001b[0mtruncated\u001b[0m\u001b[1;33m,\u001b[0m \u001b[0minfo\u001b[0m \u001b[1;33m=\u001b[0m \u001b[0menv\u001b[0m\u001b[1;33m.\u001b[0m\u001b[0mstep\u001b[0m\u001b[1;33m(\u001b[0m\u001b[0maction\u001b[0m\u001b[1;33m)\u001b[0m\u001b[1;33m\u001b[0m\u001b[1;33m\u001b[0m\u001b[0m\n\u001b[0m\u001b[0;32m     11\u001b[0m         \u001b[0mr\u001b[0m\u001b[1;33m+=\u001b[0m\u001b[0mreward\u001b[0m\u001b[1;33m\u001b[0m\u001b[1;33m\u001b[0m\u001b[0m\n\u001b[0;32m     12\u001b[0m \u001b[1;33m\u001b[0m\u001b[0m\n",
      "\u001b[1;32m~\\anaconda3\\lib\\site-packages\\gymnasium\\wrappers\\time_limit.py\u001b[0m in \u001b[0;36mstep\u001b[1;34m(self, action)\u001b[0m\n\u001b[0;32m     55\u001b[0m \u001b[1;33m\u001b[0m\u001b[0m\n\u001b[0;32m     56\u001b[0m         \"\"\"\n\u001b[1;32m---> 57\u001b[1;33m         \u001b[0mobservation\u001b[0m\u001b[1;33m,\u001b[0m \u001b[0mreward\u001b[0m\u001b[1;33m,\u001b[0m \u001b[0mterminated\u001b[0m\u001b[1;33m,\u001b[0m \u001b[0mtruncated\u001b[0m\u001b[1;33m,\u001b[0m \u001b[0minfo\u001b[0m \u001b[1;33m=\u001b[0m \u001b[0mself\u001b[0m\u001b[1;33m.\u001b[0m\u001b[0menv\u001b[0m\u001b[1;33m.\u001b[0m\u001b[0mstep\u001b[0m\u001b[1;33m(\u001b[0m\u001b[0maction\u001b[0m\u001b[1;33m)\u001b[0m\u001b[1;33m\u001b[0m\u001b[1;33m\u001b[0m\u001b[0m\n\u001b[0m\u001b[0;32m     58\u001b[0m         \u001b[0mself\u001b[0m\u001b[1;33m.\u001b[0m\u001b[0m_elapsed_steps\u001b[0m \u001b[1;33m+=\u001b[0m \u001b[1;36m1\u001b[0m\u001b[1;33m\u001b[0m\u001b[1;33m\u001b[0m\u001b[0m\n\u001b[0;32m     59\u001b[0m \u001b[1;33m\u001b[0m\u001b[0m\n",
      "\u001b[1;32m~\\anaconda3\\lib\\site-packages\\gymnasium\\wrappers\\order_enforcing.py\u001b[0m in \u001b[0;36mstep\u001b[1;34m(self, action)\u001b[0m\n\u001b[0;32m     54\u001b[0m         \u001b[1;32mif\u001b[0m \u001b[1;32mnot\u001b[0m \u001b[0mself\u001b[0m\u001b[1;33m.\u001b[0m\u001b[0m_has_reset\u001b[0m\u001b[1;33m:\u001b[0m\u001b[1;33m\u001b[0m\u001b[1;33m\u001b[0m\u001b[0m\n\u001b[0;32m     55\u001b[0m             \u001b[1;32mraise\u001b[0m \u001b[0mResetNeeded\u001b[0m\u001b[1;33m(\u001b[0m\u001b[1;34m\"Cannot call env.step() before calling env.reset()\"\u001b[0m\u001b[1;33m)\u001b[0m\u001b[1;33m\u001b[0m\u001b[1;33m\u001b[0m\u001b[0m\n\u001b[1;32m---> 56\u001b[1;33m         \u001b[1;32mreturn\u001b[0m \u001b[0mself\u001b[0m\u001b[1;33m.\u001b[0m\u001b[0menv\u001b[0m\u001b[1;33m.\u001b[0m\u001b[0mstep\u001b[0m\u001b[1;33m(\u001b[0m\u001b[0maction\u001b[0m\u001b[1;33m)\u001b[0m\u001b[1;33m\u001b[0m\u001b[1;33m\u001b[0m\u001b[0m\n\u001b[0m\u001b[0;32m     57\u001b[0m \u001b[1;33m\u001b[0m\u001b[0m\n\u001b[0;32m     58\u001b[0m     \u001b[1;32mdef\u001b[0m \u001b[0mreset\u001b[0m\u001b[1;33m(\u001b[0m\u001b[0mself\u001b[0m\u001b[1;33m,\u001b[0m \u001b[1;33m**\u001b[0m\u001b[0mkwargs\u001b[0m\u001b[1;33m)\u001b[0m\u001b[1;33m:\u001b[0m\u001b[1;33m\u001b[0m\u001b[1;33m\u001b[0m\u001b[0m\n",
      "\u001b[1;32m~\\anaconda3\\lib\\site-packages\\gymnasium\\wrappers\\env_checker.py\u001b[0m in \u001b[0;36mstep\u001b[1;34m(self, action)\u001b[0m\n\u001b[0;32m     47\u001b[0m             \u001b[1;32mreturn\u001b[0m \u001b[0menv_step_passive_checker\u001b[0m\u001b[1;33m(\u001b[0m\u001b[0mself\u001b[0m\u001b[1;33m.\u001b[0m\u001b[0menv\u001b[0m\u001b[1;33m,\u001b[0m \u001b[0maction\u001b[0m\u001b[1;33m)\u001b[0m\u001b[1;33m\u001b[0m\u001b[1;33m\u001b[0m\u001b[0m\n\u001b[0;32m     48\u001b[0m         \u001b[1;32melse\u001b[0m\u001b[1;33m:\u001b[0m\u001b[1;33m\u001b[0m\u001b[1;33m\u001b[0m\u001b[0m\n\u001b[1;32m---> 49\u001b[1;33m             \u001b[1;32mreturn\u001b[0m \u001b[0mself\u001b[0m\u001b[1;33m.\u001b[0m\u001b[0menv\u001b[0m\u001b[1;33m.\u001b[0m\u001b[0mstep\u001b[0m\u001b[1;33m(\u001b[0m\u001b[0maction\u001b[0m\u001b[1;33m)\u001b[0m\u001b[1;33m\u001b[0m\u001b[1;33m\u001b[0m\u001b[0m\n\u001b[0m\u001b[0;32m     50\u001b[0m \u001b[1;33m\u001b[0m\u001b[0m\n\u001b[0;32m     51\u001b[0m     \u001b[1;32mdef\u001b[0m \u001b[0mreset\u001b[0m\u001b[1;33m(\u001b[0m\u001b[0mself\u001b[0m\u001b[1;33m,\u001b[0m \u001b[1;33m**\u001b[0m\u001b[0mkwargs\u001b[0m\u001b[1;33m)\u001b[0m\u001b[1;33m:\u001b[0m\u001b[1;33m\u001b[0m\u001b[1;33m\u001b[0m\u001b[0m\n",
      "\u001b[1;32m~\\anaconda3\\lib\\site-packages\\gymnasium\\envs\\classic_control\\cartpole.py\u001b[0m in \u001b[0;36mstep\u001b[1;34m(self, action)\u001b[0m\n\u001b[0;32m    188\u001b[0m \u001b[1;33m\u001b[0m\u001b[0m\n\u001b[0;32m    189\u001b[0m         \u001b[1;32mif\u001b[0m \u001b[0mself\u001b[0m\u001b[1;33m.\u001b[0m\u001b[0mrender_mode\u001b[0m \u001b[1;33m==\u001b[0m \u001b[1;34m\"human\"\u001b[0m\u001b[1;33m:\u001b[0m\u001b[1;33m\u001b[0m\u001b[1;33m\u001b[0m\u001b[0m\n\u001b[1;32m--> 190\u001b[1;33m             \u001b[0mself\u001b[0m\u001b[1;33m.\u001b[0m\u001b[0mrender\u001b[0m\u001b[1;33m(\u001b[0m\u001b[1;33m)\u001b[0m\u001b[1;33m\u001b[0m\u001b[1;33m\u001b[0m\u001b[0m\n\u001b[0m\u001b[0;32m    191\u001b[0m         \u001b[1;32mreturn\u001b[0m \u001b[0mnp\u001b[0m\u001b[1;33m.\u001b[0m\u001b[0marray\u001b[0m\u001b[1;33m(\u001b[0m\u001b[0mself\u001b[0m\u001b[1;33m.\u001b[0m\u001b[0mstate\u001b[0m\u001b[1;33m,\u001b[0m \u001b[0mdtype\u001b[0m\u001b[1;33m=\u001b[0m\u001b[0mnp\u001b[0m\u001b[1;33m.\u001b[0m\u001b[0mfloat32\u001b[0m\u001b[1;33m)\u001b[0m\u001b[1;33m,\u001b[0m \u001b[0mreward\u001b[0m\u001b[1;33m,\u001b[0m \u001b[0mterminated\u001b[0m\u001b[1;33m,\u001b[0m \u001b[1;32mFalse\u001b[0m\u001b[1;33m,\u001b[0m \u001b[1;33m{\u001b[0m\u001b[1;33m}\u001b[0m\u001b[1;33m\u001b[0m\u001b[1;33m\u001b[0m\u001b[0m\n\u001b[0;32m    192\u001b[0m \u001b[1;33m\u001b[0m\u001b[0m\n",
      "\u001b[1;32m~\\anaconda3\\lib\\site-packages\\gymnasium\\envs\\classic_control\\cartpole.py\u001b[0m in \u001b[0;36mrender\u001b[1;34m(self)\u001b[0m\n\u001b[0;32m    300\u001b[0m         \u001b[1;32mif\u001b[0m \u001b[0mself\u001b[0m\u001b[1;33m.\u001b[0m\u001b[0mrender_mode\u001b[0m \u001b[1;33m==\u001b[0m \u001b[1;34m\"human\"\u001b[0m\u001b[1;33m:\u001b[0m\u001b[1;33m\u001b[0m\u001b[1;33m\u001b[0m\u001b[0m\n\u001b[0;32m    301\u001b[0m             \u001b[0mpygame\u001b[0m\u001b[1;33m.\u001b[0m\u001b[0mevent\u001b[0m\u001b[1;33m.\u001b[0m\u001b[0mpump\u001b[0m\u001b[1;33m(\u001b[0m\u001b[1;33m)\u001b[0m\u001b[1;33m\u001b[0m\u001b[1;33m\u001b[0m\u001b[0m\n\u001b[1;32m--> 302\u001b[1;33m             \u001b[0mself\u001b[0m\u001b[1;33m.\u001b[0m\u001b[0mclock\u001b[0m\u001b[1;33m.\u001b[0m\u001b[0mtick\u001b[0m\u001b[1;33m(\u001b[0m\u001b[0mself\u001b[0m\u001b[1;33m.\u001b[0m\u001b[0mmetadata\u001b[0m\u001b[1;33m[\u001b[0m\u001b[1;34m\"render_fps\"\u001b[0m\u001b[1;33m]\u001b[0m\u001b[1;33m)\u001b[0m\u001b[1;33m\u001b[0m\u001b[1;33m\u001b[0m\u001b[0m\n\u001b[0m\u001b[0;32m    303\u001b[0m             \u001b[0mpygame\u001b[0m\u001b[1;33m.\u001b[0m\u001b[0mdisplay\u001b[0m\u001b[1;33m.\u001b[0m\u001b[0mflip\u001b[0m\u001b[1;33m(\u001b[0m\u001b[1;33m)\u001b[0m\u001b[1;33m\u001b[0m\u001b[1;33m\u001b[0m\u001b[0m\n\u001b[0;32m    304\u001b[0m \u001b[1;33m\u001b[0m\u001b[0m\n",
      "\u001b[1;31mKeyboardInterrupt\u001b[0m: "
     ]
    }
   ],
   "source": [
    "\n",
    "env = gym.make('CartPole-v1',render_mode=\"human\")\n",
    "\n",
    "\n",
    "rwds=[]\n",
    "for _ in range(100):\n",
    "    observation, info = env.reset()\n",
    "    r=0\n",
    "    while True:\n",
    "        action = policy[discretize_4096(observation)]\n",
    "        observation, reward, terminated, truncated, info = env.step(action)\n",
    "        r+=reward\n",
    "\n",
    "        if terminated or truncated:\n",
    "            observation, info = env.reset()\n",
    "            rwds.append(r)\n",
    "            break\n",
    "env.close()\n",
    "print(np.mean(rwds))"
   ]
  },
  {
   "cell_type": "code",
   "execution_count": 86,
   "id": "88514866-70f6-4ecf-81fc-d7ef7778551e",
   "metadata": {},
   "outputs": [],
   "source": [
    "#SARSA algorithm\n",
    "def SARSA_algorithm(num_episodes):\n",
    "    allowed_actions=[0,1]\n",
    "    # Variables: alpha, gamma y epsilon.\n",
    "    alpha = 0.3\n",
    "    gamma = 1\n",
    "    epsilon = 0.1\n",
    "    cont = 0\n",
    "    #Para 5000 episodios de entrenamiento\n",
    "    for i in range(num_episodes):\n",
    "        # Inicializa las variables para cada episodio\n",
    "        state=env.reset()\n",
    "        num_steps = 0\n",
    "        state = discretize(state[0])\n",
    "\n",
    "\n",
    "        # Seleccion accion \"a\" de forma epsilon-greedy\n",
    "        if epsilon< np.random.uniform():        \n",
    "            act_arg = np.array([Q_table[tuple(state), act] for act in range(2)])\n",
    "            action = allowed_actions[np.argmax(act_arg)]\n",
    "        else:\n",
    "            action = env.action_space.sample()\n",
    "\n",
    "        # Inicia el episodio\n",
    "        continue_episode = True\n",
    "        while continue_episode:        \n",
    "            # Obtengo s'\n",
    "            new_state, reward, done, _,_=env.step(action)\n",
    "            new_state = discretize(new_state)\n",
    "\n",
    "            # Revisa que new_state no sea un estado terminal\n",
    "            if done:\n",
    "                # Valor q(s',a') terminal\n",
    "                q_value_next_step = 0\n",
    "            else:\n",
    "                #Obtengo a' de s' con epsilon greedy\n",
    "                if epsilon< np.random.uniform():        \n",
    "                    act_arg = np.array([Q_table[tuple(state), act] for act in range(2)])\n",
    "                    new_action = allowed_actions[np.argmax(act_arg)]\n",
    "                else:\n",
    "                    new_action = env.action_space.sample()\n",
    "\n",
    "                # Valor q(s',a') no terminal\n",
    "                q_value_next_step = Q_table[tuple(new_state),new_action]\n",
    "\n",
    "\n",
    "            # Calculo de actualizacion q(s,a) <- q(s,a) + alpha*(R + gamma*q(s',a') - q(s,a))\n",
    "            Q_table[tuple(state), action] += alpha*(reward + gamma*q_value_next_step - Q_table[tuple(state),action])\n",
    "\n",
    "            # asigna a = a' y s = s'\n",
    "            state = new_state\n",
    "            action = new_action\n",
    "\n",
    "\n",
    "            # Parte que termina el episodio si se llega a algun estado terminal\n",
    "            if done:\n",
    "                continue_episode = False\n",
    "        cont+=1\n",
    "        if cont%100==0:\n",
    "            print(cont)"
   ]
  },
  {
   "cell_type": "markdown",
   "id": "3175e199-6c30-42f9-9445-b1fff097fda4",
   "metadata": {
    "tags": []
   },
   "source": [
    "## SARSA con 400 estados:"
   ]
  },
  {
   "cell_type": "code",
   "execution_count": 87,
   "id": "0fc496d6-4697-4c4b-99f3-3fd3d6c38ad6",
   "metadata": {},
   "outputs": [],
   "source": [
    "set_states()\n",
    "set_q_table()"
   ]
  },
  {
   "cell_type": "code",
   "execution_count": 88,
   "id": "5d518651-f58f-43e2-a852-ac711092fa7d",
   "metadata": {},
   "outputs": [
    {
     "name": "stdout",
     "output_type": "stream",
     "text": [
      "100\n",
      "200\n",
      "300\n",
      "400\n",
      "500\n",
      "600\n",
      "700\n",
      "800\n",
      "900\n",
      "1000\n",
      "1100\n",
      "1200\n",
      "1300\n",
      "1400\n",
      "1500\n",
      "1600\n",
      "1700\n",
      "1800\n",
      "1900\n",
      "2000\n",
      "2100\n",
      "2200\n",
      "2300\n",
      "2400\n",
      "2500\n",
      "2600\n",
      "2700\n",
      "2800\n",
      "2900\n",
      "3000\n",
      "3100\n",
      "3200\n",
      "3300\n",
      "3400\n",
      "3500\n",
      "3600\n",
      "3700\n",
      "3800\n",
      "3900\n",
      "4000\n",
      "4100\n",
      "4200\n",
      "4300\n",
      "4400\n",
      "4500\n",
      "4600\n",
      "4700\n",
      "4800\n",
      "4900\n",
      "5000\n"
     ]
    }
   ],
   "source": [
    "discrete_values = num_states(400)\n",
    "SARSA_algorithm(5000)"
   ]
  },
  {
   "cell_type": "code",
   "execution_count": 89,
   "id": "b49d541f-311e-4792-8d36-aeda32925164",
   "metadata": {},
   "outputs": [
    {
     "name": "stdout",
     "output_type": "stream",
     "text": [
      "---------------\n"
     ]
    }
   ],
   "source": [
    "allowed_actions= [0,1]\n",
    "prom=[]\n",
    "prom_rand=[]\n",
    "for i in range(100):\n",
    "    G_pi = 0\n",
    "    state =env.reset()\n",
    "    state = state[0]\n",
    "    state = discretize(state)\n",
    "    act_arg = np.array([Q_table[tuple(state), act] for act in range(2)])\n",
    "    action = allowed_actions[np.argmax(act_arg)]\n",
    "    done = False\n",
    "    n=1\n",
    "    while not done:\n",
    "        new_state, reward, done, _,_=env.step(action)\n",
    "        G_pi= G_pi + reward\n",
    "        discrete_state = discretize(new_state)\n",
    "        act_arg = np.array([Q_table[tuple(discrete_state), act] for act in range(2)])\n",
    "        action = allowed_actions[np.argmax(act_arg)]\n",
    "    prom.append(G_pi)\n",
    "print('---'*5)\n",
    "for i in range(100):\n",
    "    G_pi = 0\n",
    "    state =env.reset()\n",
    "    done = False\n",
    "    while not done:\n",
    "        action = env.action_space.sample()\n",
    "        new_state, reward, done, _,_=env.step(action)\n",
    "        G_pi= G_pi + reward\n",
    "    prom_rand.append(G_pi)"
   ]
  },
  {
   "cell_type": "code",
   "execution_count": 91,
   "id": "a01d842e-c241-4e90-a9d9-6090d2fb5168",
   "metadata": {},
   "outputs": [
    {
     "name": "stdout",
     "output_type": "stream",
     "text": [
      "Retorno obtenido con la funcion q: 130.72\n",
      "Retorno obtenido de acciones al azar: 19.66\n"
     ]
    }
   ],
   "source": [
    "print(\"Retorno obtenido con la funcion q:\",sum(prom)/len(prom))\n",
    "print(\"Retorno obtenido de acciones al azar:\",sum(prom_rand)/len(prom_rand))"
   ]
  },
  {
   "cell_type": "markdown",
   "id": "5914b0c8-5082-4b70-85fe-9f08941b6861",
   "metadata": {
    "tags": []
   },
   "source": [
    "## SARSA con 4000 estados:"
   ]
  },
  {
   "cell_type": "code",
   "execution_count": 4,
   "id": "971337c3-768a-4d8d-b63f-d2438646e77c",
   "metadata": {},
   "outputs": [],
   "source": [
    "set_states()\n",
    "set_q_table()"
   ]
  },
  {
   "cell_type": "code",
   "execution_count": 7,
   "id": "7bdedad1-20eb-4d8d-b297-1df3f77f6b10",
   "metadata": {},
   "outputs": [
    {
     "name": "stderr",
     "output_type": "stream",
     "text": [
      "C:\\Users\\Santiago\\miniconda3\\lib\\site-packages\\gym\\utils\\passive_env_checker.py:233: DeprecationWarning: `np.bool8` is a deprecated alias for `np.bool_`.  (Deprecated NumPy 1.24)\n",
      "  if not isinstance(terminated, (bool, np.bool8)):\n"
     ]
    },
    {
     "name": "stdout",
     "output_type": "stream",
     "text": [
      "100\n",
      "200\n",
      "300\n",
      "400\n",
      "500\n",
      "600\n",
      "700\n",
      "800\n",
      "900\n",
      "1000\n"
     ]
    }
   ],
   "source": [
    "discrete_values = num_states(4000)\n",
    "SARSA_algorithm(1000)"
   ]
  },
  {
   "cell_type": "code",
   "execution_count": 11,
   "id": "5a0343b9-09a1-4d69-b6ef-493b6207eaac",
   "metadata": {},
   "outputs": [
    {
     "name": "stdout",
     "output_type": "stream",
     "text": [
      "---------------\n"
     ]
    }
   ],
   "source": [
    "prom=[]\n",
    "prom_rand=[]\n",
    "allowed_actions= [0,1]\n",
    "for i in range(100):\n",
    "    G_pi = 0\n",
    "    state =env.reset()\n",
    "    state = state[0]\n",
    "    state = discretize(state)\n",
    "    act_arg = np.array([Q_table[tuple(state), act] for act in range(2)])\n",
    "    action = allowed_actions[np.argmax(act_arg)]\n",
    "    done = False\n",
    "    n=1\n",
    "    while not done:\n",
    "        new_state, reward, done, _,_=env.step(action)\n",
    "        G_pi= G_pi + reward\n",
    "        discrete_state = discretize(new_state)\n",
    "        act_arg = np.array([Q_table[tuple(discrete_state), act] for act in range(2)])\n",
    "        action = allowed_actions[np.argmax(act_arg)]\n",
    "    prom.append(G_pi)\n",
    "print('---'*5)\n",
    "for i in range(100):\n",
    "    G_pi = 0\n",
    "    state =env.reset()\n",
    "    done = False\n",
    "    while not done:\n",
    "        action = env.action_space.sample()\n",
    "        new_state, reward, done, _,_=env.step(action)\n",
    "        G_pi= G_pi + reward\n",
    "    prom_rand.append(G_pi)"
   ]
  },
  {
   "cell_type": "code",
   "execution_count": 12,
   "id": "b6d949d9-15ed-4c55-a0ec-90bb45d23a81",
   "metadata": {},
   "outputs": [
    {
     "name": "stdout",
     "output_type": "stream",
     "text": [
      "Retorno obtenido con la funcion q: 218.33\n",
      "Retorno obtenido de acciones al azar: 21.88\n"
     ]
    }
   ],
   "source": [
    "print(\"Retorno obtenido con la funcion q:\",sum(prom)/len(prom))\n",
    "print(\"Retorno obtenido de acciones al azar:\",sum(prom_rand)/len(prom_rand))"
   ]
  },
  {
   "cell_type": "code",
   "execution_count": 13,
   "id": "4cb52627-a4a1-46ec-9b80-21647b9c7315",
   "metadata": {},
   "outputs": [],
   "source": [
    "env.close()"
   ]
  }
 ],
 "metadata": {
  "kernelspec": {
   "display_name": "Python 3 (ipykernel)",
   "language": "python",
   "name": "python3"
  },
  "language_info": {
   "codemirror_mode": {
    "name": "ipython",
    "version": 3
   },
   "file_extension": ".py",
   "mimetype": "text/x-python",
   "name": "python",
   "nbconvert_exporter": "python",
   "pygments_lexer": "ipython3",
   "version": "3.9.13"
  }
 },
 "nbformat": 4,
 "nbformat_minor": 5
}
