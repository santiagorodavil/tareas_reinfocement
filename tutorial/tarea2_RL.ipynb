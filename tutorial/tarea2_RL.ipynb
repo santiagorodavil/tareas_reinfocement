{
 "cells": [
  {
   "cell_type": "markdown",
   "id": "d029d717-83de-4e39-a182-2dee3655a743",
   "metadata": {
    "tags": []
   },
   "source": [
    "# Escaleras y serpientes (tarea 2 RL)\n"
   ]
  },
  {
   "cell_type": "markdown",
   "id": "afa37429-1137-4d82-9e58-d2704d6bcd6f",
   "metadata": {},
   "source": [
    "<center>\n",
    "    <img src=\"img_hw2/escalera.png\" alt=\"centered image\" width=300/>\n",
    "</center>"
   ]
  },
  {
   "cell_type": "markdown",
   "id": "135a5403-3512-4b92-83a3-3ff4cf9dee99",
   "metadata": {},
   "source": [
    "Se tiene el siguiente juego de escalera, hay serpientes que hacen descender y escaleras que hacen ascender. Los puntos rojos y verdes son casillas en donde se va a terminar el juego, si cae en la casilla roja se pierde la partida, si cae en la casilla azul se gana la partida.\n",
    "\n",
    "La idea es utilizar diferentes métodos de aprendizaje por refuerzo para ver cómo se comporta con el juego."
   ]
  },
  {
   "cell_type": "markdown",
   "id": "6695a129-50e6-4d3a-b063-3cad4b2637f0",
   "metadata": {
    "tags": []
   },
   "source": [
    "### Reglas del juego"
   ]
  },
  {
   "cell_type": "markdown",
   "id": "4301781c-3089-49c5-8fb9-3553e5a4487e",
   "metadata": {},
   "source": [
    "* El jugador decide si avanzar o retroceder la cantidad de casillas que indique el dado **Antes** de lanzarlo\n",
    "* Si se llega a uno de los bordes de la escalera (1 o 100), el jugador \"rebotará\" en las casillas y retrocederá o avanzará (dependiendo el caso) el número de casillas restantes."
   ]
  },
  {
   "cell_type": "markdown",
   "id": "5505c47c-9bab-4fcb-9822-7818a8da2367",
   "metadata": {
    "tags": []
   },
   "source": [
    "## Modelado como MDP"
   ]
  },
  {
   "cell_type": "markdown",
   "id": "02b779d2-5512-4aa1-a66a-d95a367933c6",
   "metadata": {},
   "source": [
    "Este juego posee las siguientes características:\n",
    "\n",
    "* Estados -> 100. Estos corresponden a las posiciones posibles del tablero. Cuando el agente llega al inicio de una escalera o en la cabeza de una serpiente, el estado al que va a seguir el agente va a ser desde el otro lado de la escalera/serpiente. \n",
    "* Recompensas -> 1. si el jugador llega a un punto azul, -1 si el jugador llega a un punto rojo. 0 de lo contrario.\n",
    "* Acciones -> 2. El agente solo se puede mover en dos direcciones: adelante (aumentando casillas) o atrás (retrocediendo)."
   ]
  },
  {
   "cell_type": "markdown",
   "id": "345ef443-bb0c-4c1a-98b4-b39d6dc616d0",
   "metadata": {},
   "source": [
    "Lo primero que se debe hacer es importar el módulo realizado para la solución de la tarea y crear el tablero. Siempre va a ser un tablero de 100 casillas, pero es posible cambiar tanto las esca"
   ]
  },
  {
   "cell_type": "code",
   "execution_count": 1,
   "id": "a0985241-b1ba-47d6-a1e7-bcaeabff4bdd",
   "metadata": {},
   "outputs": [],
   "source": [
    "from game_hw2 import Game_hw2\n",
    "\n",
    "snakes = [(73,1), (46,5), (55,7), (48,9), (52,11), (59,17), (83,19), (44,22), (95,24), (98,28), (69,33), (64,36), (92,51)]\n",
    "stairs = [(8,26), (21,82), (43,77), (50,91), (54,93), (62,96), (66,87), (80,100)]\n",
    "goals =[80, 100] \n",
    "fails =[23, 37, 45, 67, 89] \n",
    "gw = Game_hw2(goals = goals, fails = fails, snakes = snakes, stairs = stairs)"
   ]
  },
  {
   "cell_type": "markdown",
   "id": "a280fd3e-858d-459a-a154-f50a5ca354ff",
   "metadata": {},
   "source": [
    "Probar función de pasos para estados resultantes:"
   ]
  },
  {
   "cell_type": "code",
   "execution_count": 8,
   "id": "71e87f78-a86a-46a8-b1f2-9cf09b9be91c",
   "metadata": {},
   "outputs": [
    {
     "name": "stdout",
     "output_type": "stream",
     "text": [
      "10 0 Ad False 5\n"
     ]
    }
   ],
   "source": [
    "start_point = 5\n",
    "valor_dado = 5\n",
    "next_state, reward, _, done, dice = gw.step(start_point, 'Ad', dice = valor_dado) \n",
    "\n",
    "print(next_state, reward, _, done, dice)"
   ]
  },
  {
   "cell_type": "markdown",
   "id": "afbcc800-7694-4fd4-9f12-252c77f99388",
   "metadata": {},
   "source": [
    "Probar función de pasos para acciones del agente.\n",
    "\n",
    "Estructura de retorno:\n",
    "* Estado siguiente, recompensa estado, Accion tomada, Estado terminal, valor del dado lanzado"
   ]
  },
  {
   "cell_type": "code",
   "execution_count": 9,
   "id": "62d9e3d9-3b92-48b4-a701-675d188dcbd2",
   "metadata": {},
   "outputs": [
    {
     "name": "stdout",
     "output_type": "stream",
     "text": [
      "(99, 0, 'Ad', False, 1)\n",
      "(99, 0, 'Ad', False, 1)\n",
      "(97, 0, 'Ad', False, 5)\n",
      "(99, 0, 'Ad', False, 3)\n",
      "(99, 0, 'Ad', False, 3)\n",
      "(97, 0, 'Ad', False, 5)\n",
      "(100, 1, 'Ad', True, 2)\n",
      "(100, 1, 'Ad', True, 2)\n",
      "(28, 0, 'Ad', False, 4)\n",
      "(99, 0, 'Ad', False, 3)\n",
      "(99, 0, 'Ad', False, 1)\n",
      "(97, 0, 'Ad', False, 5)\n",
      "(99, 0, 'Ad', False, 1)\n",
      "(97, 0, 'Ad', False, 5)\n",
      "(97, 0, 'Ad', False, 5)\n",
      "(100, 1, 'Ad', True, 2)\n",
      "(100, 1, 'Ad', True, 2)\n",
      "(96, 0, 'Ad', False, 6)\n"
     ]
    }
   ],
   "source": [
    "state_prueba=98\n",
    "action_prueba='Ad'\n",
    "for i in range(6*3):\n",
    "    print(gw.step(state_prueba, action_prueba))"
   ]
  },
  {
   "cell_type": "markdown",
   "id": "56f28607-529b-409a-9ee3-dcf5cccaa03b",
   "metadata": {},
   "source": [
    "## Algoritmo Value iteration"
   ]
  },
  {
   "cell_type": "code",
   "execution_count": 2,
   "id": "54799eb4-5cbe-4806-8742-03eb826aa584",
   "metadata": {},
   "outputs": [],
   "source": [
    "def value_iteration(gw, gamma):\n",
    "    # for que recorre todos los estados\n",
    "    for state in range(1,101):\n",
    "        q = {'Ad': 0,\n",
    "             'At': 0}\n",
    "        # for que ingresa a todas las posibles acciones del estado (Ad, At)\n",
    "        for posible_action in gw.probabilities[state]:\n",
    "            # vector que tiene los 6 posibles resultados de la accion actual (1-6, val dados)\n",
    "            current_action = gw.probabilities[state][posible_action]\n",
    "            total_sum_action =[]\n",
    "            \n",
    "            # for que revisa cada posible resultado del dado\n",
    "            dice = 1\n",
    "            for action in current_action:\n",
    "                # Da un paso hacia la direccion Posible_action con el valor del dado dice\n",
    "                new_state, reward, _, done, dice = gw.step(state, posible_action, dice = dice)\n",
    "                if (state in gw.goals): total_sum_action = [gw.goal_rew]\n",
    "                elif state in gw.fails: total_sum_action = [gw.fail_rew]\n",
    "                else:\n",
    "                    total_sum_action.append(reward+action[0]*(gamma*gw.state_values[new_state]))\n",
    "                   \n",
    "                dice+=1\n",
    "            # Suma todos los valores obtenidos en cada estado y le asigna a q[stado_actual] el valor maximo\n",
    "            q[posible_action] = sum(total_sum_action)\n",
    "            # Coloca en la politica el valor maximo de la accion (si fue Ad o At)\n",
    "            max_value = max(q, key=q.get)\n",
    "            \n",
    "            # Asigna el valor maximo de la politica\n",
    "            gw.policy[state] = max(q, key=q.get)\n",
    "            gw.state_values[state] = q[max_value]\n",
    "        \n"
   ]
  },
  {
   "cell_type": "markdown",
   "id": "698aa4ea-b4df-4a4c-baea-a9d63554726a",
   "metadata": {},
   "source": [
    "Prueba del algoritmo *Value iteration*"
   ]
  },
  {
   "cell_type": "code",
   "execution_count": 3,
   "id": "d21bf907-628a-46b1-b19c-6851cf528653",
   "metadata": {},
   "outputs": [],
   "source": [
    "gamma = 0.9\n",
    "H = 90\n",
    "for i in range(H):\n",
    "    value_iteration(gw,0.9)\n"
   ]
  },
  {
   "cell_type": "code",
   "execution_count": 4,
   "id": "584c2dad-751f-4ca1-9a86-ca125682b94a",
   "metadata": {},
   "outputs": [
    {
     "name": "stdout",
     "output_type": "stream",
     "text": [
      "V(1) = -3.470\n",
      "V(2) = -3.017\n",
      "V(3) = -2.966\n",
      "V(4) = -2.915\n",
      "V(5) = -3.353\n",
      "V(6) = -3.411\n",
      "V(7) = -3.470\n",
      "V(8) = -3.470\n",
      "V(9) = -3.523\n",
      "V(10) = -3.546\n",
      "V(11) = -3.523\n",
      "V(12) = -3.503\n",
      "V(13) = -3.486\n",
      "V(14) = -3.471\n",
      "V(15) = -2.827\n",
      "V(16) = -2.827\n",
      "V(17) = -3.372\n",
      "V(18) = -3.372\n",
      "V(19) = -3.372\n",
      "V(20) = -3.372\n",
      "V(21) = -3.471\n",
      "V(22) = -2.827\n",
      "V(23) = -1.000\n",
      "V(24) = -3.372\n",
      "V(25) = -3.372\n",
      "V(26) = -3.372\n",
      "V(27) = -3.372\n",
      "V(28) = -4.097\n",
      "V(29) = -4.286\n",
      "V(30) = -3.881\n",
      "V(31) = -3.957\n",
      "V(32) = -4.045\n",
      "V(33) = -4.146\n",
      "V(34) = -4.262\n",
      "V(35) = -4.286\n",
      "V(36) = -4.202\n",
      "V(37) = -1.000\n",
      "V(38) = -3.001\n",
      "V(39) = -3.522\n",
      "V(40) = -3.500\n",
      "V(41) = -3.492\n",
      "V(42) = -3.496\n",
      "V(43) = -4.113\n",
      "V(44) = -3.027\n",
      "V(45) = -1.000\n",
      "V(46) = -3.442\n",
      "V(47) = -3.437\n",
      "V(48) = -3.253\n",
      "V(49) = -3.281\n",
      "V(50) = -3.492\n",
      "V(51) = -3.446\n",
      "V(52) = -3.410\n",
      "V(53) = -3.405\n",
      "V(54) = -3.437\n",
      "V(55) = -3.253\n",
      "V(56) = -3.143\n",
      "V(57) = -3.143\n",
      "V(58) = -3.281\n",
      "V(59) = -3.181\n",
      "V(60) = -2.804\n",
      "V(61) = -3.352\n",
      "V(62) = -3.455\n",
      "V(63) = -3.143\n",
      "V(64) = -3.058\n",
      "V(65) = -2.707\n",
      "V(66) = -2.695\n",
      "V(67) = -1.000\n",
      "V(68) = -1.692\n",
      "V(69) = -0.850\n",
      "V(70) = -0.548\n",
      "V(71) = -0.368\n",
      "V(72) = -0.211\n",
      "V(73) = 0.434\n",
      "V(74) = 1.465\n",
      "V(75) = 1.465\n",
      "V(76) = 1.465\n",
      "V(77) = 0.834\n",
      "V(78) = 0.834\n",
      "V(79) = 0.834\n",
      "V(80) = 1.000\n",
      "V(81) = 1.465\n",
      "V(82) = 1.465\n",
      "V(83) = 1.465\n",
      "V(84) = 0.834\n",
      "V(85) = 0.834\n",
      "V(86) = 0.834\n",
      "V(87) = -0.291\n",
      "V(88) = -0.555\n",
      "V(89) = -1.000\n",
      "V(90) = -1.402\n",
      "V(91) = -1.737\n",
      "V(92) = -2.123\n",
      "V(93) = -2.293\n",
      "V(94) = -0.907\n",
      "V(95) = -0.537\n",
      "V(96) = -1.001\n",
      "V(97) = -1.001\n",
      "V(98) = -0.537\n",
      "V(99) = -0.907\n",
      "V(100) = 1.000\n"
     ]
    }
   ],
   "source": [
    "for state in range(1,101):\n",
    "    print(f'V({state}) = {gw.state_values[state]:.3f}')\n"
   ]
  },
  {
   "cell_type": "code",
   "execution_count": 5,
   "id": "74fc9a7d-2f14-44ab-9dc1-f914d5d8c97a",
   "metadata": {},
   "outputs": [
    {
     "name": "stdout",
     "output_type": "stream",
     "text": [
      "{1: 'Ad', 2: 'At', 3: 'At', 4: 'At', 5: 'At', 6: 'At', 7: 'At', 8: 'At', 9: 'At', 10: 'Ad', 11: 'Ad', 12: 'Ad', 13: 'Ad', 14: 'Ad', 15: 'Ad', 16: 'Ad', 17: 'Ad', 18: 'Ad', 19: 'Ad', 20: 'Ad', 21: 'At', 22: 'At', 23: 'Ad', 24: 'At', 25: 'At', 26: 'At', 27: 'At', 28: 'At', 29: 'Ad', 30: 'At', 31: 'At', 32: 'At', 33: 'At', 34: 'At', 35: 'At', 36: 'Ad', 37: 'Ad', 38: 'Ad', 39: 'Ad', 40: 'Ad', 41: 'Ad', 42: 'Ad', 43: 'Ad', 44: 'At', 45: 'Ad', 46: 'Ad', 47: 'Ad', 48: 'Ad', 49: 'Ad', 50: 'Ad', 51: 'Ad', 52: 'Ad', 53: 'Ad', 54: 'At', 55: 'At', 56: 'Ad', 57: 'Ad', 58: 'Ad', 59: 'Ad', 60: 'Ad', 61: 'Ad', 62: 'Ad', 63: 'At', 64: 'Ad', 65: 'Ad', 66: 'Ad', 67: 'Ad', 68: 'Ad', 69: 'Ad', 70: 'Ad', 71: 'Ad', 72: 'Ad', 73: 'Ad', 74: 'Ad', 75: 'Ad', 76: 'Ad', 77: 'Ad', 78: 'Ad', 79: 'Ad', 80: 'Ad', 81: 'At', 82: 'At', 83: 'At', 84: 'At', 85: 'At', 86: 'At', 87: 'At', 88: 'At', 89: 'Ad', 90: 'At', 91: 'At', 92: 'At', 93: 'Ad', 94: 'Ad', 95: 'Ad', 96: 'Ad', 97: 'Ad', 98: 'Ad', 99: 'Ad', 100: 'Ad'}\n"
     ]
    }
   ],
   "source": [
    "print(gw.policy)"
   ]
  },
  {
   "cell_type": "code",
   "execution_count": 17,
   "id": "4bcad6cc-bca8-445f-a62e-9e57d0429983",
   "metadata": {},
   "outputs": [
    {
     "name": "stdout",
     "output_type": "stream",
     "text": [
      "\n"
     ]
    }
   ],
   "source": [
    "\"\"\"\n",
    "Pruebas para hacer lo de rebote\n",
    "a = 95\n",
    "pasos = []\n",
    "for i in range(a,101):\n",
    "    for dice in range(1,7):\n",
    "        if i+dice>=101:\n",
    "            print(\"casilla: \"+ str(i)+\" _ \"+ \"dado: \"+str(dice))\n",
    "            print(\"estoy en \",i+dice, \" voy a moverme a\", 100 - (i+dice -100)) \n",
    "            print(\"-\"*20)\n",
    "\n",
    "a = 6\n",
    "for i in range(a,0,-1):\n",
    "    for dice in range(1,7):\n",
    "        if i-dice<=0:\n",
    "            print('casilla: '+str(i)+\" _ \"+'dado: '+str(dice))\n",
    "            print('Estoy en ', i-dice, 'voy a moverme a', abs(i-dice)+2)\n",
    "            print(\"-\"*20)\n",
    "\"\"\"\n",
    "print(\"\")"
   ]
  }
 ],
 "metadata": {
  "kernelspec": {
   "display_name": "Python 3 (ipykernel)",
   "language": "python",
   "name": "python3"
  },
  "language_info": {
   "codemirror_mode": {
    "name": "ipython",
    "version": 3
   },
   "file_extension": ".py",
   "mimetype": "text/x-python",
   "name": "python",
   "nbconvert_exporter": "python",
   "pygments_lexer": "ipython3",
   "version": "3.10.8"
  }
 },
 "nbformat": 4,
 "nbformat_minor": 5
}
