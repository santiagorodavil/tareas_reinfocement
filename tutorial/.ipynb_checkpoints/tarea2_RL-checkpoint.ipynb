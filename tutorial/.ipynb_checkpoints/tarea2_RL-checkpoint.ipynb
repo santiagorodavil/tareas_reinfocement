{
 "cells": [
  {
   "cell_type": "markdown",
   "id": "d029d717-83de-4e39-a182-2dee3655a743",
   "metadata": {
    "tags": []
   },
   "source": [
    "# Escaleras y serpientes (tarea 2 RL)\n"
   ]
  },
  {
   "cell_type": "markdown",
   "id": "135a5403-3512-4b92-83a3-3ff4cf9dee99",
   "metadata": {},
   "source": [
    "Se va a asumir que las escaleras y las serpientes no van a cambiar de posición. Los puntos rojos y azules si pueden cambiar de posición."
   ]
  },
  {
   "cell_type": "code",
   "execution_count": 7,
   "id": "6d500723-ef6e-4914-b0ad-83caa565f926",
   "metadata": {},
   "outputs": [
    {
     "name": "stdout",
     "output_type": "stream",
     "text": [
      "tablero:\n"
     ]
    },
    {
     "data": {
      "text/plain": [
       "[[1, 2, 3, 4, 5, 6, 7, 8, 9, 10],\n",
       " [11, 12, 13, 14, 15, 16, 17, 18, 19, 20],\n",
       " [21, 22, 23, 24, 25, 26, 27, 28, 29, 30],\n",
       " [31, 32, 33, 34, 35, 36, 37, 38, 39, 40],\n",
       " [41, 42, 43, 44, 45, 46, 47, 48, 49, 50],\n",
       " [51, 52, 53, 54, 55, 56, 57, 58, 59, 60],\n",
       " [61, 62, 63, 64, 65, 66, 67, 68, 69, 70],\n",
       " [71, 72, 73, 74, 75, 76, 77, 78, 79, 80],\n",
       " [81, 82, 83, 84, 85, 86, 87, 88, 89, 90],\n",
       " [91, 92, 93, 94, 95, 96, 97, 98, 99, 100]]"
      ]
     },
     "execution_count": 7,
     "metadata": {},
     "output_type": "execute_result"
    }
   ],
   "source": [
    "#Crear el tablero\n",
    "snakes = [(73,1), (46,5), (55,7), (48,9), (52,11), (59,17), (83,19), (44,22), (95,24), (98,28), (69,33), (64,36), (92,51)]\n",
    "stairs = [(8,26), (21,82), (43,77), (50,91), (54,93), (62,96), (66,87), (80,100)]\n",
    "goals =[80, 100] # En el modulo esto debe poder cambiarse\n",
    "fails =[23, 37, 45, 67, 89] # En el modulo esto debe poder cambiarse\n",
    "states = []\n",
    "value = 0\n",
    "for n in range(10):\n",
    "    row = []\n",
    "    for i in range(10):\n",
    "        value+=1        \n",
    "        row.append(value)\n",
    "    states.append(row)\n",
    "print(\"tablero:\")\n",
    "states"
   ]
  },
  {
   "cell_type": "code",
   "execution_count": 3,
   "id": "317590bf-a1be-4947-aea3-f2d37d3932d5",
   "metadata": {},
   "outputs": [],
   "source": [
    "# Diccionario de probabilidades adelante/atrás\n",
    "\n",
    "# Estructura-> casilla actual: probabilidad, casilla de llegada (segun el valor del dado), Recompensa.\n",
    "# Como se lanza 1 dado, la probabilidad siempre es de 1/6 para cualquiera de los resultados. \n",
    "prob = {}\n",
    "p_caida = 1/6\n",
    "reward = 0\n",
    "goal_rew = 100\n",
    "fail_rew = -100\n",
    "for row in states:\n",
    "    for index in row:  \n",
    "        mov_prob = {'Ad':[],'At':[]}\n",
    "        for dice in range(1,7):\n",
    "            # casilla de llegada si elijo adelante(ad)/atras(at)\n",
    "            cas_lleg_ad = index+dice\n",
    "            cas_lleg_at = index-dice\n",
    "            \n",
    "            # Si llega a salirse del borde, se hace rebotar\n",
    "            if cas_lleg_ad >=101:\n",
    "                cas_lleg_ad = 100 - (index+dice -100)\n",
    "\n",
    "            elif cas_lleg_at <= 0:\n",
    "                cas_lleg_at = abs(index-dice)+2\n",
    "\n",
    "            #asignar casilla llegada en caso de que sea sepriente\n",
    "            for snake in snakes:\n",
    "                if cas_lleg_ad == max(snake):\n",
    "                    #print(cas_lleg_ad)\n",
    "                    cas_lleg_ad = min(snake)\n",
    "                elif cas_lleg_at == max(snake):\n",
    "                    cas_lleg_at = min(snake)\n",
    "\n",
    "            #asignar casilla llegada en caso de que sea escalera\n",
    "            for stair in stairs:\n",
    "                if cas_lleg_ad == min(stair):\n",
    "                    cas_lleg_ad = max(stair)\n",
    "                elif cas_lleg_at == min(stair):\n",
    "                    cas_lleg_at = max(stair)\n",
    "            \n",
    "            # Asigna recompensa a la respectiva casilla de llegada (normal, goal o fail)\n",
    "            if cas_lleg_ad in goals: current_rew_ad = goal_rew\n",
    "            elif cas_lleg_ad in fails: current_rew_ad = fail_rew\n",
    "            else: current_rew_ad = reward\n",
    "            \n",
    "            if cas_lleg_at in goals: current_rew_at = goal_rew\n",
    "            elif cas_lleg_at in fails: current_rew_at = fail_rew\n",
    "            else: current_rew_at = reward\n",
    "            \n",
    "            # Se le asigna a \n",
    "            mov_prob['Ad'].append([p_caida, cas_lleg_ad, current_rew_ad])\n",
    "            mov_prob['At'].append([p_caida, cas_lleg_at, current_rew_at])\n",
    "        prob[index] = mov_prob\n",
    "            \n"
   ]
  },
  {
   "cell_type": "code",
   "execution_count": null,
   "id": "d3fa1561-a039-48b3-a371-43aeeefd3509",
   "metadata": {},
   "outputs": [],
   "source": []
  },
  {
   "cell_type": "code",
   "execution_count": 31,
   "id": "a0985241-b1ba-47d6-a1e7-bcaeabff4bdd",
   "metadata": {},
   "outputs": [
    {
     "ename": "ImportError",
     "evalue": "cannot import name 'Game_hw2' from 'game_hw2' (C:\\Users\\Santiago\\OneDrive - Universidad de los Andes\\Ingenieria_Electronica\\2023\\reinforcement\\tutorial\\game_hw2.py)",
     "output_type": "error",
     "traceback": [
      "\u001b[1;31m---------------------------------------------------------------------------\u001b[0m",
      "\u001b[1;31mImportError\u001b[0m                               Traceback (most recent call last)",
      "Cell \u001b[1;32mIn[31], line 1\u001b[0m\n\u001b[1;32m----> 1\u001b[0m \u001b[38;5;28;01mfrom\u001b[39;00m \u001b[38;5;21;01mgame_hw2\u001b[39;00m \u001b[38;5;28;01mimport\u001b[39;00m Game_hw2\n\u001b[0;32m      3\u001b[0m gw \u001b[38;5;241m=\u001b[39m Game_hw2(goals \u001b[38;5;241m=\u001b[39m goals, fails \u001b[38;5;241m=\u001b[39m fails)\n",
      "\u001b[1;31mImportError\u001b[0m: cannot import name 'Game_hw2' from 'game_hw2' (C:\\Users\\Santiago\\OneDrive - Universidad de los Andes\\Ingenieria_Electronica\\2023\\reinforcement\\tutorial\\game_hw2.py)"
     ]
    }
   ],
   "source": [
    "from game_hw2 import Game_hw2\n",
    "\n",
    "gw = Game_hw2(goals = goals, fails = fails)"
   ]
  },
  {
   "cell_type": "code",
   "execution_count": null,
   "id": "71e87f78-a86a-46a8-b1f2-9cf09b9be91c",
   "metadata": {},
   "outputs": [],
   "source": []
  },
  {
   "cell_type": "code",
   "execution_count": null,
   "id": "a041232b-6bf3-4db9-8f0e-a9dbea0d9fbb",
   "metadata": {},
   "outputs": [],
   "source": []
  },
  {
   "cell_type": "code",
   "execution_count": null,
   "id": "88db4078-d5ad-4b30-80ca-3d16deca7e71",
   "metadata": {},
   "outputs": [],
   "source": []
  },
  {
   "cell_type": "code",
   "execution_count": null,
   "id": "ab6a7082-0520-419b-9bf3-a961446b7413",
   "metadata": {},
   "outputs": [],
   "source": []
  },
  {
   "cell_type": "code",
   "execution_count": 8,
   "id": "4bcad6cc-bca8-445f-a62e-9e57d0429983",
   "metadata": {},
   "outputs": [
    {
     "data": {
      "text/plain": [
       "{'Ad': [[0.16666666666666666, 88, 0],\n",
       "  [0.16666666666666666, 89, -100],\n",
       "  [0.16666666666666666, 90, 0],\n",
       "  [0.16666666666666666, 91, 0],\n",
       "  [0.16666666666666666, 51, 0],\n",
       "  [0.16666666666666666, 93, 0]],\n",
       " 'At': [[0.16666666666666666, 86, 0],\n",
       "  [0.16666666666666666, 85, 0],\n",
       "  [0.16666666666666666, 84, 0],\n",
       "  [0.16666666666666666, 19, 0],\n",
       "  [0.16666666666666666, 82, 0],\n",
       "  [0.16666666666666666, 81, 0]]}"
      ]
     },
     "execution_count": 8,
     "metadata": {},
     "output_type": "execute_result"
    }
   ],
   "source": [
    "\"\"\"\n",
    "Pruebas para hacer lo de rebote\n",
    "a = 95\n",
    "pasos = []\n",
    "for i in range(a,101):\n",
    "    for dice in range(1,7):\n",
    "        if i+dice>=101:\n",
    "            print(\"casilla: \"+ str(i)+\" _ \"+ \"dado: \"+str(dice))\n",
    "            print(\"estoy en \",i+dice, \" voy a moverme a\", 100 - (i+dice -100)) \n",
    "            print(\"-\"*20)\n",
    "\n",
    "a = 6\n",
    "for i in range(a,0,-1):\n",
    "    for dice in range(1,7):\n",
    "        if i-dice<=0:\n",
    "            print('casilla: '+str(i)+\" _ \"+'dado: '+str(dice))\n",
    "            print('Estoy en ', i-dice, 'voy a moverme a', abs(i-dice)+2)\n",
    "            print(\"-\"*20)\n",
    "\"\"\"\n",
    "prob[87]\n",
    "\n"
   ]
  }
 ],
 "metadata": {
  "kernelspec": {
   "display_name": "Python 3 (ipykernel)",
   "language": "python",
   "name": "python3"
  },
  "language_info": {
   "codemirror_mode": {
    "name": "ipython",
    "version": 3
   },
   "file_extension": ".py",
   "mimetype": "text/x-python",
   "name": "python",
   "nbconvert_exporter": "python",
   "pygments_lexer": "ipython3",
   "version": "3.10.8"
  }
 },
 "nbformat": 4,
 "nbformat_minor": 5
}
