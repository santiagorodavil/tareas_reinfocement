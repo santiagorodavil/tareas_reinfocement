{
 "cells": [
  {
   "cell_type": "code",
   "execution_count": 47,
   "id": "59c1c20a",
   "metadata": {},
   "outputs": [],
   "source": [
    "from types import MethodType\n",
    "from escalerasyserpientes import EscalerasSerpientes\n",
    "import copy\n",
    "import numpy as np"
   ]
  },
  {
   "cell_type": "markdown",
   "id": "ed9be020",
   "metadata": {},
   "source": [
    "Inicializar el MDP:"
   ]
  },
  {
   "cell_type": "code",
   "execution_count": 16,
   "id": "75920e46",
   "metadata": {},
   "outputs": [],
   "source": [
    "es=EscalerasSerpientes([80,100],[23,37,45,67,89],0)"
   ]
  },
  {
   "cell_type": "markdown",
   "id": "38bdd571",
   "metadata": {},
   "source": [
    "Visuaizar estados:"
   ]
  },
  {
   "cell_type": "code",
   "execution_count": 17,
   "id": "16757cc0",
   "metadata": {},
   "outputs": [
    {
     "name": "stdout",
     "output_type": "stream",
     "text": [
      "[1, 2, 3, 4, 5, 6, 7, 8, 9, 10, 11, 12, 13, 14, 15, 16, 17, 18, 19, 20, 21, 22, 23, 24, 25, 26, 27, 28, 29, 30, 31, 32, 33, 34, 35, 36, 37, 38, 39, 40, 41, 42, 43, 44, 45, 46, 47, 48, 49, 50, 51, 52, 53, 54, 55, 56, 57, 58, 59, 60, 61, 62, 63, 64, 65, 66, 67, 68, 69, 70, 71, 72, 73, 74, 75, 76, 77, 78, 79, 80, 81, 82, 83, 84, 85, 86, 87, 88, 89, 90, 91, 92, 93, 94, 95, 96, 97, 98, 99, 100]\n"
     ]
    }
   ],
   "source": [
    "print(es.states)"
   ]
  },
  {
   "cell_type": "markdown",
   "id": "da771157",
   "metadata": {},
   "source": [
    "Visualizar la política"
   ]
  },
  {
   "cell_type": "code",
   "execution_count": 18,
   "id": "2f7be134",
   "metadata": {},
   "outputs": [
    {
     "name": "stdout",
     "output_type": "stream",
     "text": [
      "{1: 'Ad', 2: 'Ad', 3: 'Ad', 4: 'Ad', 5: 'Ad', 6: 'Ad', 7: 'Ad', 8: 'Ad', 9: 'Ad', 10: 'Ad', 11: 'Ad', 12: 'Ad', 13: 'Ad', 14: 'Ad', 15: 'Ad', 16: 'Ad', 17: 'Ad', 18: 'Ad', 19: 'Ad', 20: 'Ad', 21: 'Ad', 22: 'Ad', 23: 'Ad', 24: 'Ad', 25: 'Ad', 26: 'Ad', 27: 'Ad', 28: 'Ad', 29: 'Ad', 30: 'Ad', 31: 'Ad', 32: 'Ad', 33: 'Ad', 34: 'Ad', 35: 'Ad', 36: 'Ad', 37: 'Ad', 38: 'Ad', 39: 'Ad', 40: 'Ad', 41: 'Ad', 42: 'Ad', 43: 'Ad', 44: 'Ad', 45: 'Ad', 46: 'Ad', 47: 'Ad', 48: 'Ad', 49: 'Ad', 50: 'Ad', 51: 'Ad', 52: 'Ad', 53: 'Ad', 54: 'Ad', 55: 'Ad', 56: 'Ad', 57: 'Ad', 58: 'Ad', 59: 'Ad', 60: 'Ad', 61: 'Ad', 62: 'Ad', 63: 'Ad', 64: 'Ad', 65: 'Ad', 66: 'Ad', 67: 'Ad', 68: 'Ad', 69: 'Ad', 70: 'Ad', 71: 'Ad', 72: 'Ad', 73: 'Ad', 74: 'Ad', 75: 'Ad', 76: 'Ad', 77: 'Ad', 78: 'Ad', 79: 'Ad', 80: 'Ad', 81: 'Ad', 82: 'Ad', 83: 'Ad', 84: 'Ad', 85: 'Ad', 86: 'Ad', 87: 'Ad', 88: 'Ad', 89: 'Ad', 90: 'Ad', 91: 'Ad', 92: 'Ad', 93: 'Ad', 94: 'Ad', 95: 'Ad', 96: 'Ad', 97: 'Ad', 98: 'Ad', 99: 'Ad', 100: 'Ad'}\n"
     ]
    }
   ],
   "source": [
    "print(es.policy)"
   ]
  },
  {
   "cell_type": "markdown",
   "id": "8dd3626a",
   "metadata": {},
   "source": [
    "Probar función de pasos para estados resultantes:"
   ]
  },
  {
   "cell_type": "code",
   "execution_count": 41,
   "id": "922a2865",
   "metadata": {},
   "outputs": [
    {
     "name": "stdout",
     "output_type": "stream",
     "text": [
      "(97, 0, 5, False)\n"
     ]
    }
   ],
   "source": [
    "state_prueba=98\n",
    "action_prueba=5\n",
    "print(es.step(state_prueba, action_prueba, random=False))"
   ]
  },
  {
   "cell_type": "markdown",
   "id": "e3fb7c09",
   "metadata": {},
   "source": [
    "Probar función de pasos para acciones del agente:"
   ]
  },
  {
   "cell_type": "code",
   "execution_count": 45,
   "id": "e0a8e40a",
   "metadata": {},
   "outputs": [
    {
     "name": "stdout",
     "output_type": "stream",
     "text": [
      "(97, 0, 5, False)\n",
      "(100, 0, 2, False)\n",
      "(96, 0, 6, False)\n",
      "(99, 0, 3, False)\n",
      "(99, 0, 3, False)\n",
      "(96, 0, 6, False)\n",
      "(96, 0, 6, False)\n",
      "(99, 0, 3, False)\n",
      "(97, 0, 5, False)\n",
      "(99, 0, 3, False)\n",
      "(99, 0, 3, False)\n",
      "(28, 0, 4, False)\n",
      "(97, 0, 5, False)\n",
      "(97, 0, 5, False)\n",
      "(99, 0, 3, False)\n",
      "(28, 0, 4, False)\n",
      "(28, 0, 4, False)\n",
      "(99, 0, 3, False)\n"
     ]
    }
   ],
   "source": [
    "state_prueba=98\n",
    "action_prueba='Ad'\n",
    "for i in range(6*3):\n",
    "    print(es.step(state_prueba, action_prueba, random=True))\n"
   ]
  },
  {
   "cell_type": "markdown",
   "id": "6a7d7c2a",
   "metadata": {},
   "source": [
    "Actualización de valores:"
   ]
  },
  {
   "cell_type": "code",
   "execution_count": 31,
   "id": "826b3169",
   "metadata": {},
   "outputs": [],
   "source": [
    "def update_values(es, gamma):\n",
    "    # Arreglos para los valores\n",
    "    value = dict.fromkeys(es.states , 0.0)\n",
    "    new_values = dict.fromkeys(es.states , 0.0)\n",
    "    \n",
    "    for state in es.states: \n",
    "        if state in es.snakes:\n",
    "            new_values[state]=es.state_values[es.snakes[state]]\n",
    "        elif state in es.stairs:\n",
    "            new_values[state]=es.state_values[es.stairs[state]]\n",
    "        else:\n",
    "            # Tomar acción de politica dada\n",
    "            action = es.policy[state]\n",
    "            prob=es.action_probabilities[0]\n",
    "            \n",
    "            real_actions=es.real_actions[action]\n",
    "            for real_action in real_actions:\n",
    "                # Dar un paso\n",
    "                new_state, reward, _, done = es.step(state, real_action, random=False)\n",
    "                # Actualizar valores\n",
    "                if(done):\n",
    "                    # actualización para un estado terminal\n",
    "                    new_values[state] = reward\n",
    "                else:\n",
    "                    # actualización para un estado no terminal\n",
    "                    new_values[state] += prob*(reward + gamma*es.state_values[new_state]) #borrar\n",
    "\n",
    "    # Copiar valores\n",
    "    value = copy.deepcopy(new_values) \n",
    "    es.state_values = copy.deepcopy(new_values) "
   ]
  },
  {
   "cell_type": "markdown",
   "id": "856a6eb3",
   "metadata": {},
   "source": [
    "Gamma en 0.9, horizonte en 2 y política siempre adelante"
   ]
  },
  {
   "cell_type": "code",
   "execution_count": 37,
   "id": "3b031fef",
   "metadata": {},
   "outputs": [],
   "source": [
    "gamma = 0.9\n",
    "H = 2"
   ]
  },
  {
   "cell_type": "markdown",
   "id": "093d6275",
   "metadata": {},
   "source": [
    "Inicializa valores y corre programación dinámica"
   ]
  },
  {
   "cell_type": "code",
   "execution_count": 38,
   "id": "196ac5d2",
   "metadata": {
    "scrolled": true
   },
   "outputs": [],
   "source": [
    "es.state_values=es.init_values()\n",
    "es.update_values = MethodType(update_values, es)\n",
    "es.solve_dynamic_programming(gamma=gamma, horizon=H)"
   ]
  },
  {
   "cell_type": "markdown",
   "id": "f8f27633",
   "metadata": {},
   "source": [
    "Función de valor:"
   ]
  },
  {
   "cell_type": "code",
   "execution_count": 40,
   "id": "ae627731",
   "metadata": {},
   "outputs": [
    {
     "name": "stdout",
     "output_type": "stream",
     "text": [
      "V(1) = 0.000\n",
      "V(2) = 0.000\n",
      "V(3) = 0.000\n",
      "V(4) = 0.000\n",
      "V(5) = 0.000\n",
      "V(6) = 0.000\n",
      "V(7) = 0.000\n",
      "V(8) = 0.000\n",
      "V(9) = 0.000\n",
      "V(10) = 0.000\n",
      "V(11) = 0.000\n",
      "V(12) = 0.000\n",
      "V(13) = 0.000\n",
      "V(14) = 0.000\n",
      "V(15) = 0.000\n",
      "V(16) = 0.000\n",
      "V(17) = -0.150\n",
      "V(18) = -0.150\n",
      "V(19) = -0.150\n",
      "V(20) = -0.150\n",
      "V(21) = 0.000\n",
      "V(22) = -0.150\n",
      "V(23) = -1.000\n",
      "V(24) = 0.000\n",
      "V(25) = 0.000\n",
      "V(26) = 0.000\n",
      "V(27) = 0.000\n",
      "V(28) = 0.000\n",
      "V(29) = 0.000\n",
      "V(30) = 0.000\n",
      "V(31) = -0.150\n",
      "V(32) = -0.150\n",
      "V(33) = -0.150\n",
      "V(34) = -0.150\n",
      "V(35) = -0.150\n",
      "V(36) = -0.150\n",
      "V(37) = -1.000\n",
      "V(38) = 0.000\n",
      "V(39) = -0.150\n",
      "V(40) = -0.150\n",
      "V(41) = -0.150\n",
      "V(42) = -0.150\n",
      "V(43) = 0.000\n",
      "V(44) = 0.000\n",
      "V(45) = -1.000\n",
      "V(46) = 0.000\n",
      "V(47) = 0.000\n",
      "V(48) = 0.000\n",
      "V(49) = 0.000\n",
      "V(50) = 0.000\n",
      "V(51) = 0.000\n",
      "V(52) = 0.000\n",
      "V(53) = 0.000\n",
      "V(54) = 0.000\n",
      "V(55) = 0.000\n",
      "V(56) = 0.000\n",
      "V(57) = 0.000\n",
      "V(58) = 0.000\n",
      "V(59) = 0.000\n",
      "V(60) = 0.000\n",
      "V(61) = -0.150\n",
      "V(62) = 0.000\n",
      "V(63) = -0.150\n",
      "V(64) = 0.000\n",
      "V(65) = -0.150\n",
      "V(66) = 0.000\n",
      "V(67) = -1.000\n",
      "V(68) = 0.000\n",
      "V(69) = 0.000\n",
      "V(70) = 0.000\n",
      "V(71) = 0.000\n",
      "V(72) = 0.000\n",
      "V(73) = 0.000\n",
      "V(74) = 0.150\n",
      "V(75) = 0.150\n",
      "V(76) = 0.150\n",
      "V(77) = 0.150\n",
      "V(78) = 0.150\n",
      "V(79) = 0.150\n",
      "V(80) = 1.000\n",
      "V(81) = 0.000\n",
      "V(82) = 0.000\n",
      "V(83) = 0.000\n",
      "V(84) = -0.150\n",
      "V(85) = -0.150\n",
      "V(86) = -0.150\n",
      "V(87) = -0.150\n",
      "V(88) = -0.150\n",
      "V(89) = -1.000\n",
      "V(90) = 0.000\n",
      "V(91) = 0.000\n",
      "V(92) = 0.000\n",
      "V(93) = 0.000\n",
      "V(94) = 0.150\n",
      "V(95) = 0.000\n",
      "V(96) = 0.150\n",
      "V(97) = 0.150\n",
      "V(98) = 0.000\n",
      "V(99) = 0.150\n",
      "V(100) = 1.000\n"
     ]
    }
   ],
   "source": [
    "for state in es.states:\n",
    "    print(f'V({state}) = {es.state_values[state]:.3f}')"
   ]
  },
  {
   "cell_type": "markdown",
   "id": "49af1701",
   "metadata": {},
   "source": [
    "otra política:"
   ]
  },
  {
   "cell_type": "code",
   "execution_count": 48,
   "id": "672b651f",
   "metadata": {},
   "outputs": [],
   "source": [
    "for i in es.policy: \n",
    "    rand=np.random.uniform()\n",
    "    if rand<0.5:\n",
    "        es.policy[i]='Ad'\n",
    "    else:\n",
    "        es.policy[i]='At'"
   ]
  },
  {
   "cell_type": "code",
   "execution_count": 49,
   "id": "143952e4",
   "metadata": {},
   "outputs": [
    {
     "name": "stdout",
     "output_type": "stream",
     "text": [
      "{1: 'Ad', 2: 'Ad', 3: 'At', 4: 'Ad', 5: 'Ad', 6: 'Ad', 7: 'At', 8: 'Ad', 9: 'At', 10: 'Ad', 11: 'At', 12: 'Ad', 13: 'At', 14: 'At', 15: 'Ad', 16: 'At', 17: 'At', 18: 'Ad', 19: 'Ad', 20: 'At', 21: 'Ad', 22: 'At', 23: 'Ad', 24: 'Ad', 25: 'Ad', 26: 'Ad', 27: 'Ad', 28: 'At', 29: 'Ad', 30: 'Ad', 31: 'At', 32: 'Ad', 33: 'Ad', 34: 'Ad', 35: 'At', 36: 'At', 37: 'Ad', 38: 'At', 39: 'At', 40: 'At', 41: 'At', 42: 'At', 43: 'Ad', 44: 'Ad', 45: 'Ad', 46: 'Ad', 47: 'Ad', 48: 'At', 49: 'At', 50: 'Ad', 51: 'Ad', 52: 'At', 53: 'At', 54: 'At', 55: 'Ad', 56: 'At', 57: 'At', 58: 'Ad', 59: 'Ad', 60: 'At', 61: 'Ad', 62: 'At', 63: 'Ad', 64: 'At', 65: 'Ad', 66: 'At', 67: 'At', 68: 'Ad', 69: 'At', 70: 'Ad', 71: 'Ad', 72: 'At', 73: 'At', 74: 'Ad', 75: 'At', 76: 'Ad', 77: 'Ad', 78: 'Ad', 79: 'At', 80: 'Ad', 81: 'Ad', 82: 'At', 83: 'At', 84: 'At', 85: 'Ad', 86: 'At', 87: 'At', 88: 'At', 89: 'Ad', 90: 'Ad', 91: 'At', 92: 'At', 93: 'At', 94: 'At', 95: 'Ad', 96: 'Ad', 97: 'At', 98: 'At', 99: 'At', 100: 'At'}\n"
     ]
    }
   ],
   "source": [
    "print(es.policy)"
   ]
  },
  {
   "cell_type": "code",
   "execution_count": 50,
   "id": "0c9d0c19",
   "metadata": {},
   "outputs": [],
   "source": [
    "gamma = 0.9\n",
    "H = 2"
   ]
  },
  {
   "cell_type": "code",
   "execution_count": 51,
   "id": "7ea999a7",
   "metadata": {},
   "outputs": [],
   "source": [
    "es.state_values=es.init_values()\n",
    "es.update_values = MethodType(update_values, es)\n",
    "es.solve_dynamic_programming(gamma=gamma, horizon=H)"
   ]
  },
  {
   "cell_type": "code",
   "execution_count": 52,
   "id": "d9e638f3",
   "metadata": {},
   "outputs": [
    {
     "name": "stdout",
     "output_type": "stream",
     "text": [
      "V(1) = 0.000\n",
      "V(2) = 0.000\n",
      "V(3) = 0.000\n",
      "V(4) = 0.000\n",
      "V(5) = 0.000\n",
      "V(6) = 0.000\n",
      "V(7) = 0.000\n",
      "V(8) = 0.000\n",
      "V(9) = 0.000\n",
      "V(10) = 0.000\n",
      "V(11) = 0.000\n",
      "V(12) = 0.000\n",
      "V(13) = 0.000\n",
      "V(14) = 0.000\n",
      "V(15) = 0.000\n",
      "V(16) = 0.000\n",
      "V(17) = 0.000\n",
      "V(18) = -0.150\n",
      "V(19) = -0.150\n",
      "V(20) = 0.000\n",
      "V(21) = 0.000\n",
      "V(22) = 0.000\n",
      "V(23) = -1.000\n",
      "V(24) = 0.000\n",
      "V(25) = 0.000\n",
      "V(26) = 0.000\n",
      "V(27) = 0.000\n",
      "V(28) = -0.150\n",
      "V(29) = 0.000\n",
      "V(30) = 0.000\n",
      "V(31) = 0.000\n",
      "V(32) = -0.150\n",
      "V(33) = -0.150\n",
      "V(34) = -0.150\n",
      "V(35) = 0.000\n",
      "V(36) = 0.000\n",
      "V(37) = -1.000\n",
      "V(38) = -0.150\n",
      "V(39) = -0.150\n",
      "V(40) = 0.000\n",
      "V(41) = 0.000\n",
      "V(42) = -0.150\n",
      "V(43) = 0.000\n",
      "V(44) = 0.000\n",
      "V(45) = -1.000\n",
      "V(46) = 0.000\n",
      "V(47) = 0.000\n",
      "V(48) = 0.000\n",
      "V(49) = 0.000\n",
      "V(50) = 0.000\n",
      "V(51) = 0.000\n",
      "V(52) = 0.000\n",
      "V(53) = 0.000\n",
      "V(54) = 0.000\n",
      "V(55) = 0.000\n",
      "V(56) = 0.000\n",
      "V(57) = 0.000\n",
      "V(58) = 0.000\n",
      "V(59) = 0.000\n",
      "V(60) = 0.000\n",
      "V(61) = -0.150\n",
      "V(62) = 0.000\n",
      "V(63) = -0.150\n",
      "V(64) = 0.000\n",
      "V(65) = -0.150\n",
      "V(66) = 0.000\n",
      "V(67) = -1.000\n",
      "V(68) = 0.000\n",
      "V(69) = 0.000\n",
      "V(70) = 0.000\n",
      "V(71) = 0.000\n",
      "V(72) = -0.150\n",
      "V(73) = 0.000\n",
      "V(74) = 0.150\n",
      "V(75) = 0.000\n",
      "V(76) = 0.150\n",
      "V(77) = 0.150\n",
      "V(78) = 0.150\n",
      "V(79) = 0.000\n",
      "V(80) = 1.000\n",
      "V(81) = 0.000\n",
      "V(82) = 0.150\n",
      "V(83) = 0.000\n",
      "V(84) = 0.000\n",
      "V(85) = -0.150\n",
      "V(86) = 0.150\n",
      "V(87) = 0.150\n",
      "V(88) = 0.000\n",
      "V(89) = -1.000\n",
      "V(90) = 0.000\n",
      "V(91) = -0.150\n",
      "V(92) = 0.000\n",
      "V(93) = 0.000\n",
      "V(94) = -0.150\n",
      "V(95) = 0.000\n",
      "V(96) = 0.150\n",
      "V(97) = 0.000\n",
      "V(98) = 0.000\n",
      "V(99) = 0.000\n",
      "V(100) = 1.000\n"
     ]
    }
   ],
   "source": [
    "for state in es.states:\n",
    "    print(f'V({state}) = {es.state_values[state]:.3f}')"
   ]
  },
  {
   "cell_type": "raw",
   "id": "23dfb211",
   "metadata": {},
   "source": [
    "Otros valores de gamma:"
   ]
  },
  {
   "cell_type": "code",
   "execution_count": 53,
   "id": "fdc7c356",
   "metadata": {},
   "outputs": [
    {
     "name": "stdout",
     "output_type": "stream",
     "text": [
      "V(1) = 0.000\n",
      "V(2) = 0.000\n",
      "V(3) = 0.000\n",
      "V(4) = 0.000\n",
      "V(5) = 0.000\n",
      "V(6) = 0.000\n",
      "V(7) = 0.000\n",
      "V(8) = 0.000\n",
      "V(9) = 0.000\n",
      "V(10) = 0.000\n",
      "V(11) = 0.000\n",
      "V(12) = 0.000\n",
      "V(13) = 0.000\n",
      "V(14) = 0.000\n",
      "V(15) = 0.000\n",
      "V(16) = 0.000\n",
      "V(17) = -0.158\n",
      "V(18) = -0.158\n",
      "V(19) = -0.158\n",
      "V(20) = -0.158\n",
      "V(21) = 0.000\n",
      "V(22) = -0.158\n",
      "V(23) = -1.000\n",
      "V(24) = 0.000\n",
      "V(25) = 0.000\n",
      "V(26) = 0.000\n",
      "V(27) = 0.000\n",
      "V(28) = 0.000\n",
      "V(29) = 0.000\n",
      "V(30) = 0.000\n",
      "V(31) = -0.158\n",
      "V(32) = -0.158\n",
      "V(33) = -0.158\n",
      "V(34) = -0.158\n",
      "V(35) = -0.158\n",
      "V(36) = -0.158\n",
      "V(37) = -1.000\n",
      "V(38) = 0.000\n",
      "V(39) = -0.158\n",
      "V(40) = -0.158\n",
      "V(41) = -0.158\n",
      "V(42) = -0.158\n",
      "V(43) = 0.000\n",
      "V(44) = 0.000\n",
      "V(45) = -1.000\n",
      "V(46) = 0.000\n",
      "V(47) = 0.000\n",
      "V(48) = 0.000\n",
      "V(49) = 0.000\n",
      "V(50) = 0.000\n",
      "V(51) = 0.000\n",
      "V(52) = 0.000\n",
      "V(53) = 0.000\n",
      "V(54) = 0.000\n",
      "V(55) = 0.000\n",
      "V(56) = 0.000\n",
      "V(57) = 0.000\n",
      "V(58) = 0.000\n",
      "V(59) = 0.000\n",
      "V(60) = 0.000\n",
      "V(61) = -0.158\n",
      "V(62) = 0.000\n",
      "V(63) = -0.158\n",
      "V(64) = 0.000\n",
      "V(65) = -0.158\n",
      "V(66) = 0.000\n",
      "V(67) = -1.000\n",
      "V(68) = 0.000\n",
      "V(69) = 0.000\n",
      "V(70) = 0.000\n",
      "V(71) = 0.000\n",
      "V(72) = 0.000\n",
      "V(73) = 0.000\n",
      "V(74) = 0.158\n",
      "V(75) = 0.158\n",
      "V(76) = 0.158\n",
      "V(77) = 0.158\n",
      "V(78) = 0.158\n",
      "V(79) = 0.158\n",
      "V(80) = 1.000\n",
      "V(81) = 0.000\n",
      "V(82) = 0.000\n",
      "V(83) = 0.000\n",
      "V(84) = -0.158\n",
      "V(85) = -0.158\n",
      "V(86) = -0.158\n",
      "V(87) = -0.158\n",
      "V(88) = -0.158\n",
      "V(89) = -1.000\n",
      "V(90) = 0.000\n",
      "V(91) = 0.000\n",
      "V(92) = 0.000\n",
      "V(93) = 0.000\n",
      "V(94) = 0.158\n",
      "V(95) = 0.000\n",
      "V(96) = 0.158\n",
      "V(97) = 0.158\n",
      "V(98) = 0.000\n",
      "V(99) = 0.158\n",
      "V(100) = 1.000\n"
     ]
    }
   ],
   "source": [
    "gamma = 0.95\n",
    "H = 2\n",
    "for i in es.policy: \n",
    "    es.policy[i]='Ad'\n",
    "es.state_values=es.init_values()\n",
    "es.update_values = MethodType(update_values, es)\n",
    "es.solve_dynamic_programming(gamma=gamma, horizon=H)\n",
    "\n",
    "for state in es.states:\n",
    "    print(f'V({state}) = {es.state_values[state]:.3f}')"
   ]
  },
  {
   "cell_type": "code",
   "execution_count": 54,
   "id": "6be6003b",
   "metadata": {},
   "outputs": [
    {
     "name": "stdout",
     "output_type": "stream",
     "text": [
      "V(1) = 0.000\n",
      "V(2) = 0.000\n",
      "V(3) = 0.000\n",
      "V(4) = 0.000\n",
      "V(5) = 0.000\n",
      "V(6) = 0.000\n",
      "V(7) = 0.000\n",
      "V(8) = 0.000\n",
      "V(9) = 0.000\n",
      "V(10) = 0.000\n",
      "V(11) = 0.000\n",
      "V(12) = 0.000\n",
      "V(13) = 0.000\n",
      "V(14) = 0.000\n",
      "V(15) = 0.000\n",
      "V(16) = 0.000\n",
      "V(17) = 0.000\n",
      "V(18) = -0.158\n",
      "V(19) = 0.000\n",
      "V(20) = 0.000\n",
      "V(21) = 0.000\n",
      "V(22) = 0.000\n",
      "V(23) = -1.000\n",
      "V(24) = -0.158\n",
      "V(25) = 0.000\n",
      "V(26) = 0.000\n",
      "V(27) = 0.000\n",
      "V(28) = 0.000\n",
      "V(29) = 0.000\n",
      "V(30) = -0.158\n",
      "V(31) = 0.000\n",
      "V(32) = -0.158\n",
      "V(33) = -0.158\n",
      "V(34) = 0.000\n",
      "V(35) = -0.158\n",
      "V(36) = -0.158\n",
      "V(37) = -1.000\n",
      "V(38) = 0.000\n",
      "V(39) = -0.158\n",
      "V(40) = -0.158\n",
      "V(41) = -0.158\n",
      "V(42) = -0.158\n",
      "V(43) = 0.000\n",
      "V(44) = 0.000\n",
      "V(45) = -1.000\n",
      "V(46) = 0.000\n",
      "V(47) = -0.158\n",
      "V(48) = 0.000\n",
      "V(49) = 0.000\n",
      "V(50) = 0.000\n",
      "V(51) = -0.158\n",
      "V(52) = 0.000\n",
      "V(53) = 0.000\n",
      "V(54) = 0.000\n",
      "V(55) = 0.000\n",
      "V(56) = 0.000\n",
      "V(57) = 0.000\n",
      "V(58) = 0.000\n",
      "V(59) = 0.000\n",
      "V(60) = 0.000\n",
      "V(61) = 0.000\n",
      "V(62) = 0.000\n",
      "V(63) = 0.000\n",
      "V(64) = 0.000\n",
      "V(65) = 0.000\n",
      "V(66) = 0.000\n",
      "V(67) = -1.000\n",
      "V(68) = -0.158\n",
      "V(69) = 0.000\n",
      "V(70) = 0.000\n",
      "V(71) = 0.000\n",
      "V(72) = 0.000\n",
      "V(73) = 0.000\n",
      "V(74) = -0.158\n",
      "V(75) = 0.000\n",
      "V(76) = 0.158\n",
      "V(77) = 0.158\n",
      "V(78) = 0.000\n",
      "V(79) = 0.000\n",
      "V(80) = 1.000\n",
      "V(81) = 0.158\n",
      "V(82) = 0.000\n",
      "V(83) = 0.000\n",
      "V(84) = 0.000\n",
      "V(85) = -0.158\n",
      "V(86) = -0.158\n",
      "V(87) = 0.158\n",
      "V(88) = -0.158\n",
      "V(89) = -1.000\n",
      "V(90) = 0.000\n",
      "V(91) = 0.000\n",
      "V(92) = 0.000\n",
      "V(93) = 0.000\n",
      "V(94) = -0.158\n",
      "V(95) = 0.000\n",
      "V(96) = 0.158\n",
      "V(97) = 0.000\n",
      "V(98) = 0.000\n",
      "V(99) = 0.000\n",
      "V(100) = 1.000\n"
     ]
    }
   ],
   "source": [
    "gamma = 0.95\n",
    "H = 2\n",
    "for i in es.policy: \n",
    "    rand=np.random.uniform()\n",
    "    if rand<0.5:\n",
    "        es.policy[i]='Ad'\n",
    "    else:\n",
    "        es.policy[i]='At'\n",
    "es.state_values=es.init_values()\n",
    "es.update_values = MethodType(update_values, es)\n",
    "es.solve_dynamic_programming(gamma=gamma, horizon=H)\n",
    "\n",
    "for state in es.states:\n",
    "    print(f'V({state}) = {es.state_values[state]:.3f}')"
   ]
  }
 ],
 "metadata": {
  "kernelspec": {
   "display_name": "Python 3 (ipykernel)",
   "language": "python",
   "name": "python3"
  },
  "language_info": {
   "codemirror_mode": {
    "name": "ipython",
    "version": 3
   },
   "file_extension": ".py",
   "mimetype": "text/x-python",
   "name": "python",
   "nbconvert_exporter": "python",
   "pygments_lexer": "ipython3",
   "version": "3.8.16"
  }
 },
 "nbformat": 4,
 "nbformat_minor": 5
}
