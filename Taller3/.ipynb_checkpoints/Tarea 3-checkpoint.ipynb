{
 "cells": [
  {
   "cell_type": "markdown",
   "id": "7d3ac911",
   "metadata": {},
   "source": [
    "Santiago Rodriguez Avila\n",
    "\n",
    "Juan Pablo Reyes Fajardo\n",
    "\n",
    "# <p style=\"text-align: center;\">Tarea 3</p>\n"
   ]
  },
  {
   "cell_type": "markdown",
   "id": "ed9be020",
   "metadata": {},
   "source": [
    "## Inicialización:"
   ]
  },
  {
   "cell_type": "markdown",
   "id": "8ef4053b",
   "metadata": {},
   "source": [
    "Importación de módulos:"
   ]
  },
  {
   "cell_type": "code",
   "execution_count": 106,
   "id": "59c1c20a",
   "metadata": {},
   "outputs": [],
   "source": [
    "from types import MethodType\n",
    "from escalerasyserpientes import EscalerasSerpientes\n",
    "import copy\n",
    "import numpy as np\n",
    "import random\n"
   ]
  },
  {
   "cell_type": "markdown",
   "id": "af0e2c2c",
   "metadata": {},
   "source": [
    "Inicialización del MDP con:\n",
    "* Casillas de victoria en (80,100)\n",
    "* Casillas de pérdida en (23,37,45,67,89)\n",
    "* Recompensa por paso de 0\n"
   ]
  },
  {
   "cell_type": "code",
   "execution_count": 107,
   "id": "75920e46",
   "metadata": {},
   "outputs": [],
   "source": [
    "es=EscalerasSerpientes([80,100],[23,37,45,67,89],0)"
   ]
  },
  {
   "cell_type": "markdown",
   "id": "38bdd571",
   "metadata": {},
   "source": [
    "Visuaizar estados del MDP:"
   ]
  },
  {
   "cell_type": "code",
   "execution_count": 109,
   "id": "16757cc0",
   "metadata": {},
   "outputs": [
    {
     "name": "stdout",
     "output_type": "stream",
     "text": [
      "[1, 2, 3, 4, 5, 6, 7, 8, 9, 10, 11, 12, 13, 14, 15, 16, 17, 18, 19, 20, 21, 22, 23, 24, 25, 26, 27, 28, 29, 30, 31, 32, 33, 34, 35, 36, 37, 38, 39, 40, 41, 42, 43, 44, 45, 46, 47, 48, 49, 50, 51, 52, 53, 54, 55, 56, 57, 58, 59, 60, 61, 62, 63, 64, 65, 66, 67, 68, 69, 70, 71, 72, 73, 74, 75, 76, 77, 78, 79, 80, 81, 82, 83, 84, 85, 86, 87, 88, 89, 90, 91, 92, 93, 94, 95, 96, 97, 98, 99, 100]\n"
     ]
    }
   ],
   "source": [
    "print(es.states)"
   ]
  },
  {
   "cell_type": "markdown",
   "id": "da771157",
   "metadata": {},
   "source": [
    "Visualizar la política pre-cargada (siempre adelante)"
   ]
  },
  {
   "cell_type": "code",
   "execution_count": 112,
   "id": "2f7be134",
   "metadata": {},
   "outputs": [
    {
     "name": "stdout",
     "output_type": "stream",
     "text": [
      "dict_values(['Ad', 'Ad', 'Ad', 'Ad', 'Ad', 'Ad', 'Ad', 'Ad', 'Ad', 'Ad', 'Ad', 'Ad', 'Ad', 'Ad', 'Ad', 'Ad', 'Ad', 'Ad', 'Ad', 'Ad', 'Ad', 'Ad', 'Ad', 'Ad', 'Ad', 'Ad', 'Ad', 'Ad', 'Ad', 'Ad', 'Ad', 'Ad', 'Ad', 'Ad', 'Ad', 'Ad', 'Ad', 'Ad', 'Ad', 'Ad', 'Ad', 'Ad', 'Ad', 'Ad', 'Ad', 'Ad', 'Ad', 'Ad', 'Ad', 'Ad', 'Ad', 'Ad', 'Ad', 'Ad', 'Ad', 'Ad', 'Ad', 'Ad', 'Ad', 'Ad', 'Ad', 'Ad', 'Ad', 'Ad', 'Ad', 'Ad', 'Ad', 'Ad', 'Ad', 'Ad', 'Ad', 'Ad', 'Ad', 'Ad', 'Ad', 'Ad', 'Ad', 'Ad', 'Ad', 'Ad', 'Ad', 'Ad', 'Ad', 'Ad', 'Ad', 'Ad', 'Ad', 'Ad', 'Ad', 'Ad', 'Ad', 'Ad', 'Ad', 'Ad', 'Ad', 'Ad', 'Ad', 'Ad', 'Ad', 'Ad'])\n"
     ]
    }
   ],
   "source": [
    "print(list(es.policy.values()))"
   ]
  },
  {
   "cell_type": "markdown",
   "id": "28659dae",
   "metadata": {},
   "source": [
    "Visualizar Q(S,A)"
   ]
  },
  {
   "cell_type": "code",
   "execution_count": 82,
   "id": "a126bd77",
   "metadata": {},
   "outputs": [
    {
     "data": {
      "text/plain": [
       "{1: {'Ad': 0, 'At': 0},\n",
       " 2: {'Ad': 0, 'At': 0},\n",
       " 3: {'Ad': 0, 'At': 0},\n",
       " 4: {'Ad': 0, 'At': 0},\n",
       " 5: {'Ad': 0, 'At': 0},\n",
       " 6: {'Ad': 0, 'At': 0},\n",
       " 7: {'Ad': 0, 'At': 0},\n",
       " 8: {'Ad': 0, 'At': 0},\n",
       " 9: {'Ad': 0, 'At': 0},\n",
       " 10: {'Ad': 0, 'At': 0},\n",
       " 11: {'Ad': 0, 'At': 0},\n",
       " 12: {'Ad': 0, 'At': 0},\n",
       " 13: {'Ad': 0, 'At': 0},\n",
       " 14: {'Ad': 0, 'At': 0},\n",
       " 15: {'Ad': 0, 'At': 0},\n",
       " 16: {'Ad': 0, 'At': 0},\n",
       " 17: {'Ad': 0, 'At': 0},\n",
       " 18: {'Ad': 0, 'At': 0},\n",
       " 19: {'Ad': 0, 'At': 0},\n",
       " 20: {'Ad': 0, 'At': 0},\n",
       " 21: {'Ad': 0, 'At': 0},\n",
       " 22: {'Ad': 0, 'At': 0},\n",
       " 23: {'Ad': 0, 'At': 0},\n",
       " 24: {'Ad': 0, 'At': 0},\n",
       " 25: {'Ad': 0, 'At': 0},\n",
       " 26: {'Ad': 0, 'At': 0},\n",
       " 27: {'Ad': 0, 'At': 0},\n",
       " 28: {'Ad': 0, 'At': 0},\n",
       " 29: {'Ad': 0, 'At': 0},\n",
       " 30: {'Ad': 0, 'At': 0},\n",
       " 31: {'Ad': 0, 'At': 0},\n",
       " 32: {'Ad': 0, 'At': 0},\n",
       " 33: {'Ad': 0, 'At': 0},\n",
       " 34: {'Ad': 0, 'At': 0},\n",
       " 35: {'Ad': 0, 'At': 0},\n",
       " 36: {'Ad': 0, 'At': 0},\n",
       " 37: {'Ad': 0, 'At': 0},\n",
       " 38: {'Ad': 0, 'At': 0},\n",
       " 39: {'Ad': 0, 'At': 0},\n",
       " 40: {'Ad': 0, 'At': 0},\n",
       " 41: {'Ad': 0, 'At': 0},\n",
       " 42: {'Ad': 0, 'At': 0},\n",
       " 43: {'Ad': 0, 'At': 0},\n",
       " 44: {'Ad': 0, 'At': 0},\n",
       " 45: {'Ad': 0, 'At': 0},\n",
       " 46: {'Ad': 0, 'At': 0},\n",
       " 47: {'Ad': 0, 'At': 0},\n",
       " 48: {'Ad': 0, 'At': 0},\n",
       " 49: {'Ad': 0, 'At': 0},\n",
       " 50: {'Ad': 0, 'At': 0},\n",
       " 51: {'Ad': 0, 'At': 0},\n",
       " 52: {'Ad': 0, 'At': 0},\n",
       " 53: {'Ad': 0, 'At': 0},\n",
       " 54: {'Ad': 0, 'At': 0},\n",
       " 55: {'Ad': 0, 'At': 0},\n",
       " 56: {'Ad': 0, 'At': 0},\n",
       " 57: {'Ad': 0, 'At': 0},\n",
       " 58: {'Ad': 0, 'At': 0},\n",
       " 59: {'Ad': 0, 'At': 0},\n",
       " 60: {'Ad': 0, 'At': 0},\n",
       " 61: {'Ad': 0, 'At': 0},\n",
       " 62: {'Ad': 0, 'At': 0},\n",
       " 63: {'Ad': 0, 'At': 0},\n",
       " 64: {'Ad': 0, 'At': 0},\n",
       " 65: {'Ad': 0, 'At': 0},\n",
       " 66: {'Ad': 0, 'At': 0},\n",
       " 67: {'Ad': 0, 'At': 0},\n",
       " 68: {'Ad': 0, 'At': 0},\n",
       " 69: {'Ad': 0, 'At': 0},\n",
       " 70: {'Ad': 0, 'At': 0},\n",
       " 71: {'Ad': 0, 'At': 0},\n",
       " 72: {'Ad': 0, 'At': 0},\n",
       " 73: {'Ad': 0, 'At': 0},\n",
       " 74: {'Ad': 0, 'At': 0},\n",
       " 75: {'Ad': 0, 'At': 0},\n",
       " 76: {'Ad': 0, 'At': 0},\n",
       " 77: {'Ad': 0, 'At': 0},\n",
       " 78: {'Ad': 0, 'At': 0},\n",
       " 79: {'Ad': 0, 'At': 0},\n",
       " 80: {'Ad': 0, 'At': 0},\n",
       " 81: {'Ad': 0, 'At': 0},\n",
       " 82: {'Ad': 0, 'At': 0},\n",
       " 83: {'Ad': 0, 'At': 0},\n",
       " 84: {'Ad': 0, 'At': 0},\n",
       " 85: {'Ad': 0, 'At': 0},\n",
       " 86: {'Ad': 0, 'At': 0},\n",
       " 87: {'Ad': 0, 'At': 0},\n",
       " 88: {'Ad': 0, 'At': 0},\n",
       " 89: {'Ad': 0, 'At': 0},\n",
       " 90: {'Ad': 0, 'At': 0},\n",
       " 91: {'Ad': 0, 'At': 0},\n",
       " 92: {'Ad': 0, 'At': 0},\n",
       " 93: {'Ad': 0, 'At': 0},\n",
       " 94: {'Ad': 0, 'At': 0},\n",
       " 95: {'Ad': 0, 'At': 0},\n",
       " 96: {'Ad': 0, 'At': 0},\n",
       " 97: {'Ad': 0, 'At': 0},\n",
       " 98: {'Ad': 0, 'At': 0},\n",
       " 99: {'Ad': 0, 'At': 0},\n",
       " 100: {'Ad': 0, 'At': 0}}"
      ]
     },
     "metadata": {},
     "output_type": "display_data"
    }
   ],
   "source": [
    "display(es.Q)"
   ]
  },
  {
   "cell_type": "markdown",
   "id": "8dd3626a",
   "metadata": {},
   "source": [
    "Probar función de pasos para estados resultantes:"
   ]
  },
  {
   "cell_type": "code",
   "execution_count": 45,
   "id": "922a2865",
   "metadata": {},
   "outputs": [
    {
     "name": "stdout",
     "output_type": "stream",
     "text": [
      "(28, -0.0001, 5, 5, False)\n"
     ]
    }
   ],
   "source": [
    "state_prueba=97\n",
    "action_prueba=5\n",
    "print(es.step(state_prueba, action_prueba, random=False))"
   ]
  },
  {
   "cell_type": "markdown",
   "id": "e3fb7c09",
   "metadata": {},
   "source": [
    "Probar función de pasos para acciones del agente:"
   ]
  },
  {
   "cell_type": "code",
   "execution_count": 46,
   "id": "e0a8e40a",
   "metadata": {},
   "outputs": [
    {
     "name": "stdout",
     "output_type": "stream",
     "text": [
      "(99, -0.0001, 'Ad', 3, False)\n",
      "(96, -0.0001, 'Ad', 6, False)\n",
      "(99, -0.0001, 'Ad', 1, False)\n",
      "(96, -0.0001, 'Ad', 6, False)\n",
      "(96, -0.0001, 'Ad', 6, False)\n",
      "(99, -0.0001, 'Ad', 3, False)\n"
     ]
    }
   ],
   "source": [
    "state_prueba=98\n",
    "action_prueba='Ad'\n",
    "for i in range(6):\n",
    "    print(es.step(state_prueba, action_prueba, random=True))\n"
   ]
  },
  {
   "cell_type": "code",
   "execution_count": 47,
   "id": "817723fe",
   "metadata": {},
   "outputs": [],
   "source": [
    "def episodio(policy):\n",
    "    state=1\n",
    "    steps=0\n",
    "    state_s=[1]\n",
    "    rewards=[]\n",
    "    tried_actions=[]\n",
    "    real_actions=[]\n",
    "    dones=[]\n",
    "    probs=[]\n",
    "    while True:\n",
    "        pol,prob=policy(state)\n",
    "\n",
    "        state_, reward,try_action, real_action, done=es.step(state, pol, random=True)\n",
    "        state_s.append(state_)\n",
    "        rewards.append(reward)\n",
    "        real_actions.append(real_action)\n",
    "        dones.append(done)\n",
    "        probs.append(prob)\n",
    "        tried_actions.append(try_action)\n",
    "        \n",
    "        state=state_\n",
    "        \n",
    "        steps+=1\n",
    "        \n",
    "        if done:\n",
    "            return state_s,rewards,tried_actions,real_actions,dones,probs,steps"
   ]
  },
  {
   "cell_type": "markdown",
   "id": "769cd5c3",
   "metadata": {},
   "source": [
    "Función de política:"
   ]
  },
  {
   "cell_type": "code",
   "execution_count": 48,
   "id": "dfbb3e8b",
   "metadata": {},
   "outputs": [],
   "source": [
    "def policy(state):\n",
    "    return es.policy[state],1"
   ]
  },
  {
   "cell_type": "markdown",
   "id": "e35ac5c4",
   "metadata": {},
   "source": [
    "Prueba la política arbitraria. "
   ]
  },
  {
   "cell_type": "code",
   "execution_count": 49,
   "id": "01b6624d",
   "metadata": {},
   "outputs": [],
   "source": [
    "es.policy={1: 'Ad', 2: 'Ad', 3: 'At', 4: 'At', 5: 'At', 6: 'At', 7: 'Ad', 8: 'Ad', 9: 'Ad', 10: 'Ad', 11: 'Ad', 12: 'Ad', 13: 'Ad', 14: 'Ad', 15: 'Ad', 16: 'At', 17: 'At', 18: 'At', 19: 'At', 20: 'At', 21: 'Ad', 22: 'At', 23: 'At', 24: 'At', 25: 'At', 26: 'Ad', 27: 'At', 28: 'Ad', 29: 'Ad', 30: 'At', 31: 'At', 32: 'At', 33: 'At', 34: 'At', 35: 'At', 36: 'At', 37: 'At', 38: 'Ad', 39: 'Ad', 40: 'Ad', 41: 'Ad', 42: 'Ad', 43: 'Ad', 44: 'Ad', 45: 'Ad', 46: 'Ad', 47: 'Ad', 48: 'Ad', 49: 'At', 50: 'Ad', 51: 'At', 52: 'Ad', 53: 'Ad', 54: 'Ad', 55: 'Ad', 56: 'Ad', 57: 'Ad', 58: 'Ad', 59: 'Ad', 60: 'Ad', 61: 'Ad', 62: 'Ad', 63: 'Ad', 64: 'Ad', 65: 'Ad', 66: 'Ad', 67: 'Ad', 68: 'Ad', 69: 'Ad', 70: 'Ad', 71: 'Ad', 72: 'Ad', 73: 'Ad', 74: 'Ad', 75: 'Ad', 76: 'Ad', 77: 'At', 78: 'Ad', 79: 'Ad', 80: 'Ad', 81: 'At', 82: 'At', 83: 'Ad', 84: 'Ad', 85: 'At', 86: 'At', 87: 'At', 88: 'At', 89: 'At', 90: 'At', 91: 'At', 92: 'Ad', 93: 'Ad', 94: 'Ad', 95: 'Ad', 96: 'Ad', 97: 'Ad', 98: 'Ad', 99: 'Ad',100:'Ad'}"
   ]
  },
  {
   "cell_type": "code",
   "execution_count": 61,
   "id": "f0cd9dac",
   "metadata": {},
   "outputs": [
    {
     "name": "stdout",
     "output_type": "stream",
     "text": [
      "77.9%\n",
      "37        -1.0            None         None       1\n",
      "35        -0.0001            Ad         2       1\n",
      "30        -0.0001            Ad         5       1\n",
      "26        -0.0001            Ad         4       1\n",
      "14        -0.0001            At         -6       1\n",
      "12        -0.0001            Ad         2       1\n",
      "18        -0.0001            At         -6       1\n",
      "12        -0.0001            Ad         6       1\n",
      "18        -0.0001            At         -6       1\n",
      "15        -0.0001            Ad         3       1\n",
      "13        -0.0001            Ad         2       1\n",
      "19        -0.0001            At         -6       1\n",
      "20        -0.0001            At         -1       1\n",
      "15        -0.0001            Ad         5       1\n",
      "19        -0.0001            At         -4       1\n",
      "16        -0.0001            Ad         3       1\n",
      "17        -0.0001            At         -1       1\n",
      "13        -0.0001            Ad         4       1\n",
      "19        -0.0001            At         -6       1\n",
      "79        -0.0001            Ad         4       1\n",
      "82        -0.0001            At         -3       1\n",
      "16        -0.0001            Ad         5       1\n",
      "18        -0.0001            At         -2       1\n",
      "15        -0.0001            Ad         3       1\n",
      "13        -0.0001            Ad         2       1\n",
      "10        -0.0001            Ad         3       1\n",
      "9        -0.0001            Ad         1       1\n",
      "14        -0.0001            At         -5       1\n",
      "19        -0.0001            At         -5       1\n",
      "78        -0.0001            Ad         5       1\n",
      "82        -0.0001            At         -4       1\n",
      "84        -0.0001            At         -2       1\n",
      "79        -0.0001            Ad         5       1\n",
      "82        -0.0001            At         -3       1\n",
      "25        -0.0001            At         -4       1\n",
      "31        -0.0001            At         -6       1\n",
      "28        -0.0001            Ad         3       1\n",
      "34        -0.0001            At         -6       1\n",
      "28        -0.0001            Ad         6       1\n",
      "32        -0.0001            At         -4       1\n",
      "26        -0.0001            Ad         6       1\n",
      "14        -0.0001            At         -6       1\n",
      "13        -0.0001            Ad         1       1\n",
      "18        -0.0001            At         -5       1\n",
      "15        -0.0001            Ad         3       1\n",
      "18        -0.0001            At         -3       1\n",
      "22        -0.0001            At         -4       1\n",
      "25        -0.0001            At         -3       1\n",
      "31        -0.0001            At         -6       1\n",
      "33        -0.0001            At         -2       1\n",
      "30        -0.0001            Ad         3       1\n",
      "27        -0.0001            Ad         3       1\n",
      "31        -0.0001            At         -4       1\n",
      "30        -0.0001            Ad         1       1\n",
      "32        -0.0001            At         -2       1\n",
      "30        -0.0001            Ad         2       1\n",
      "32        -0.0001            At         -2       1\n",
      "28        -0.0001            Ad         4       1\n",
      "32        -0.0001            At         -4       1\n",
      "28        -0.0001            Ad         4       1\n",
      "32        -0.0001            At         -4       1\n",
      "27        -0.0001            Ad         5       1\n",
      "26        -0.0001            Ad         1       1\n",
      "4        -0.0001            Ad         4       1\n",
      "7        -0.0001            At         -3       1\n",
      "1        -0.0001            Ad         6       1\n",
      "5        -0.0001            At         -4       1\n",
      "4        -0.0001            Ad         1       1\n",
      "1        -0.0001            Ad         3       1\n"
     ]
    }
   ],
   "source": [
    "counter=0\n",
    "n=1000\n",
    "for i in range(n):\n",
    "    state_s,rewards,tried_actions,real_actions,dones,probs,steps=episodio(policy)\n",
    "    if state_s[-1]=='Azul':\n",
    "        counter+=1\n",
    "        \n",
    "print(f'{100*counter/n}%')\n",
    "\n",
    "for i in reversed(range(len(state_s[0:-1]))):\n",
    "    print (f'{state_s[i]}        {rewards[i]}            {tried_actions[i]}         {real_actions[i]}       {probs[i]}')\n"
   ]
  },
  {
   "cell_type": "markdown",
   "id": "829dca45",
   "metadata": {},
   "source": [
    "Selecciona acción usando Q y epsilon greedy"
   ]
  },
  {
   "cell_type": "code",
   "execution_count": 51,
   "id": "ece6fe83",
   "metadata": {},
   "outputs": [],
   "source": [
    "def random_policy(state):\n",
    "\n",
    "    return random.choice(list(es.Q[state].keys())),1/2"
   ]
  },
  {
   "cell_type": "markdown",
   "id": "0c5c2437",
   "metadata": {},
   "source": [
    "Inicialización:"
   ]
  },
  {
   "cell_type": "code",
   "execution_count": 52,
   "id": "cc12da34",
   "metadata": {},
   "outputs": [],
   "source": [
    "es.Q=es.init_Q(0,0)\n",
    "es.C=es.init_Q(0,0)\n",
    "es.policy = dict.fromkeys(es.states, 'Ad')"
   ]
  },
  {
   "cell_type": "markdown",
   "id": "6a7d7c2a",
   "metadata": {},
   "source": [
    "Política con MonteCarlo Off-Policy"
   ]
  },
  {
   "cell_type": "code",
   "execution_count": 53,
   "id": "d1f1f704",
   "metadata": {},
   "outputs": [],
   "source": [
    "def MC_offpolicy(es,gamma):\n",
    "    #Genera el episodio\n",
    "    state_s,rewards,tried_actions,real_actions,dones,probs,steps=episodio(random_policy)\n",
    "    G=0\n",
    "    W=1\n",
    "    for i in reversed(range(len(state_s[0:-2]))):\n",
    "        G=gamma*G+rewards[i+1]\n",
    "        es.C[state_s[i]][tried_actions[i]]=es.C[state_s[i]][tried_actions[i]]+W\n",
    "        es.Q[state_s[i]][tried_actions[i]]=es.Q[state_s[i]][tried_actions[i]]+(W/(es.C[state_s[i]][tried_actions[i]]))*(G-es.Q[state_s[i]][tried_actions[i]])\n",
    "        es.policy[state_s[i]]=es.key_max(es.Q[state_s[i]])[0]\n",
    "        #print('------------------------------------')\n",
    "        \n",
    "        #print(f'Intenta: {tried_actions[i]}')\n",
    "        #print(f'Obtiene: {real_actions[i]}')\n",
    "        #print(f'Valor Q: {es.Q[state_s[i]]}')\n",
    "        #print(f'Politica:{es.policy[state_s[i]]}')\n",
    "        \n",
    "        \n",
    "        #print(state_s[-1])\n",
    "        #print(state_s[i])\n",
    "        #print('------------------------------------')\n",
    "        if tried_actions[i]!=es.policy[state_s[i]]:\n",
    "            #print('BROKE')\n",
    "            break\n",
    "\n",
    "        W=W*(1/probs[i])"
   ]
  },
  {
   "cell_type": "code",
   "execution_count": 54,
   "id": "17f1713f",
   "metadata": {},
   "outputs": [
    {
     "name": "stdout",
     "output_type": "stream",
     "text": [
      "{1: 'Ad', 2: 'At', 3: 'At', 4: 'Ad', 5: 'At', 6: 'Ad', 7: 'At', 8: 'Ad', 9: 'Ad', 10: 'Ad', 11: 'Ad', 12: 'Ad', 13: 'Ad', 14: 'At', 15: 'Ad', 16: 'Ad', 17: 'At', 18: 'At', 19: 'At', 20: 'At', 21: 'Ad', 22: 'At', 23: 'Ad', 24: 'At', 25: 'At', 26: 'Ad', 27: 'Ad', 28: 'Ad', 29: 'Ad', 30: 'Ad', 31: 'At', 32: 'At', 33: 'At', 34: 'At', 35: 'Ad', 36: 'At', 37: 'Ad', 38: 'Ad', 39: 'Ad', 40: 'Ad', 41: 'Ad', 42: 'Ad', 43: 'Ad', 44: 'Ad', 45: 'Ad', 46: 'Ad', 47: 'Ad', 48: 'Ad', 49: 'Ad', 50: 'Ad', 51: 'Ad', 52: 'Ad', 53: 'At', 54: 'Ad', 55: 'Ad', 56: 'Ad', 57: 'Ad', 58: 'At', 59: 'Ad', 60: 'At', 61: 'At', 62: 'Ad', 63: 'At', 64: 'Ad', 65: 'Ad', 66: 'Ad', 67: 'Ad', 68: 'Ad', 69: 'Ad', 70: 'Ad', 71: 'Ad', 72: 'Ad', 73: 'Ad', 74: 'Ad', 75: 'Ad', 76: 'Ad', 77: 'Ad', 78: 'Ad', 79: 'Ad', 80: 'Ad', 81: 'At', 82: 'At', 83: 'Ad', 84: 'At', 85: 'At', 86: 'At', 87: 'At', 88: 'At', 89: 'Ad', 90: 'At', 91: 'Ad', 92: 'Ad', 93: 'Ad', 94: 'Ad', 95: 'Ad', 96: 'Ad', 97: 'Ad', 98: 'Ad', 99: 'At', 100: 'Ad'}\n"
     ]
    }
   ],
   "source": [
    "for i in range(0,100000):\n",
    "    MC_offpolicy(es,0.9)\n",
    "print(es.policy)"
   ]
  },
  {
   "cell_type": "code",
   "execution_count": null,
   "id": "3d727f93",
   "metadata": {},
   "outputs": [],
   "source": [
    "\n"
   ]
  }
 ],
 "metadata": {
  "kernelspec": {
   "display_name": "Python 3 (ipykernel)",
   "language": "python",
   "name": "python3"
  },
  "language_info": {
   "codemirror_mode": {
    "name": "ipython",
    "version": 3
   },
   "file_extension": ".py",
   "mimetype": "text/x-python",
   "name": "python",
   "nbconvert_exporter": "python",
   "pygments_lexer": "ipython3",
   "version": "3.9.13"
  }
 },
 "nbformat": 4,
 "nbformat_minor": 5
}
