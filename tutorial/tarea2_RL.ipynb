{
 "cells": [
  {
   "cell_type": "markdown",
   "id": "d029d717-83de-4e39-a182-2dee3655a743",
   "metadata": {
    "tags": []
   },
   "source": [
    "# Escaleras y serpientes (tarea 2 RL)\n"
   ]
  },
  {
   "cell_type": "markdown",
   "id": "135a5403-3512-4b92-83a3-3ff4cf9dee99",
   "metadata": {},
   "source": [
    "Se va a asumir que las escaleras y las serpientes no van a cambiar de posición. Los puntos rojos y azules si pueden cambiar de posición."
   ]
  },
  {
   "cell_type": "code",
   "execution_count": 1,
   "id": "a0985241-b1ba-47d6-a1e7-bcaeabff4bdd",
   "metadata": {},
   "outputs": [],
   "source": [
    "from game_hw2 import Game_hw2\n",
    "\n",
    "snakes = [(73,1), (46,5), (55,7), (48,9), (52,11), (59,17), (83,19), (44,22), (95,24), (98,28), (69,33), (64,36), (92,51)]\n",
    "stairs = [(8,26), (21,82), (43,77), (50,91), (54,93), (62,96), (66,87), (80,100)]\n",
    "goals =[80, 100] \n",
    "fails =[23, 37, 45, 67, 89] \n",
    "gw = Game_hw2(goals = goals, fails = fails)"
   ]
  },
  {
   "cell_type": "code",
   "execution_count": 40,
   "id": "71e87f78-a86a-46a8-b1f2-9cf09b9be91c",
   "metadata": {},
   "outputs": [
    {
     "name": "stdout",
     "output_type": "stream",
     "text": [
      "100 100 Ad False 5\n"
     ]
    }
   ],
   "source": [
    "start_point = 75\n",
    "next_state, reward, _, done, dice = gw.step(start_point, 'Ad') \n",
    "\n",
    "print(next_state, reward, _, done, dice)"
   ]
  },
  {
   "cell_type": "code",
   "execution_count": null,
   "id": "a041232b-6bf3-4db9-8f0e-a9dbea0d9fbb",
   "metadata": {},
   "outputs": [],
   "source": []
  },
  {
   "cell_type": "code",
   "execution_count": 20,
   "id": "88db4078-d5ad-4b30-80ca-3d16deca7e71",
   "metadata": {},
   "outputs": [
    {
     "name": "stdout",
     "output_type": "stream",
     "text": [
      "[0.16666666666666666, 61, 0]\n"
     ]
    }
   ],
   "source": [
    "posible_actions = gw.probabilities[state]\n",
    "current_action = posible_actions['Ad'][5]\n",
    "\n",
    "print(current_action)"
   ]
  },
  {
   "cell_type": "code",
   "execution_count": 4,
   "id": "ab6a7082-0520-419b-9bf3-a961446b7413",
   "metadata": {},
   "outputs": [
    {
     "data": {
      "text/plain": [
       "[[1, 2, 3, 4, 5, 6, 7, 8, 9, 10],\n",
       " [11, 12, 13, 14, 15, 16, 17, 18, 19, 20],\n",
       " [21, 22, 23, 24, 25, 26, 27, 28, 29, 30],\n",
       " [31, 32, 33, 34, 35, 36, 37, 38, 39, 40],\n",
       " [41, 42, 43, 44, 45, 46, 47, 48, 49, 50],\n",
       " [51, 52, 53, 54, 55, 56, 57, 58, 59, 60],\n",
       " [61, 62, 63, 64, 65, 66, 67, 68, 69, 70],\n",
       " [71, 72, 73, 74, 75, 76, 77, 78, 79, 80],\n",
       " [81, 82, 83, 84, 85, 86, 87, 88, 89, 90],\n",
       " [91, 92, 93, 94, 95, 96, 97, 98, 99, 100]]"
      ]
     },
     "execution_count": 4,
     "metadata": {},
     "output_type": "execute_result"
    }
   ],
   "source": []
  },
  {
   "cell_type": "code",
   "execution_count": 8,
   "id": "4bcad6cc-bca8-445f-a62e-9e57d0429983",
   "metadata": {},
   "outputs": [
    {
     "data": {
      "text/plain": [
       "{'Ad': [[0.16666666666666666, 88, 0],\n",
       "  [0.16666666666666666, 89, -100],\n",
       "  [0.16666666666666666, 90, 0],\n",
       "  [0.16666666666666666, 91, 0],\n",
       "  [0.16666666666666666, 51, 0],\n",
       "  [0.16666666666666666, 93, 0]],\n",
       " 'At': [[0.16666666666666666, 86, 0],\n",
       "  [0.16666666666666666, 85, 0],\n",
       "  [0.16666666666666666, 84, 0],\n",
       "  [0.16666666666666666, 19, 0],\n",
       "  [0.16666666666666666, 82, 0],\n",
       "  [0.16666666666666666, 81, 0]]}"
      ]
     },
     "execution_count": 8,
     "metadata": {},
     "output_type": "execute_result"
    }
   ],
   "source": [
    "\"\"\"\n",
    "Pruebas para hacer lo de rebote\n",
    "a = 95\n",
    "pasos = []\n",
    "for i in range(a,101):\n",
    "    for dice in range(1,7):\n",
    "        if i+dice>=101:\n",
    "            print(\"casilla: \"+ str(i)+\" _ \"+ \"dado: \"+str(dice))\n",
    "            print(\"estoy en \",i+dice, \" voy a moverme a\", 100 - (i+dice -100)) \n",
    "            print(\"-\"*20)\n",
    "\n",
    "a = 6\n",
    "for i in range(a,0,-1):\n",
    "    for dice in range(1,7):\n",
    "        if i-dice<=0:\n",
    "            print('casilla: '+str(i)+\" _ \"+'dado: '+str(dice))\n",
    "            print('Estoy en ', i-dice, 'voy a moverme a', abs(i-dice)+2)\n",
    "            print(\"-\"*20)\n",
    "\"\"\"\n",
    "prob[87]\n",
    "\n"
   ]
  }
 ],
 "metadata": {
  "kernelspec": {
   "display_name": "Python 3 (ipykernel)",
   "language": "python",
   "name": "python3"
  },
  "language_info": {
   "codemirror_mode": {
    "name": "ipython",
    "version": 3
   },
   "file_extension": ".py",
   "mimetype": "text/x-python",
   "name": "python",
   "nbconvert_exporter": "python",
   "pygments_lexer": "ipython3",
   "version": "3.10.8"
  }
 },
 "nbformat": 4,
 "nbformat_minor": 5
}
