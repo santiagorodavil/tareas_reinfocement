{
 "cells": [
  {
   "cell_type": "markdown",
   "id": "247c5a90-c5d3-4661-9d2c-88f2ea2f537a",
   "metadata": {},
   "source": [
    "# **Reinforcement Learning: Taller 4**\n",
    "## Estudiantes: Juan Pablo Reyes Fajardo y Santiago Rodríguez Ávila "
   ]
  },
  {
   "cell_type": "code",
   "execution_count": 2,
   "id": "ca4cd0ea-8a2d-49bb-86f3-8dd44ad516eb",
   "metadata": {},
   "outputs": [
    {
     "name": "stdout",
     "output_type": "stream",
     "text": [
      "Requirement already satisfied: gym in c:\\users\\santiago\\miniconda3\\lib\\site-packages (0.26.2)\n",
      "Requirement already satisfied: cloudpickle>=1.2.0 in c:\\users\\santiago\\miniconda3\\lib\\site-packages (from gym) (2.2.1)\n",
      "Requirement already satisfied: numpy>=1.18.0 in c:\\users\\santiago\\miniconda3\\lib\\site-packages (from gym) (1.24.2)\n",
      "Requirement already satisfied: gym-notices>=0.0.4 in c:\\users\\santiago\\miniconda3\\lib\\site-packages (from gym) (0.0.8)\n"
     ]
    }
   ],
   "source": [
    "!pip install gym"
   ]
  },
  {
   "cell_type": "code",
   "execution_count": 1,
   "id": "dd367f16-d8ba-4db1-98f4-b147dc419455",
   "metadata": {},
   "outputs": [],
   "source": [
    "import gym\n",
    "import numpy as np"
   ]
  },
  {
   "cell_type": "code",
   "execution_count": 115,
   "id": "6e0e262a-a666-493f-b6e9-b952ebe4100f",
   "metadata": {},
   "outputs": [],
   "source": [
    "env = gym.make('CartPole-v1',render_mode=\"human\")\n",
    "cart_high_var = env.observation_space.high\n",
    "cart_low_var = env.observation_space.low\n",
    "\n",
    "def num_states(num):\n",
    "    # dependiendo el numero de estados, cambia el tamaño de cada vector\n",
    "    if num ==400:\n",
    "        car_pos = np.linspace(cart_low_var[0], cart_high_var[0], num= 5)\n",
    "        car_vel = np.linspace(-12, 12, num= 4)\n",
    "        pole_angle = np.linspace(cart_low_var[2], cart_high_var[2], num = 5)\n",
    "        pole_vel = np.linspace(-12, 12, num= 4)\n",
    "    elif num ==4000:\n",
    "        car_pos = np.linspace(cart_low_var[0], cart_high_var[0], num= 8)\n",
    "        car_vel = np.linspace(-12, 12, num= 8)\n",
    "        pole_angle = np.linspace(cart_low_var[2], cart_high_var[2], num = 8)\n",
    "        pole_vel = np.linspace(-12, 12, num= 8)   \n",
    "    # vector donde estan todos los valores que se pueden colocar en una tabla\n",
    "    discrete_values = [car_pos, car_vel, pole_angle, pole_vel]\n",
    "    return discrete_values\n",
    "\n",
    "\n",
    "discrete_values = num_states(400)\n",
    "Q_table = {}\n",
    "states=[]\n",
    "def set_states():\n",
    "    for cpos in discrete_values[0]:\n",
    "        for cvel in discrete_values[1]:\n",
    "            for pang in discrete_values[2]:\n",
    "                for pvel in discrete_values[3]:\n",
    "                    states.append((cpos, cvel, pang, pvel))\n",
    "                    \n",
    "def set_q_table():\n",
    "    for i in states:\n",
    "        for action in range(2):\n",
    "            Q_table[i,action] = 0\n",
    "    \n",
    "                    \n",
    "def discretize(new_state):\n",
    "    # car pos, car vel, pole angle, pole vel\n",
    "    valor_cercano=[0]*4\n",
    "    for i in range(4):\n",
    "        dif = [(abs(x - new_state[i])) for x in discrete_values[i]]\n",
    "        valor_cercano[i] = discrete_values[i][dif.index(min(dif))]\n",
    "        \n",
    "    return valor_cercano\n",
    "    "
   ]
  },
  {
   "cell_type": "code",
   "execution_count": 113,
   "id": "8188416d-4d05-4858-b90d-a0c6f7d766c1",
   "metadata": {},
   "outputs": [
    {
     "name": "stdout",
     "output_type": "stream",
     "text": [
      "[-4.800000190734863, -12.0, 0.20943951606750488, -12.0] ********\n",
      "0\n",
      "800\n"
     ]
    }
   ],
   "source": [
    "set_q_table()\n",
    "\n",
    "a=discretize([-3.9,-9,0.3,-9])\n",
    "print(a,'*'*8)\n",
    "print(Q_table[tuple(a),1])\n",
    "print(len(Q_table))\n",
    "#for a in Q_table:\n",
    " #   print(a)\n",
    "\n",
    "#-4.800000190734863, -12.0, 0.20943951606750488, -12.0"
   ]
  },
  {
   "cell_type": "code",
   "execution_count": 114,
   "id": "35624c3c-0ff9-4e04-8a1b-fc57c7fea00c",
   "metadata": {},
   "outputs": [
    {
     "data": {
      "text/plain": [
       "800"
      ]
     },
     "execution_count": 114,
     "metadata": {},
     "output_type": "execute_result"
    }
   ],
   "source": [
    "set_states()\n",
    "len(states)"
   ]
  },
  {
   "cell_type": "code",
   "execution_count": 116,
   "id": "b49d541f-311e-4792-8d36-aeda32925164",
   "metadata": {},
   "outputs": [
    {
     "name": "stderr",
     "output_type": "stream",
     "text": [
      "C:\\Users\\Santiago\\miniconda3\\lib\\site-packages\\gym\\utils\\passive_env_checker.py:233: DeprecationWarning: `np.bool8` is a deprecated alias for `np.bool_`.  (Deprecated NumPy 1.24)\n",
      "  if not isinstance(terminated, (bool, np.bool8)):\n",
      "C:\\Users\\Santiago\\miniconda3\\lib\\site-packages\\gym\\envs\\classic_control\\cartpole.py:177: UserWarning: \u001b[33mWARN: You are calling 'step()' even though this environment has already returned terminated = True. You should always call 'reset()' once you receive 'terminated = True' -- any further steps are undefined behavior.\u001b[0m\n",
      "  logger.warn(\n"
     ]
    }
   ],
   "source": [
    "env.reset()\n",
    "max_val = [0]*4\n",
    "for i in range(500):\n",
    "    action = env.action_space.sample()\n",
    "    new_state, reward, done, _,_=env.step(action)\n",
    "    cont =0\n",
    "    for a in max_val:\n",
    "        if new_state[cont]>= a:\n",
    "            max_val[cont]=new_state[cont]\n",
    "        cont+=1\n",
    "    #print(new_state)\n",
    "#print(max_val)\n",
    "    #env.render()"
   ]
  },
  {
   "cell_type": "code",
   "execution_count": 117,
   "id": "4cb52627-a4a1-46ec-9b80-21647b9c7315",
   "metadata": {},
   "outputs": [],
   "source": [
    "env.close()"
   ]
  },
  {
   "cell_type": "code",
   "execution_count": 41,
   "id": "dd777ee5-6a05-4239-9ae2-6ca56b6428c3",
   "metadata": {},
   "outputs": [
    {
     "name": "stdout",
     "output_type": "stream",
     "text": [
      "[[0. 0.]\n",
      " [0. 0.]\n",
      " [0. 0.]\n",
      " [0. 0.]]\n",
      "[ 0.01770938 -0.04138917 -0.03702587 -0.01934518] ----------\n"
     ]
    },
    {
     "ename": "IndexError",
     "evalue": "arrays used as indices must be of integer (or boolean) type",
     "output_type": "error",
     "traceback": [
      "\u001b[1;31m---------------------------------------------------------------------------\u001b[0m",
      "\u001b[1;31mIndexError\u001b[0m                                Traceback (most recent call last)",
      "Cell \u001b[1;32mIn[41], line 25\u001b[0m\n\u001b[0;32m     23\u001b[0m \u001b[38;5;28;01melse\u001b[39;00m:\n\u001b[0;32m     24\u001b[0m     \u001b[38;5;28mprint\u001b[39m(state[\u001b[38;5;241m0\u001b[39m],\u001b[38;5;124m\"\u001b[39m\u001b[38;5;124m-\u001b[39m\u001b[38;5;124m\"\u001b[39m\u001b[38;5;241m*\u001b[39m\u001b[38;5;241m10\u001b[39m)\n\u001b[1;32m---> 25\u001b[0m     action \u001b[38;5;241m=\u001b[39m np\u001b[38;5;241m.\u001b[39margmax(\u001b[43mQ\u001b[49m\u001b[43m[\u001b[49m\u001b[43mstate\u001b[49m\u001b[43m[\u001b[49m\u001b[38;5;241;43m0\u001b[39;49m\u001b[43m]\u001b[49m\u001b[43m,\u001b[49m\u001b[43m \u001b[49m\u001b[43m:\u001b[49m\u001b[43m]\u001b[49m)\n\u001b[0;32m     26\u001b[0m \u001b[38;5;66;03m# Get new state and reward from environment\u001b[39;00m\n\u001b[0;32m     27\u001b[0m new_state, reward, done, _,_\u001b[38;5;241m=\u001b[39m env\u001b[38;5;241m.\u001b[39mstep(action)\n",
      "\u001b[1;31mIndexError\u001b[0m: arrays used as indices must be of integer (or boolean) type"
     ]
    }
   ],
   "source": [
    "env = gym.make('CartPole-v1')\n",
    "# Initialize Q-table\n",
    "Q = np.zeros([env.observation_space.shape[0], env.action_space.n])\n",
    "print(Q)\n",
    "# Set learning parameters\n",
    "alpha = 0.8\n",
    "gamma = 0.95\n",
    "epsilon = 0.1\n",
    "\n",
    "# Initialize variables\n",
    "num_episodes = 5000\n",
    "max_steps_per_episode = 200\n",
    "rewards = []\n",
    "\n",
    "# Q-learning algorithm\n",
    "for i in range(num_episodes):\n",
    "    state = env.reset()\n",
    "    episode_reward = 0\n",
    "    for j in range(max_steps_per_episode):\n",
    "        # Choose action greedily with noise\n",
    "        if np.random.uniform(0, 1) < epsilon:\n",
    "            action = env.action_space.sample()\n",
    "        else:\n",
    "            print(state[0],\"-\"*10)\n",
    "            action = np.argmax(Q[state[0], :])\n",
    "        # Get new state and reward from environment\n",
    "        new_state, reward, done, _,_= env.step(action)\n",
    "        print(new_state)\n",
    "        # Update Q-table\n",
    "        print(Q.shape,\"*\"*8)\n",
    "        Q[state, action] = (1 - alpha) * Q[state, action] + alpha * (reward + gamma * np.max(Q[new_state, :]))\n",
    "        episode_reward += reward\n",
    "        state = new_state\n",
    "        if done:\n",
    "            break\n",
    "    rewards.append(episode_reward)"
   ]
  },
  {
   "cell_type": "code",
   "execution_count": 27,
   "id": "1125efe2-acfb-4a71-a534-9d495f79b92d",
   "metadata": {},
   "outputs": [
    {
     "name": "stdout",
     "output_type": "stream",
     "text": [
      "[-0.02061262 -0.00248625  0.00048967 -0.04600552]\n"
     ]
    }
   ],
   "source": [
    "prueba = np.zeros([4,2])\n",
    "prueba[0,1]= 2\n",
    "prueba[1,0]= 4\n",
    "prueba[2,0]= 1\n",
    "prueba[3,1]= 8\n",
    "\n",
    "state = env.reset()\n",
    "\n",
    "print(state[0])\n",
    "#print(env.observation_space)\n",
    "#env.observation_space.low[2]\n",
    "#prueba[state,0]\n",
    "#print(prueba)\n",
    "#print(prueba[1,:])\n",
    "#np.argmax(prueba[0,:])"
   ]
  },
  {
   "cell_type": "code",
   "execution_count": 73,
   "id": "f06921bb-9c1f-4f12-9630-9305b3845672",
   "metadata": {},
   "outputs": [
    {
     "name": "stdout",
     "output_type": "stream",
     "text": [
      "800\n"
     ]
    }
   ],
   "source": [
    "cont = 0\n",
    "Q_table = {}\n",
    "for cpos in discrete_values[0]:\n",
    "        for cvel in discrete_values[1]:\n",
    "            for pang in discrete_values[2]:\n",
    "                for pvel in discrete_values[3]:\n",
    "                    for action in range(2):\n",
    "                        Q_table[(cpos, cvel, pang, pvel),action] = 0\n",
    "                        cont+=1\n",
    "print(cont)\n",
    "#Q_table"
   ]
  },
  {
   "cell_type": "code",
   "execution_count": 77,
   "id": "3ada58e8-bfc9-4466-beee-c544f809526a",
   "metadata": {},
   "outputs": [
    {
     "data": {
      "text/plain": [
       "[(1, 2), (1, 2, 3, 4)]"
      ]
     },
     "execution_count": 77,
     "metadata": {},
     "output_type": "execute_result"
    }
   ],
   "source": [
    "a=[]\n",
    "a.append((1,2))\n",
    "a.append((1,2,3,4))\n",
    "a"
   ]
  },
  {
   "cell_type": "code",
   "execution_count": null,
   "id": "10c1f6c4-fff6-4772-97c6-3e1fae1e0256",
   "metadata": {},
   "outputs": [],
   "source": []
  }
 ],
 "metadata": {
  "kernelspec": {
   "display_name": "Python 3 (ipykernel)",
   "language": "python",
   "name": "python3"
  },
  "language_info": {
   "codemirror_mode": {
    "name": "ipython",
    "version": 3
   },
   "file_extension": ".py",
   "mimetype": "text/x-python",
   "name": "python",
   "nbconvert_exporter": "python",
   "pygments_lexer": "ipython3",
   "version": "3.10.8"
  }
 },
 "nbformat": 4,
 "nbformat_minor": 5
}
