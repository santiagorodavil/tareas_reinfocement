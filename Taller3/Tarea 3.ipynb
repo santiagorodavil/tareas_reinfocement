{
 "cells": [
  {
   "cell_type": "code",
   "execution_count": 1,
   "id": "42f87e32-e6dc-47f7-a488-b4d0e32683cf",
   "metadata": {},
   "outputs": [],
   "source": [
    "from types import MethodType\n",
    "from escalerasyserpientes import EscalerasSerpientes\n",
    "import copy\n",
    "import numpy as np"
   ]
  },
  {
   "cell_type": "code",
   "execution_count": 2,
   "id": "f3ec77cf-fbea-471d-9f39-0b3eb1463381",
   "metadata": {},
   "outputs": [],
   "source": [
    "es=EscalerasSerpientes([80,100],[23,37,45,67,89],-0.01)"
   ]
  },
  {
   "cell_type": "code",
   "execution_count": 3,
   "id": "5c308966-a519-441d-a87a-b5739771bc98",
   "metadata": {},
   "outputs": [],
   "source": [
    "#SARSA algorithm\n",
    "\n",
    "# Variables: % ganados, pasos x episodio, alpha y gamma.\n",
    "win_per = 0\n",
    "prom_step = 0\n",
    "alpha = 0.5\n",
    "gamma = 1\n",
    "epsilon = 0.1\n",
    "\n",
    "\n",
    "#Para 1000 episodios de entrenamiento\n",
    "for i in range(10000):\n",
    "    # Inicializa las variables para cada episodio\n",
    "    num_steps = 0\n",
    "    state = es.states[0]\n",
    "    # Seleccion accion epsilon-greedy\n",
    "    if epsilon< np.random.uniform():        \n",
    "        act_arg = np.array([es.q_values[(state, act)] for act in es.allowed_actions[state]])\n",
    "        action = es.allowed_actions[state][np.argmax(act_arg)]\n",
    "    else:\n",
    "        actions = es.allowed_actions[state]\n",
    "        action = actions[np.random.randint(0,2)]\n",
    "    \n",
    "    # Inicia el episodio\n",
    "    continue_episode = True\n",
    "    while continue_episode:\n",
    "        # cambia al estado de cima escalera o cola de serpiente\n",
    "        if state in es.snakes:\n",
    "            state = es.state_values[es.snakes[state]]\n",
    "        elif state in es.stairs:\n",
    "            state = es.state_values[es.stairs[state]]\n",
    "\n",
    "        ### Tomar acción dependiendo de epsilon y de la acción con mayor recompensa\n",
    "        \n",
    "        # Obtengo s'\n",
    "        new_state, reward, _, done = es.step(state, action, random=True)\n",
    "        \n",
    "        # Revisa que new_state no sea un estado terminal\n",
    "        if type(new_state) is str:\n",
    "            # Valor q(s',a') terminal\n",
    "            q_value_next_step = 0\n",
    "        else:\n",
    "            #Obtengo a' de s' con epsilon greedy\n",
    "            if np.random.uniform()< epsilon:     \n",
    "                actions = es.allowed_actions[new_state]\n",
    "                new_action = actions[np.random.randint(0,2)]\n",
    "            else:\n",
    "                act_arg = np.array([es.q_values[(new_state, act)] for act in es.allowed_actions[state]])\n",
    "                new_action = es.allowed_actions[new_state][np.argmax(act_arg)]\n",
    "\n",
    "            # Valor q(s',a') no terminal\n",
    "            q_value_next_step = es.q_values[(new_state,new_action)]\n",
    "        \n",
    "        \n",
    "        # Calculo de actualizacion q(s,a) <- q(s,a) + alpha*(R + gamma*q(s',a') - q(s,a))\n",
    "        es.q_values[(state, action)] += alpha*(reward + gamma*q_value_next_step - es.q_values[(state,action)])\n",
    "        \n",
    "        # asigna a = a' y s = s'\n",
    "        state = new_state\n",
    "        action = new_action\n",
    "        #print(action, state)\n",
    "        # Numero de pasos utilizados en el episodio\n",
    "        #num_steps+=1        \n",
    "\n",
    "        # Parte que termina el episodio si se llega a algun estado terminal\n",
    "        if done:\n",
    "            continue_episode = False\n",
    "            #if state == 'Azul':\n",
    "                #win_per+=1\n",
    "                \n",
    "    # Promedio de pasos por episodio\n",
    "    #prom_step += 1/(i+1) *(num_steps - prom_step)\n",
    "    #print('-'*20)\n"
   ]
  },
  {
   "cell_type": "code",
   "execution_count": 4,
   "id": "a0df1d8f-17ae-447a-aa77-ca9a3f1793d4",
   "metadata": {},
   "outputs": [
    {
     "name": "stdout",
     "output_type": "stream",
     "text": [
      "{1: 'At', 2: 'At', 3: 'At', 4: 'Ad', 5: 'At', 6: 'Ad', 7: 'Ad', 8: 'Ad', 9: 'Ad', 10: 'Ad', 11: 'At', 12: 'Ad', 13: 'At', 14: 'Ad', 15: 'Ad', 16: 'Ad', 17: 'At', 18: 'At', 19: 'At', 20: 'At', 21: 'Ad', 22: 'At', 23: 'Ad', 24: 'Ad', 25: 'Ad', 26: 'At', 27: 'At', 28: 'Ad', 29: 'Ad', 30: 'Ad', 31: 'At', 32: 'At', 33: 'At', 34: 'At', 35: 'At', 36: 'At', 37: 'Ad', 38: 'Ad', 39: 'At', 40: 'Ad', 41: 'At', 42: 'Ad', 43: 'Ad', 44: 'Ad', 45: 'Ad', 46: 'Ad', 47: 'Ad', 48: 'Ad', 49: 'Ad', 50: 'Ad', 51: 'Ad', 52: 'Ad', 53: 'At', 54: 'Ad', 55: 'Ad', 56: 'Ad', 57: 'Ad', 58: 'Ad', 59: 'Ad', 60: 'At', 61: 'At', 62: 'Ad', 63: 'At', 64: 'Ad', 65: 'At', 66: 'Ad', 67: 'Ad', 68: 'Ad', 69: 'Ad', 70: 'Ad', 71: 'Ad', 72: 'Ad', 73: 'Ad', 74: 'Ad', 75: 'Ad', 76: 'Ad', 77: 'Ad', 78: 'Ad', 79: 'Ad', 80: 'Ad', 81: 'At', 82: 'At', 83: 'Ad', 84: 'At', 85: 'At', 86: 'At', 87: 'Ad', 88: 'At', 89: 'Ad', 90: 'At', 91: 'Ad', 92: 'Ad', 93: 'Ad', 94: 'Ad', 95: 'Ad', 96: 'At', 97: 'At', 98: 'Ad', 99: 'At', 100: 'Ad'}\n"
     ]
    }
   ],
   "source": [
    "SARSA_policy = {}\n",
    "for i in es.states:\n",
    "    #print(i)\n",
    "    max_val = np.argmax([es.q_values[(i,act)] for act in es.allowed_actions[i]])\n",
    "    SARSA_policy[i] = es.allowed_actions[i][max_val]\n",
    "print(SARSA_policy)"
   ]
  },
  {
   "cell_type": "code",
   "execution_count": 5,
   "id": "6ed77570-350d-4562-ade4-0cd30b0ff6cc",
   "metadata": {},
   "outputs": [],
   "source": [
    "# Prueba de polica en SARSA\n",
    "num_episodios = 1000\n",
    "win_per = 0\n",
    "prom_step = 0\n",
    "\n",
    "for i in range(num_episodios):\n",
    "    num_steps = 0\n",
    "    state = es.states[0]\n",
    "    states = []\n",
    "    \n",
    "    continue_episode = True\n",
    "    while continue_episode:\n",
    "        # cambia al estado de cima escalera o cola de serpiente\n",
    "        if state in es.snakes:\n",
    "            state = es.state_values[es.snakes[state]]\n",
    "        elif state in es.stairs:\n",
    "            state = es.state_values[es.stairs[state]]\n",
    "            \n",
    "        # Toma la accion de la politica\n",
    "        action = SARSA_policy[state]\n",
    "        # Da un paso en direccion de la politica\n",
    "        new_state, reward, _, done = es.step(state, action, random=True)\n",
    "        \n",
    "        state = new_state\n",
    "        states.append(state)\n",
    "        num_steps+=1\n",
    "        \n",
    "        if done or num_steps >500:\n",
    "            continue_episode = False\n",
    "            if state == 'Azul':\n",
    "                win_per+=1\n",
    "    #print(states)\n",
    "    prom_step += 1/(i+1) *(num_steps - prom_step)\n",
    "    \n",
    "#win_per = win_per*100/num_episodios"
   ]
  },
  {
   "cell_type": "code",
   "execution_count": 6,
   "id": "3863396f-190e-4b19-9621-7f5373d0f07b",
   "metadata": {},
   "outputs": [
    {
     "name": "stdout",
     "output_type": "stream",
     "text": [
      "Promedio pasos por episodio:  37.83899999999997\n",
      "Porcentaje victorias:  76.8\n"
     ]
    }
   ],
   "source": [
    "print(\"Promedio pasos por episodio: \",prom_step)\n",
    "print(\"Porcentaje victorias: \", win_per*100/num_episodios)"
   ]
  },
  {
   "cell_type": "markdown",
   "id": "baac4434-724c-4115-92d2-91cadaa223d2",
   "metadata": {},
   "source": [
    "### Q-Learning"
   ]
  },
  {
   "cell_type": "code",
   "execution_count": 7,
   "id": "8f0273a5-bb04-4703-9fb8-9d31cfcc698d",
   "metadata": {},
   "outputs": [],
   "source": [
    "#Q-learning algorithm\n",
    "\n",
    "# Variables: % ganados, pasos x episodio, alpha y gamma.\n",
    "win_per = 0\n",
    "prom_step = 0\n",
    "alpha = 0.5\n",
    "gamma = 1\n",
    "\n",
    "\n",
    "#Para 1000 episodio\n",
    "for i in range(10000):\n",
    "    # Inicializa las variables para cada episodio\n",
    "    num_steps = 0\n",
    "    state = es.states[0]\n",
    "    \n",
    "    # Inicia el episodio\n",
    "    continue_episode = True\n",
    "    while continue_episode:\n",
    "        # cambia al estado de cima escalera o cola de serpiente\n",
    "        if state in es.snakes:\n",
    "            state = es.state_values[es.snakes[state]]\n",
    "        elif state in es.stairs:\n",
    "            state = es.state_values[es.stairs[state]]\n",
    "\n",
    "        # Tomar acción de forma epsilon-greedy\n",
    "        epsilon = 0.1\n",
    "        if np.random.uniform()<epsilon:\n",
    "            # paso aleatorio\n",
    "            A = np.random.randint(0,2)\n",
    "            actions = es.allowed_actions[1]\n",
    "            action = actions[A]\n",
    "\n",
    "        else:\n",
    "            # paso con accion greedy\n",
    "            act_arg = np.array([es.q_values[(state, act)] for act in es.allowed_actions[state]])\n",
    "            action = es.allowed_actions[state][np.argmax(act_arg)]\n",
    "        \n",
    "        # Obtengo s'\n",
    "        new_state, reward, _, done = es.step(state, action, random=True)\n",
    "\n",
    "        # Valor de max q(s',a). Si es terminal el estado, el valor es 0\n",
    "        if type(new_state) is str:\n",
    "            # Valor max q(s',a) terminal\n",
    "            max_q_val = 0\n",
    "        else:\n",
    "            # Valor max q(s',a) no terminal\n",
    "            action_arg = np.array([es.q_values[(new_state, act)] for act in es.allowed_actions[state]])\n",
    "            new_action = es.allowed_actions[new_state][np.argmax(action_arg)]\n",
    "            max_q_val = es.q_values[(new_state,new_action)]\n",
    "        \n",
    "        # Calculo de actualizacion q(s,a) <- q(s,a) + alpha*(R + gamma*max q(s',a) - q(s,a))\n",
    "        es.q_values[(state, action)] += alpha*(reward + gamma*max_q_val - es.q_values[(state,action)])\n",
    "        \n",
    "        # asigna s = s'\n",
    "        state = new_state\n",
    "        #print(action, state)\n",
    "        # Numero de pasos utilizados en el episodio\n",
    "        #num_steps+=1        \n",
    "\n",
    "        # Parte que termina el episodio si se llega a algun estado terminal\n",
    "        if done:\n",
    "            continue_episode = False\n",
    "            #if state == 'Azul':\n",
    "                #win_per+=1\n",
    "                \n",
    "    # Promedio de pasos por episodio\n",
    "    prom_step += 1/(i+1) *(num_steps - prom_step)\n",
    "    #print('-'*20)\n"
   ]
  },
  {
   "cell_type": "code",
   "execution_count": 8,
   "id": "ee7298b6-359b-4d5c-ae7a-d298c55f294c",
   "metadata": {},
   "outputs": [
    {
     "name": "stdout",
     "output_type": "stream",
     "text": [
      "{1: 'At', 2: 'At', 3: 'At', 4: 'At', 5: 'At', 6: 'At', 7: 'Ad', 8: 'Ad', 9: 'Ad', 10: 'Ad', 11: 'Ad', 12: 'Ad', 13: 'Ad', 14: 'Ad', 15: 'Ad', 16: 'Ad', 17: 'At', 18: 'At', 19: 'At', 20: 'At', 21: 'Ad', 22: 'At', 23: 'Ad', 24: 'Ad', 25: 'Ad', 26: 'Ad', 27: 'Ad', 28: 'At', 29: 'Ad', 30: 'At', 31: 'At', 32: 'At', 33: 'At', 34: 'At', 35: 'At', 36: 'At', 37: 'Ad', 38: 'Ad', 39: 'At', 40: 'At', 41: 'Ad', 42: 'At', 43: 'Ad', 44: 'Ad', 45: 'Ad', 46: 'Ad', 47: 'At', 48: 'Ad', 49: 'Ad', 50: 'Ad', 51: 'Ad', 52: 'Ad', 53: 'At', 54: 'Ad', 55: 'Ad', 56: 'Ad', 57: 'At', 58: 'Ad', 59: 'Ad', 60: 'At', 61: 'At', 62: 'Ad', 63: 'At', 64: 'Ad', 65: 'At', 66: 'Ad', 67: 'At', 68: 'Ad', 69: 'Ad', 70: 'Ad', 71: 'Ad', 72: 'Ad', 73: 'Ad', 74: 'Ad', 75: 'Ad', 76: 'Ad', 77: 'Ad', 78: 'Ad', 79: 'At', 80: 'Ad', 81: 'At', 82: 'At', 83: 'Ad', 84: 'At', 85: 'At', 86: 'At', 87: 'At', 88: 'At', 89: 'Ad', 90: 'Ad', 91: 'Ad', 92: 'Ad', 93: 'Ad', 94: 'Ad', 95: 'Ad', 96: 'At', 97: 'At', 98: 'Ad', 99: 'At', 100: 'Ad'}\n"
     ]
    }
   ],
   "source": [
    "Qlearning_policy = {}\n",
    "for i in es.states:\n",
    "    #print(i)\n",
    "    max_val = np.argmax([es.q_values[(i,act)] for act in es.allowed_actions[i]])\n",
    "    Qlearning_policy[i] = es.allowed_actions[i][max_val]\n",
    "print(Qlearning_policy)"
   ]
  },
  {
   "cell_type": "code",
   "execution_count": 9,
   "id": "c99fa169-dd53-4988-9fd2-c980e4d055f7",
   "metadata": {},
   "outputs": [],
   "source": [
    "# Prueba de polica Qlearning\n",
    "num_episodios = 1000\n",
    "win_per = 0\n",
    "prom_step = 0\n",
    "\n",
    "for i in range(num_episodios):\n",
    "    num_steps = 0\n",
    "    state = es.states[0]\n",
    "    states = []\n",
    "    \n",
    "    continue_episode = True\n",
    "    while continue_episode:\n",
    "        # cambia al estado de cima escalera o cola de serpiente\n",
    "        if state in es.snakes:\n",
    "            state = es.state_values[es.snakes[state]]\n",
    "        elif state in es.stairs:\n",
    "            state = es.state_values[es.stairs[state]]\n",
    "            \n",
    "        # Toma la accion de la politica\n",
    "        action = Qlearning_policy[state]\n",
    "        # Da un paso en direccion de la politica\n",
    "        new_state, reward, _, done = es.step(state, action, random=True)\n",
    "        \n",
    "        state = new_state\n",
    "        states.append(state)\n",
    "        num_steps+=1\n",
    "        #print(action, state)\n",
    "        \n",
    "        if done or num_steps >500:\n",
    "            continue_episode = False\n",
    "            if state == 'Azul':\n",
    "                win_per+=1\n",
    "    #print(states)\n",
    "    prom_step += 1/(i+1) *(num_steps - prom_step)\n",
    "    \n",
    "#win_per = win_per*100/num_episodios"
   ]
  },
  {
   "cell_type": "code",
   "execution_count": 10,
   "id": "61abd953-8099-4ef8-baf4-595e229ba189",
   "metadata": {},
   "outputs": [
    {
     "name": "stdout",
     "output_type": "stream",
     "text": [
      "Promedio pasos por episodio:  83.56000000000017\n",
      "Porcentaje victorias: 90.5\n"
     ]
    }
   ],
   "source": [
    "print('Promedio pasos por episodio: ',prom_step)\n",
    "print('Porcentaje victorias:' ,win_per*100/num_episodios)"
   ]
  }
 ],
 "metadata": {
  "kernelspec": {
   "display_name": "Python 3 (ipykernel)",
   "language": "python",
   "name": "python3"
  },
  "language_info": {
   "codemirror_mode": {
    "name": "ipython",
    "version": 3
   },
   "file_extension": ".py",
   "mimetype": "text/x-python",
   "name": "python",
   "nbconvert_exporter": "python",
   "pygments_lexer": "ipython3",
   "version": "3.10.8"
  }
 },
 "nbformat": 4,
 "nbformat_minor": 5
}
