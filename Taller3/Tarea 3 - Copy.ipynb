{
 "cells": [
  {
   "cell_type": "code",
   "execution_count": 265,
   "id": "59c1c20a",
   "metadata": {},
   "outputs": [],
   "source": [
    "from types import MethodType\n",
    "from escalerasyserpientes import EscalerasSerpientes\n",
    "import copy\n",
    "import numpy as np\n",
    "import random"
   ]
  },
  {
   "cell_type": "markdown",
   "id": "ed9be020",
   "metadata": {},
   "source": [
    "Inicializar el MDP:"
   ]
  },
  {
   "cell_type": "code",
   "execution_count": 266,
   "id": "75920e46",
   "metadata": {},
   "outputs": [],
   "source": [
    "es=EscalerasSerpientes([80,100],[23,37,45,67,89],0)"
   ]
  },
  {
   "cell_type": "markdown",
   "id": "38bdd571",
   "metadata": {},
   "source": [
    "Visuaizar estados:"
   ]
  },
  {
   "cell_type": "code",
   "execution_count": 267,
   "id": "16757cc0",
   "metadata": {},
   "outputs": [],
   "source": [
    "print(es.states)"
   ]
  },
  {
   "cell_type": "markdown",
   "id": "da771157",
   "metadata": {},
   "source": [
    "Visualizar la política arbitraria"
   ]
  },
  {
   "cell_type": "code",
   "execution_count": 268,
   "id": "2f7be134",
   "metadata": {},
   "outputs": [],
   "source": [
    "print(es.policy)"
   ]
  },
  {
   "cell_type": "markdown",
   "id": "28659dae",
   "metadata": {},
   "source": [
    "Visualizar Q(S,A)"
   ]
  },
  {
   "cell_type": "code",
   "execution_count": 269,
   "id": "a126bd77",
   "metadata": {},
   "outputs": [],
   "source": [
    "print(es.Q)"
   ]
  },
  {
   "cell_type": "markdown",
   "id": "8dd3626a",
   "metadata": {},
   "source": [
    "Probar función de pasos para estados resultantes:"
   ]
  },
  {
   "cell_type": "code",
   "execution_count": 270,
   "id": "922a2865",
   "metadata": {},
   "outputs": [],
   "source": [
    "state_prueba=97\n",
    "action_prueba=5\n",
    "print(es.step(state_prueba, action_prueba, random=False))"
   ]
  },
  {
   "cell_type": "markdown",
   "id": "e3fb7c09",
   "metadata": {},
   "source": [
    "Probar función de pasos para acciones del agente:"
   ]
  },
  {
   "cell_type": "code",
   "execution_count": 7,
   "id": "e0a8e40a",
   "metadata": {},
   "outputs": [],
   "source": [
    "state_prueba=98\n",
    "action_prueba='Ad'\n",
    "for i in range(6):\n",
    "    print(es.step(state_prueba, action_prueba, random=True))\n"
   ]
  },
  {
   "cell_type": "code",
   "execution_count": 278,
   "id": "817723fe",
   "metadata": {},
   "outputs": [],
   "source": [
    "def episodio(policy):\n",
    "    state=1\n",
    "    steps=0\n",
    "    state_s=[1]\n",
    "    rewards=[]\n",
    "    tried_actions=[]\n",
    "    real_actions=[]\n",
    "    dones=[]\n",
    "    probs=[]\n",
    "    while True:\n",
    "        pol,prob=policy(state)\n",
    "\n",
    "        state_, reward,try_action, real_action, done=es.step(state, pol, random=True)\n",
    "        print(state)\n",
    "        state_s.append(state_)\n",
    "        rewards.append(reward)\n",
    "        real_actions.append(real_action)\n",
    "        dones.append(done)\n",
    "        probs.append(prob)\n",
    "        tried_actions.append(try_action)\n",
    "        \n",
    "        state=state_\n",
    "        \n",
    "        steps+=1\n",
    "        \n",
    "        if done:\n",
    "            return state_s,rewards,tried_actions,real_actions,dones,probs,steps"
   ]
  },
  {
   "cell_type": "markdown",
   "id": "769cd5c3",
   "metadata": {},
   "source": [
    "Función de política:"
   ]
  },
  {
   "cell_type": "code",
   "execution_count": 273,
   "id": "dfbb3e8b",
   "metadata": {},
   "outputs": [],
   "source": [
    "def policy(state):\n",
    "    return es.policy[state],1"
   ]
  },
  {
   "cell_type": "markdown",
   "id": "e35ac5c4",
   "metadata": {},
   "source": [
    "Prueba la política arbitraria. "
   ]
  },
  {
   "cell_type": "code",
   "execution_count": 274,
   "id": "01b6624d",
   "metadata": {},
   "outputs": [],
   "source": [
    "es.policy={1:'Ad', 2: 'Ad', 3: 'At', 4: 'At', 5: 'At', 6: 'Ad', 7: 'At', 8: 'Ad', 9: 'Ad', 10: 'Ad', 11: 'Ad', 12: 'Ad', 13: 'Ad', 14: 'Ad', 15: 'At', 16: 'At', 17: 'At', 18: 'At', 19: 'At', 20: 'At', 21: 'Ad', 22: 'At', 23: 'Ad', 24: 'Ad', 25: 'Ad', 26: 'Ad', 27: 'Ad', 28: 'Ad', 29: 'At', 30: 'At', 31: 'At', 32: 'At', 33: 'At', 34: 'At', 35: 'At', 36: 'At', 37: 'Ad', 38: 'Ad', 39: 'Ad', 40: 'Ad', 41: 'At', 42: 'Ad', 43: 'Ad', 44: 'Ad', 45: 'Ad', 46: 'Ad', 47: 'Ad', 48: 'Ad', 49: 'Ad', 50: 'Ad', 51: 'Ad', 52: 'Ad', 53: 'At', 54: 'Ad', 55: 'Ad', 56: 'Ad', 57: 'Ad', 58: 'Ad', 59: 'Ad', 60: 'Ad', 61: 'At', 62: 'Ad', 63: 'At', 64: 'Ad', 65: 'Ad', 66: 'Ad', 67: 'Ad', 68: 'Ad', 69: 'Ad', 70: 'Ad', 71: 'Ad', 72: 'Ad', 73: 'Ad', 74: 'Ad', 75: 'Ad', 76: 'Ad', 77: 'At', 78: 'Ad', 79: 'Ad', 80: 'Ad', 81: 'At', 82: 'At', 83: 'Ad', 84: 'At', 85: 'At', 86: 'At', 87: 'At', 88: 'At', 89: 'Ad', 90: 'Ad', 91: 'Ad', 92: 'Ad', 93: 'Ad', 94: 'Ad', 95: 'Ad', 96: 'At', 97: 'Ad', 98: 'Ad', 99: 'At',100:'Ad'}\n"
   ]
  },
  {
   "cell_type": "code",
   "execution_count": 275,
   "id": "b8ee792b",
   "metadata": {},
   "outputs": [],
   "source": [
    "es.policy={1: 'Ad', 2: 'At', 3: 'At', 4: 'At', 5: 'At', 6: 'At', 7: 'At', 8: 'Ad', 9: 'Ad', 10: 'Ad', 11: 'Ad', 12: 'Ad', 13: 'Ad', 14: 'Ad', 15: 'Ad', 16: 'Ad', 17: 'At', 18: 'At', 19: 'At', 20: 'At', 21: 'Ad', 22: 'At', 23: 'Ad', 24: 'Ad', 25: 'Ad', 26: 'Ad', 27: 'Ad', 28: 'Ad', 29: 'Ad', 30: 'Ad', 31: 'At', 32: 'At', 33: 'At', 34: 'At', 35: 'At', 36: 'At', 37: 'Ad', 38: 'Ad', 39: 'Ad', 40: 'Ad', 41: 'Ad', 42: 'Ad', 43: 'Ad', 44: 'Ad', 45: 'Ad', 46: 'Ad', 47: 'Ad', 48: 'Ad', 49: 'Ad', 50: 'Ad', 51: 'Ad', 52: 'Ad', 53: 'Ad', 54: 'Ad', 55: 'Ad', 56: 'Ad', 57: 'Ad', 58: 'Ad', 59: 'Ad', 60: 'At', 61: 'At', 62: 'Ad', 63: 'At', 64: 'Ad', 65: 'Ad', 66: 'Ad', 67: 'At', 68: 'Ad', 69: 'Ad', 70: 'At', 71: 'Ad', 72: 'Ad', 73: 'Ad', 74: 'Ad', 75: 'Ad', 76: 'Ad', 77: 'Ad', 78: 'Ad', 79: 'Ad', 80: 'Ad', 81: 'At', 82: 'At', 83: 'Ad', 84: 'At', 85: 'At', 86: 'At', 87: 'At', 88: 'At', 89: 'Ad', 90: 'Ad', 91: 'Ad', 92: 'Ad', 93: 'Ad', 94: 'Ad', 95: 'Ad', 96: 'At', 97: 'At', 98: 'Ad', 99: 'At',100:'Ad'}"
   ]
  },
  {
   "cell_type": "code",
   "execution_count": null,
   "id": "f0cd9dac",
   "metadata": {},
   "outputs": [],
   "source": [
    "counter=0\n",
    "for i in range(1):\n",
    "    print('ds')\n",
    "    state_s,rewards,tried_actions,real_actions,dones,probs,steps=episodio(policy)\n",
    "    print(state_s)\n",
    "    if state_s[-1]=='Azul':\n",
    "        counter+=1\n",
    "        \n",
    "print(counter)\n",
    "\n",
    "for i in reversed(range(len(state_s[0:-2]))):\n",
    "    print (f'{state_s[i]}        {rewards[i]}            {tried_actions[i]}         {real_actions[i]} ')\n"
   ]
  },
  {
   "cell_type": "markdown",
   "id": "829dca45",
   "metadata": {},
   "source": [
    "Selecciona acción usando Q y epsilon greedy"
   ]
  },
  {
   "cell_type": "code",
   "execution_count": 236,
   "id": "ece6fe83",
   "metadata": {},
   "outputs": [],
   "source": [
    "def eps_greedy(state,epsilon=0.1):\n",
    "    rand = np.random.uniform()\n",
    "    if rand>epsilon:\n",
    "        return es.key_max(es.Q[state])[0],1-epsilon\n",
    "    else:\n",
    "        return random.choice(list(es.Q[state].keys())),epsilon"
   ]
  },
  {
   "cell_type": "markdown",
   "id": "0c5c2437",
   "metadata": {},
   "source": [
    "Inicialización:"
   ]
  },
  {
   "cell_type": "code",
   "execution_count": 237,
   "id": "cc12da34",
   "metadata": {},
   "outputs": [],
   "source": [
    "es.Q=es.init_Q(0,0)\n",
    "es.C=es.init_Q(0,0)\n",
    "es.policy = dict.fromkeys(es.states, 'Ad')"
   ]
  },
  {
   "cell_type": "markdown",
   "id": "6a7d7c2a",
   "metadata": {},
   "source": [
    "Política con MonteCarlo Off-Policy"
   ]
  },
  {
   "cell_type": "code",
   "execution_count": 238,
   "id": "d1f1f704",
   "metadata": {},
   "outputs": [],
   "source": [
    "def MC_offpolicy(es,gamma):\n",
    "    #Genera el episodio\n",
    "    state_s,rewards,tried_actions,real_actions,dones,probs,steps=episodio(eps_greedy)\n",
    "    G=0\n",
    "    W=1\n",
    "    for i in reversed(range(len(state_s[0:-2]))):\n",
    "        G=gamma*G+rewards[i+1]\n",
    "        es.C[state_s[i]][tried_actions[i]]=es.C[state_s[i]][tried_actions[i]]+W\n",
    "        es.Q[state_s[i]][tried_actions[i]]=es.Q[state_s[i]][tried_actions[i]]+(W/(es.C[state_s[i]][tried_actions[i]]))*(G-es.Q[state_s[i]][tried_actions[i]])\n",
    "        es.policy[state_s[i]]=es.key_max(es.Q[state_s[i]])[0]\n",
    "        if tried_actions==es.policy[state_s[i]]:\n",
    "            break\n",
    "        W=W*(1/probs[i])"
   ]
  },
  {
   "cell_type": "code",
   "execution_count": 239,
   "id": "17f1713f",
   "metadata": {},
   "outputs": [],
   "source": [
    "for i in range(0,100000):\n",
    "    MC_offpolicy(es,0.9)\n",
    "print(es.policy)"
   ]
  },
  {
   "cell_type": "code",
   "execution_count": null,
   "id": "3d727f93",
   "metadata": {},
   "outputs": [],
   "source": [
    "\n"
   ]
  }
 ],
 "metadata": {
  "kernelspec": {
   "display_name": "Python 3 (ipykernel)",
   "language": "python",
   "name": "python3"
  },
  "language_info": {
   "codemirror_mode": {
    "name": "ipython",
    "version": 3
   },
   "file_extension": ".py",
   "mimetype": "text/x-python",
   "name": "python",
   "nbconvert_exporter": "python",
   "pygments_lexer": "ipython3",
   "version": "3.9.13"
  }
 },
 "nbformat": 4,
 "nbformat_minor": 5
}
