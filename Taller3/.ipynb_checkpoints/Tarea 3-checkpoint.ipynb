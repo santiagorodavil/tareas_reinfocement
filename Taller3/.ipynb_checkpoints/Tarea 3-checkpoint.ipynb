{
 "cells": [
  {
   "cell_type": "code",
   "execution_count": 56,
   "id": "42f87e32-e6dc-47f7-a488-b4d0e32683cf",
   "metadata": {},
   "outputs": [],
   "source": [
    "from types import MethodType\n",
    "from escalerasyserpientes import EscalerasSerpientes\n",
    "import copy\n",
    "import numpy as np"
   ]
  },
  {
   "cell_type": "code",
   "execution_count": 69,
   "id": "f3ec77cf-fbea-471d-9f39-0b3eb1463381",
   "metadata": {},
   "outputs": [],
   "source": [
    "es=EscalerasSerpientes([80,100],[23,37,45,67,89],0.0)"
   ]
  },
  {
   "cell_type": "code",
   "execution_count": 77,
   "id": "5c308966-a519-441d-a87a-b5739771bc98",
   "metadata": {},
   "outputs": [],
   "source": [
    "#SARSA algorithm\n",
    "\n",
    "# Variables: % ganados, pasos x episodio, alpha y gamma.\n",
    "win_per = 0\n",
    "prom_step = []\n",
    "alpha = 0.5\n",
    "gamma = 1\n",
    "\n",
    "\n",
    "#Para 1000 episodio\n",
    "for i in range(1000):\n",
    "    # Inicializa las variables para cada episodio\n",
    "    num_steps = 0\n",
    "    state = es.states[0]\n",
    "    act_arg = np.array([es.q_values[(state, act)] for act in es.allowed_actions[state]])\n",
    "    action = es.allowed_actions[state][np.argmax(act_arg)]\n",
    "    \n",
    "    # Inicia el episodio\n",
    "    continue_episode = True\n",
    "    while continue_episode:\n",
    "        # cambia al estado de cima escalera o cola de serpiente\n",
    "        if state in es.snakes:\n",
    "            state = es.state_values[es.snakes[state]]\n",
    "        elif state in es.stairs:\n",
    "            state = es.state_values[es.stairs[state]]\n",
    "\n",
    "        # Tomar acción dependiendo de epsilon y de la acción con mayor recompensa\n",
    "        epsilon = 0.1\n",
    "        if np.random.uniform()<epsilon:\n",
    "            # paso aleatorio\n",
    "            A = np.random.randint(0,2)\n",
    "            actions = es.allowed_actions[1]\n",
    "            action = actions[A]\n",
    "            new_state, reward, _, done = es.step(state, action, random=True)\n",
    "\n",
    "        else:\n",
    "            # paso con accion greedy\n",
    "            new_state, reward, _, done = es.step(state, action, random=True)\n",
    "\n",
    "        # Valor de la función q en el s',a'. Si es terminal el estado, el valor es 0\n",
    "        if type(new_state) is str:\n",
    "            # Valor q(s',a') terminal\n",
    "            q_value_next_step = 0\n",
    "        else:\n",
    "            # Valor q(s',a') no terminal\n",
    "            action_arg = np.array([es.q_values[(new_state, act)] for act in es.allowed_actions[state]])\n",
    "            new_action = es.allowed_actions[new_state][np.argmax(action_arg)]\n",
    "            q_value_next_step = es.q_values[(new_state,new_action)]\n",
    "        \n",
    "        # Calculo de actualizacion q(s,a) <- q(s,a) + alpha*(R + gamma*q(s',a') - q(s,a))\n",
    "        es.q_values[(state, action)] += alpha*(reward + gamma*q_value_next_step - es.q_values[(state,action)])\n",
    "        \n",
    "        # asigna a = a' y s = s'\n",
    "        state = new_state\n",
    "        action = new_action\n",
    "        #print(action, state)\n",
    "        # Numero de pasos utilizados en el episodio\n",
    "        num_steps+=1        \n",
    "\n",
    "        # Parte que termina el episodio si se llega a algun estado terminal\n",
    "        if done:\n",
    "            continue_episode = False\n",
    "            if state == 'Azul':\n",
    "                win_per+=1\n",
    "                \n",
    "    # Lista que agrega el numero total de pasos empleados en cada episodio         \n",
    "    prom_step.append(num_steps)\n"
   ]
  },
  {
   "cell_type": "code",
   "execution_count": 74,
   "id": "3863396f-190e-4b19-9621-7f5373d0f07b",
   "metadata": {},
   "outputs": [
    {
     "data": {
      "text/plain": [
       "111.333"
      ]
     },
     "execution_count": 74,
     "metadata": {},
     "output_type": "execute_result"
    }
   ],
   "source": [
    "sum(prom_step)/1000"
   ]
  },
  {
   "cell_type": "code",
   "execution_count": 71,
   "id": "e7d59cd7-473a-4296-8738-f0b7f4900c29",
   "metadata": {},
   "outputs": [
    {
     "name": "stdout",
     "output_type": "stream",
     "text": [
      "62.3\n"
     ]
    }
   ],
   "source": [
    "print(win_per*100/1000)  "
   ]
  },
  {
   "cell_type": "code",
   "execution_count": 67,
   "id": "a0df1d8f-17ae-447a-aa77-ca9a3f1793d4",
   "metadata": {},
   "outputs": [
    {
     "name": "stdout",
     "output_type": "stream",
     "text": [
      "{1: 'At', 2: 'At', 3: 'At', 4: 'At', 5: 'At', 6: 'At', 7: 'At', 8: 'Ad', 9: 'Ad', 10: 'Ad', 11: 'Ad', 12: 'Ad', 13: 'Ad', 14: 'Ad', 15: 'Ad', 16: 'Ad', 17: 'At', 18: 'At', 19: 'At', 20: 'At', 21: 'Ad', 22: 'At', 23: 'Ad', 24: 'Ad', 25: 'Ad', 26: 'At', 27: 'Ad', 28: 'Ad', 29: 'Ad', 30: 'At', 31: 'At', 32: 'At', 33: 'At', 34: 'At', 35: 'At', 36: 'At', 37: 'Ad', 38: 'Ad', 39: 'At', 40: 'Ad', 41: 'At', 42: 'Ad', 43: 'Ad', 44: 'Ad', 45: 'At', 46: 'Ad', 47: 'Ad', 48: 'Ad', 49: 'Ad', 50: 'Ad', 51: 'Ad', 52: 'Ad', 53: 'Ad', 54: 'Ad', 55: 'Ad', 56: 'Ad', 57: 'Ad', 58: 'Ad', 59: 'Ad', 60: 'Ad', 61: 'Ad', 62: 'Ad', 63: 'Ad', 64: 'Ad', 65: 'Ad', 66: 'Ad', 67: 'At', 68: 'Ad', 69: 'Ad', 70: 'Ad', 71: 'Ad', 72: 'Ad', 73: 'Ad', 74: 'Ad', 75: 'Ad', 76: 'Ad', 77: 'Ad', 78: 'Ad', 79: 'Ad', 80: 'Ad', 81: 'At', 82: 'At', 83: 'Ad', 84: 'At', 85: 'At', 86: 'At', 87: 'At', 88: 'At', 89: 'At', 90: 'At', 91: 'Ad', 92: 'Ad', 93: 'Ad', 94: 'Ad', 95: 'Ad', 96: 'Ad', 97: 'Ad', 98: 'Ad', 99: 'Ad', 100: 'Ad'}\n"
     ]
    }
   ],
   "source": [
    "policy = {}\n",
    "for i in es.states:\n",
    "    #print(i)\n",
    "    max_val = np.argmax([es.q_values[(i,act)] for act in es.allowed_actions[i]])\n",
    "    policy[i] = es.allowed_actions[i][max_val]\n",
    "print(policy)"
   ]
  },
  {
   "cell_type": "code",
   "execution_count": 59,
   "id": "410bd014-db8a-4560-9f50-4672090bcce6",
   "metadata": {},
   "outputs": [
    {
     "name": "stdout",
     "output_type": "stream",
     "text": [
      "\n"
     ]
    }
   ],
   "source": [
    "es.q_values\n"
   ]
  },
  {
   "cell_type": "code",
   "execution_count": 76,
   "id": "8f0273a5-bb04-4703-9fb8-9d31cfcc698d",
   "metadata": {},
   "outputs": [
    {
     "data": {
      "text/plain": [
       "'\\nstate = 99\\nprint(type (es.allowed_actions[state]))\\na = ([q_value[(state,a)] for a in es.allowed_actions[state]])\\nprint(np.argmax(a),state)\\nprint(es.allowed_actions[state][np.argmax(a)])\\n#print(es.q_values(state,a) for a in es.allowed_actions[state])\\n'"
      ]
     },
     "execution_count": 76,
     "metadata": {},
     "output_type": "execute_result"
    }
   ],
   "source": [
    "'''\n",
    "state = 99\n",
    "print(type (es.allowed_actions[state]))\n",
    "a = ([q_value[(state,a)] for a in es.allowed_actions[state]])\n",
    "print(np.argmax(a),state)\n",
    "print(es.allowed_actions[state][np.argmax(a)])\n",
    "#print(es.q_values(state,a) for a in es.allowed_actions[state])\n",
    "'''"
   ]
  }
 ],
 "metadata": {
  "kernelspec": {
   "display_name": "Python 3 (ipykernel)",
   "language": "python",
   "name": "python3"
  },
  "language_info": {
   "codemirror_mode": {
    "name": "ipython",
    "version": 3
   },
   "file_extension": ".py",
   "mimetype": "text/x-python",
   "name": "python",
   "nbconvert_exporter": "python",
   "pygments_lexer": "ipython3",
   "version": "3.10.8"
  }
 },
 "nbformat": 4,
 "nbformat_minor": 5
}
