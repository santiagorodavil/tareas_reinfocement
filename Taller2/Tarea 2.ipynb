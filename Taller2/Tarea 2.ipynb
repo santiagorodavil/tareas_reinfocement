{
 "cells": [
  {
   "cell_type": "code",
   "execution_count": 1,
   "id": "59c1c20a",
   "metadata": {},
   "outputs": [],
   "source": [
    "from types import MethodType\n",
    "from escalerasyserpientes import EscalerasSerpientes\n",
    "import copy\n",
    "import numpy as np"
   ]
  },
  {
   "cell_type": "markdown",
   "id": "ed9be020",
   "metadata": {},
   "source": [
    "Inicializar el MDP:"
   ]
  },
  {
   "cell_type": "code",
   "execution_count": 57,
   "id": "75920e46",
   "metadata": {},
   "outputs": [],
   "source": [
    "es=EscalerasSerpientes([80,100],[23,37,45,67,89],-0.1)"
   ]
  },
  {
   "cell_type": "markdown",
   "id": "38bdd571",
   "metadata": {},
   "source": [
    "Visuaizar estados:"
   ]
  },
  {
   "cell_type": "code",
   "execution_count": 58,
   "id": "16757cc0",
   "metadata": {},
   "outputs": [
    {
     "name": "stdout",
     "output_type": "stream",
     "text": [
      "[1, 2, 3, 4, 5, 6, 7, 8, 9, 10, 11, 12, 13, 14, 15, 16, 17, 18, 19, 20, 21, 22, 23, 24, 25, 26, 27, 28, 29, 30, 31, 32, 33, 34, 35, 36, 37, 38, 39, 40, 41, 42, 43, 44, 45, 46, 47, 48, 49, 50, 51, 52, 53, 54, 55, 56, 57, 58, 59, 60, 61, 62, 63, 64, 65, 66, 67, 68, 69, 70, 71, 72, 73, 74, 75, 76, 77, 78, 79, 80, 81, 82, 83, 84, 85, 86, 87, 88, 89, 90, 91, 92, 93, 94, 95, 96, 97, 98, 99, 100]\n"
     ]
    }
   ],
   "source": [
    "print(es.states)"
   ]
  },
  {
   "cell_type": "markdown",
   "id": "da771157",
   "metadata": {},
   "source": [
    "Visualizar la política"
   ]
  },
  {
   "cell_type": "code",
   "execution_count": 59,
   "id": "2f7be134",
   "metadata": {},
   "outputs": [
    {
     "name": "stdout",
     "output_type": "stream",
     "text": [
      "{1: 'Ad', 2: 'Ad', 3: 'Ad', 4: 'Ad', 5: 'Ad', 6: 'Ad', 7: 'Ad', 8: 'Ad', 9: 'Ad', 10: 'Ad', 11: 'Ad', 12: 'Ad', 13: 'Ad', 14: 'Ad', 15: 'Ad', 16: 'Ad', 17: 'Ad', 18: 'Ad', 19: 'Ad', 20: 'Ad', 21: 'Ad', 22: 'Ad', 23: 'Ad', 24: 'Ad', 25: 'Ad', 26: 'Ad', 27: 'Ad', 28: 'Ad', 29: 'Ad', 30: 'Ad', 31: 'Ad', 32: 'Ad', 33: 'Ad', 34: 'Ad', 35: 'Ad', 36: 'Ad', 37: 'Ad', 38: 'Ad', 39: 'Ad', 40: 'Ad', 41: 'Ad', 42: 'Ad', 43: 'Ad', 44: 'Ad', 45: 'Ad', 46: 'Ad', 47: 'Ad', 48: 'Ad', 49: 'Ad', 50: 'Ad', 51: 'Ad', 52: 'Ad', 53: 'Ad', 54: 'Ad', 55: 'Ad', 56: 'Ad', 57: 'Ad', 58: 'Ad', 59: 'Ad', 60: 'Ad', 61: 'Ad', 62: 'Ad', 63: 'Ad', 64: 'Ad', 65: 'Ad', 66: 'Ad', 67: 'Ad', 68: 'Ad', 69: 'Ad', 70: 'Ad', 71: 'Ad', 72: 'Ad', 73: 'Ad', 74: 'Ad', 75: 'Ad', 76: 'Ad', 77: 'Ad', 78: 'Ad', 79: 'Ad', 80: 'Ad', 81: 'Ad', 82: 'Ad', 83: 'Ad', 84: 'Ad', 85: 'Ad', 86: 'Ad', 87: 'Ad', 88: 'Ad', 89: 'Ad', 90: 'Ad', 91: 'Ad', 92: 'Ad', 93: 'Ad', 94: 'Ad', 95: 'Ad', 96: 'Ad', 97: 'Ad', 98: 'Ad', 99: 'Ad', 100: 'Ad'}\n"
     ]
    }
   ],
   "source": [
    "print(es.policy)"
   ]
  },
  {
   "cell_type": "markdown",
   "id": "8dd3626a",
   "metadata": {},
   "source": [
    "Probar función de pasos para estados resultantes:"
   ]
  },
  {
   "cell_type": "code",
   "execution_count": 60,
   "id": "922a2865",
   "metadata": {},
   "outputs": [
    {
     "name": "stdout",
     "output_type": "stream",
     "text": [
      "(97, -0.1, 5, False)\n"
     ]
    }
   ],
   "source": [
    "state_prueba=98\n",
    "action_prueba=5\n",
    "print(es.step(state_prueba, action_prueba, random=False))"
   ]
  },
  {
   "cell_type": "markdown",
   "id": "e3fb7c09",
   "metadata": {},
   "source": [
    "Probar función de pasos para acciones del agente:"
   ]
  },
  {
   "cell_type": "code",
   "execution_count": 61,
   "id": "e0a8e40a",
   "metadata": {},
   "outputs": [
    {
     "name": "stdout",
     "output_type": "stream",
     "text": [
      "(28, -0.1, 4, False)\n",
      "(99, -0.1, 1, False)\n",
      "(99, -0.1, 1, False)\n",
      "(99, -0.1, 1, False)\n",
      "(97, -0.1, 5, False)\n",
      "(99, -0.1, 1, False)\n",
      "(99, -0.1, 1, False)\n",
      "(99, -0.1, 1, False)\n",
      "(100, -0.1, 2, False)\n",
      "(97, -0.1, 5, False)\n",
      "(28, -0.1, 4, False)\n",
      "(28, -0.1, 4, False)\n",
      "(99, -0.1, 3, False)\n",
      "(28, -0.1, 4, False)\n",
      "(97, -0.1, 5, False)\n",
      "(99, -0.1, 1, False)\n",
      "(28, -0.1, 4, False)\n",
      "(97, -0.1, 5, False)\n"
     ]
    }
   ],
   "source": [
    "state_prueba=98\n",
    "action_prueba='Ad'\n",
    "for i in range(6*3):\n",
    "    print(es.step(state_prueba, action_prueba, random=True))\n"
   ]
  },
  {
   "cell_type": "markdown",
   "id": "6a7d7c2a",
   "metadata": {},
   "source": [
    "Actualización de valores:"
   ]
  },
  {
   "cell_type": "code",
   "execution_count": 62,
   "id": "826b3169",
   "metadata": {},
   "outputs": [],
   "source": [
    "def update_values(es, gamma):\n",
    "    # Arreglos para los valores\n",
    "    value = dict.fromkeys(es.states , 0.0)\n",
    "    new_values = dict.fromkeys(es.states , 0.0)\n",
    "    \n",
    "    for state in es.states: \n",
    "        if state in es.snakes:\n",
    "            new_values[state]=es.state_values[es.snakes[state]]\n",
    "        elif state in es.stairs:\n",
    "            new_values[state]=es.state_values[es.stairs[state]]\n",
    "        else:\n",
    "            # Tomar acción de politica dada\n",
    "            action = es.policy[state]\n",
    "            prob=es.action_probabilities[0]\n",
    "            \n",
    "            real_actions=es.real_actions[action]\n",
    "            for real_action in real_actions:\n",
    "                # Dar un paso\n",
    "                new_state, reward, _, done = es.step(state, real_action, random=False)\n",
    "                # Actualizar valores\n",
    "                if(done):\n",
    "                    # actualización para un estado terminal\n",
    "                    new_values[state] = reward\n",
    "                else:\n",
    "                    # actualización para un estado no terminal\n",
    "                    new_values[state] += prob*(reward + gamma*es.state_values[new_state]) #borrar\n",
    "\n",
    "    # Copiar valores\n",
    "    value = copy.deepcopy(new_values) \n",
    "    es.state_values = copy.deepcopy(new_values) "
   ]
  },
  {
   "cell_type": "markdown",
   "id": "856a6eb3",
   "metadata": {},
   "source": [
    "Gamma en 0.9, horizonte en 2 y política siempre adelante"
   ]
  },
  {
   "cell_type": "code",
   "execution_count": 63,
   "id": "3b031fef",
   "metadata": {},
   "outputs": [],
   "source": [
    "gamma = 0.9\n",
    "H = 2"
   ]
  },
  {
   "cell_type": "markdown",
   "id": "093d6275",
   "metadata": {},
   "source": [
    "Inicializa valores y corre programación dinámica"
   ]
  },
  {
   "cell_type": "code",
   "execution_count": 64,
   "id": "196ac5d2",
   "metadata": {
    "scrolled": true
   },
   "outputs": [],
   "source": [
    "es.state_values=es.init_values()\n",
    "es.update_values = MethodType(update_values, es)\n",
    "es.solve_dynamic_programming(gamma=gamma, horizon=H)"
   ]
  },
  {
   "cell_type": "markdown",
   "id": "f8f27633",
   "metadata": {},
   "source": [
    "Función de valor:"
   ]
  },
  {
   "cell_type": "code",
   "execution_count": 65,
   "id": "ae627731",
   "metadata": {},
   "outputs": [
    {
     "name": "stdout",
     "output_type": "stream",
     "text": [
      "V(1) = -0.190\n",
      "V(2) = -0.190\n",
      "V(3) = -0.190\n",
      "V(4) = -0.190\n",
      "V(5) = -0.190\n",
      "V(6) = -0.190\n",
      "V(7) = -0.190\n",
      "V(8) = -0.100\n",
      "V(9) = -0.190\n",
      "V(10) = -0.190\n",
      "V(11) = -0.190\n",
      "V(12) = -0.190\n",
      "V(13) = -0.190\n",
      "V(14) = -0.190\n",
      "V(15) = -0.190\n",
      "V(16) = -0.190\n",
      "V(17) = -0.325\n",
      "V(18) = -0.325\n",
      "V(19) = -0.325\n",
      "V(20) = -0.325\n",
      "V(21) = -0.100\n",
      "V(22) = -0.325\n",
      "V(23) = -1.000\n",
      "V(24) = -0.190\n",
      "V(25) = -0.190\n",
      "V(26) = -0.190\n",
      "V(27) = -0.190\n",
      "V(28) = -0.190\n",
      "V(29) = -0.190\n",
      "V(30) = -0.190\n",
      "V(31) = -0.325\n",
      "V(32) = -0.325\n",
      "V(33) = -0.325\n",
      "V(34) = -0.325\n",
      "V(35) = -0.325\n",
      "V(36) = -0.325\n",
      "V(37) = -1.000\n",
      "V(38) = -0.190\n",
      "V(39) = -0.325\n",
      "V(40) = -0.325\n",
      "V(41) = -0.325\n",
      "V(42) = -0.325\n",
      "V(43) = -0.100\n",
      "V(44) = -0.100\n",
      "V(45) = -1.000\n",
      "V(46) = -0.100\n",
      "V(47) = -0.190\n",
      "V(48) = -0.100\n",
      "V(49) = -0.190\n",
      "V(50) = -0.100\n",
      "V(51) = -0.190\n",
      "V(52) = -0.100\n",
      "V(53) = -0.190\n",
      "V(54) = -0.100\n",
      "V(55) = -0.100\n",
      "V(56) = -0.190\n",
      "V(57) = -0.190\n",
      "V(58) = -0.190\n",
      "V(59) = -0.100\n",
      "V(60) = -0.190\n",
      "V(61) = -0.325\n",
      "V(62) = -0.100\n",
      "V(63) = -0.325\n",
      "V(64) = -0.100\n",
      "V(65) = -0.325\n",
      "V(66) = -0.100\n",
      "V(67) = -1.000\n",
      "V(68) = -0.190\n",
      "V(69) = -0.100\n",
      "V(70) = -0.190\n",
      "V(71) = -0.190\n",
      "V(72) = -0.190\n",
      "V(73) = -0.100\n",
      "V(74) = -0.025\n",
      "V(75) = -0.025\n",
      "V(76) = -0.025\n",
      "V(77) = -0.025\n",
      "V(78) = -0.025\n",
      "V(79) = -0.025\n",
      "V(80) = 1.000\n",
      "V(81) = -0.190\n",
      "V(82) = -0.190\n",
      "V(83) = -0.100\n",
      "V(84) = -0.325\n",
      "V(85) = -0.325\n",
      "V(86) = -0.325\n",
      "V(87) = -0.325\n",
      "V(88) = -0.325\n",
      "V(89) = -1.000\n",
      "V(90) = -0.190\n",
      "V(91) = -0.190\n",
      "V(92) = -0.100\n",
      "V(93) = -0.190\n",
      "V(94) = -0.025\n",
      "V(95) = -0.100\n",
      "V(96) = -0.025\n",
      "V(97) = -0.025\n",
      "V(98) = -0.100\n",
      "V(99) = -0.025\n",
      "V(100) = 1.000\n"
     ]
    }
   ],
   "source": [
    "for state in es.states:\n",
    "    print(f'V({state}) = {es.state_values[state]:.3f}')"
   ]
  },
  {
   "cell_type": "markdown",
   "id": "49af1701",
   "metadata": {},
   "source": [
    "otra política:"
   ]
  },
  {
   "cell_type": "code",
   "execution_count": 66,
   "id": "672b651f",
   "metadata": {},
   "outputs": [],
   "source": [
    "for i in es.policy: \n",
    "    rand=np.random.uniform()\n",
    "    if rand<0.5:\n",
    "        es.policy[i]='Ad'\n",
    "    else:\n",
    "        es.policy[i]='At'"
   ]
  },
  {
   "cell_type": "code",
   "execution_count": 67,
   "id": "143952e4",
   "metadata": {},
   "outputs": [
    {
     "name": "stdout",
     "output_type": "stream",
     "text": [
      "{1: 'Ad', 2: 'Ad', 3: 'Ad', 4: 'At', 5: 'At', 6: 'Ad', 7: 'At', 8: 'Ad', 9: 'Ad', 10: 'Ad', 11: 'Ad', 12: 'Ad', 13: 'At', 14: 'At', 15: 'Ad', 16: 'Ad', 17: 'Ad', 18: 'Ad', 19: 'At', 20: 'Ad', 21: 'Ad', 22: 'At', 23: 'At', 24: 'Ad', 25: 'At', 26: 'Ad', 27: 'At', 28: 'Ad', 29: 'At', 30: 'At', 31: 'At', 32: 'At', 33: 'Ad', 34: 'At', 35: 'At', 36: 'At', 37: 'Ad', 38: 'Ad', 39: 'Ad', 40: 'Ad', 41: 'Ad', 42: 'Ad', 43: 'Ad', 44: 'At', 45: 'Ad', 46: 'Ad', 47: 'At', 48: 'At', 49: 'At', 50: 'At', 51: 'Ad', 52: 'At', 53: 'Ad', 54: 'Ad', 55: 'Ad', 56: 'At', 57: 'At', 58: 'Ad', 59: 'Ad', 60: 'At', 61: 'At', 62: 'Ad', 63: 'Ad', 64: 'At', 65: 'Ad', 66: 'Ad', 67: 'Ad', 68: 'Ad', 69: 'At', 70: 'At', 71: 'At', 72: 'Ad', 73: 'At', 74: 'At', 75: 'Ad', 76: 'Ad', 77: 'At', 78: 'Ad', 79: 'Ad', 80: 'Ad', 81: 'At', 82: 'At', 83: 'At', 84: 'At', 85: 'At', 86: 'At', 87: 'At', 88: 'At', 89: 'Ad', 90: 'At', 91: 'At', 92: 'Ad', 93: 'Ad', 94: 'Ad', 95: 'Ad', 96: 'Ad', 97: 'At', 98: 'At', 99: 'At', 100: 'At'}\n"
     ]
    }
   ],
   "source": [
    "print(es.policy)"
   ]
  },
  {
   "cell_type": "code",
   "execution_count": 68,
   "id": "0c9d0c19",
   "metadata": {},
   "outputs": [],
   "source": [
    "gamma = 0.9\n",
    "H = 2"
   ]
  },
  {
   "cell_type": "code",
   "execution_count": 69,
   "id": "7ea999a7",
   "metadata": {},
   "outputs": [],
   "source": [
    "es.state_values=es.init_values()\n",
    "es.update_values = MethodType(update_values, es)\n",
    "es.solve_dynamic_programming(gamma=gamma, horizon=H)"
   ]
  },
  {
   "cell_type": "code",
   "execution_count": 70,
   "id": "d9e638f3",
   "metadata": {},
   "outputs": [
    {
     "name": "stdout",
     "output_type": "stream",
     "text": [
      "V(1) = -0.190\n",
      "V(2) = -0.190\n",
      "V(3) = -0.190\n",
      "V(4) = -0.190\n",
      "V(5) = -0.190\n",
      "V(6) = -0.190\n",
      "V(7) = -0.190\n",
      "V(8) = -0.100\n",
      "V(9) = -0.190\n",
      "V(10) = -0.190\n",
      "V(11) = -0.190\n",
      "V(12) = -0.190\n",
      "V(13) = -0.190\n",
      "V(14) = -0.190\n",
      "V(15) = -0.190\n",
      "V(16) = -0.190\n",
      "V(17) = -0.325\n",
      "V(18) = -0.325\n",
      "V(19) = -0.190\n",
      "V(20) = -0.325\n",
      "V(21) = -0.100\n",
      "V(22) = -0.190\n",
      "V(23) = -1.000\n",
      "V(24) = -0.190\n",
      "V(25) = -0.325\n",
      "V(26) = -0.190\n",
      "V(27) = -0.325\n",
      "V(28) = -0.190\n",
      "V(29) = -0.325\n",
      "V(30) = -0.190\n",
      "V(31) = -0.190\n",
      "V(32) = -0.190\n",
      "V(33) = -0.325\n",
      "V(34) = -0.190\n",
      "V(35) = -0.190\n",
      "V(36) = -0.190\n",
      "V(37) = -1.000\n",
      "V(38) = -0.190\n",
      "V(39) = -0.325\n",
      "V(40) = -0.325\n",
      "V(41) = -0.325\n",
      "V(42) = -0.325\n",
      "V(43) = -0.100\n",
      "V(44) = -0.100\n",
      "V(45) = -1.000\n",
      "V(46) = -0.100\n",
      "V(47) = -0.325\n",
      "V(48) = -0.100\n",
      "V(49) = -0.325\n",
      "V(50) = -0.100\n",
      "V(51) = -0.190\n",
      "V(52) = -0.100\n",
      "V(53) = -0.190\n",
      "V(54) = -0.100\n",
      "V(55) = -0.100\n",
      "V(56) = -0.190\n",
      "V(57) = -0.190\n",
      "V(58) = -0.190\n",
      "V(59) = -0.100\n",
      "V(60) = -0.190\n",
      "V(61) = -0.190\n",
      "V(62) = -0.100\n",
      "V(63) = -0.325\n",
      "V(64) = -0.100\n",
      "V(65) = -0.325\n",
      "V(66) = -0.100\n",
      "V(67) = -1.000\n",
      "V(68) = -0.190\n",
      "V(69) = -0.100\n",
      "V(70) = -0.325\n",
      "V(71) = -0.325\n",
      "V(72) = -0.190\n",
      "V(73) = -0.100\n",
      "V(74) = -0.190\n",
      "V(75) = -0.025\n",
      "V(76) = -0.025\n",
      "V(77) = -0.190\n",
      "V(78) = -0.025\n",
      "V(79) = -0.025\n",
      "V(80) = 1.000\n",
      "V(81) = -0.025\n",
      "V(82) = -0.025\n",
      "V(83) = -0.100\n",
      "V(84) = -0.025\n",
      "V(85) = -0.025\n",
      "V(86) = -0.025\n",
      "V(87) = -0.190\n",
      "V(88) = -0.190\n",
      "V(89) = -1.000\n",
      "V(90) = -0.325\n",
      "V(91) = -0.325\n",
      "V(92) = -0.100\n",
      "V(93) = -0.190\n",
      "V(94) = -0.025\n",
      "V(95) = -0.100\n",
      "V(96) = -0.025\n",
      "V(97) = -0.190\n",
      "V(98) = -0.100\n",
      "V(99) = -0.190\n",
      "V(100) = 1.000\n"
     ]
    }
   ],
   "source": [
    "for state in es.states:\n",
    "    print(f'V({state}) = {es.state_values[state]:.3f}')"
   ]
  },
  {
   "cell_type": "raw",
   "id": "23dfb211",
   "metadata": {},
   "source": [
    "Otros valores de gamma:"
   ]
  },
  {
   "cell_type": "code",
   "execution_count": 71,
   "id": "fdc7c356",
   "metadata": {},
   "outputs": [
    {
     "name": "stdout",
     "output_type": "stream",
     "text": [
      "V(1) = -0.195\n",
      "V(2) = -0.195\n",
      "V(3) = -0.195\n",
      "V(4) = -0.195\n",
      "V(5) = -0.195\n",
      "V(6) = -0.195\n",
      "V(7) = -0.195\n",
      "V(8) = -0.100\n",
      "V(9) = -0.195\n",
      "V(10) = -0.195\n",
      "V(11) = -0.195\n",
      "V(12) = -0.195\n",
      "V(13) = -0.195\n",
      "V(14) = -0.195\n",
      "V(15) = -0.195\n",
      "V(16) = -0.195\n",
      "V(17) = -0.338\n",
      "V(18) = -0.338\n",
      "V(19) = -0.337\n",
      "V(20) = -0.337\n",
      "V(21) = -0.100\n",
      "V(22) = -0.337\n",
      "V(23) = -1.000\n",
      "V(24) = -0.195\n",
      "V(25) = -0.195\n",
      "V(26) = -0.195\n",
      "V(27) = -0.195\n",
      "V(28) = -0.195\n",
      "V(29) = -0.195\n",
      "V(30) = -0.195\n",
      "V(31) = -0.338\n",
      "V(32) = -0.338\n",
      "V(33) = -0.337\n",
      "V(34) = -0.337\n",
      "V(35) = -0.337\n",
      "V(36) = -0.337\n",
      "V(37) = -1.000\n",
      "V(38) = -0.195\n",
      "V(39) = -0.338\n",
      "V(40) = -0.338\n",
      "V(41) = -0.337\n",
      "V(42) = -0.337\n",
      "V(43) = -0.100\n",
      "V(44) = -0.100\n",
      "V(45) = -1.000\n",
      "V(46) = -0.100\n",
      "V(47) = -0.195\n",
      "V(48) = -0.100\n",
      "V(49) = -0.195\n",
      "V(50) = -0.100\n",
      "V(51) = -0.195\n",
      "V(52) = -0.100\n",
      "V(53) = -0.195\n",
      "V(54) = -0.100\n",
      "V(55) = -0.100\n",
      "V(56) = -0.195\n",
      "V(57) = -0.195\n",
      "V(58) = -0.195\n",
      "V(59) = -0.100\n",
      "V(60) = -0.195\n",
      "V(61) = -0.338\n",
      "V(62) = -0.100\n",
      "V(63) = -0.337\n",
      "V(64) = -0.100\n",
      "V(65) = -0.337\n",
      "V(66) = -0.100\n",
      "V(67) = -1.000\n",
      "V(68) = -0.195\n",
      "V(69) = -0.100\n",
      "V(70) = -0.195\n",
      "V(71) = -0.195\n",
      "V(72) = -0.195\n",
      "V(73) = -0.100\n",
      "V(74) = -0.021\n",
      "V(75) = -0.021\n",
      "V(76) = -0.021\n",
      "V(77) = -0.021\n",
      "V(78) = -0.021\n",
      "V(79) = -0.021\n",
      "V(80) = 1.000\n",
      "V(81) = -0.195\n",
      "V(82) = -0.195\n",
      "V(83) = -0.100\n",
      "V(84) = -0.338\n",
      "V(85) = -0.337\n",
      "V(86) = -0.337\n",
      "V(87) = -0.337\n",
      "V(88) = -0.337\n",
      "V(89) = -1.000\n",
      "V(90) = -0.195\n",
      "V(91) = -0.195\n",
      "V(92) = -0.100\n",
      "V(93) = -0.195\n",
      "V(94) = -0.021\n",
      "V(95) = -0.100\n",
      "V(96) = -0.021\n",
      "V(97) = -0.021\n",
      "V(98) = -0.100\n",
      "V(99) = -0.021\n",
      "V(100) = 1.000\n"
     ]
    }
   ],
   "source": [
    "gamma = 0.95\n",
    "H = 2\n",
    "for i in es.policy: \n",
    "    es.policy[i]='Ad'\n",
    "es.state_values=es.init_values()\n",
    "es.update_values = MethodType(update_values, es)\n",
    "es.solve_dynamic_programming(gamma=gamma, horizon=H)\n",
    "\n",
    "for state in es.states:\n",
    "    print(f'V({state}) = {es.state_values[state]:.3f}')"
   ]
  },
  {
   "cell_type": "code",
   "execution_count": 72,
   "id": "6be6003b",
   "metadata": {},
   "outputs": [
    {
     "name": "stdout",
     "output_type": "stream",
     "text": [
      "V(1) = -0.195\n",
      "V(2) = -0.195\n",
      "V(3) = -0.195\n",
      "V(4) = -0.195\n",
      "V(5) = -0.195\n",
      "V(6) = -0.195\n",
      "V(7) = -0.195\n",
      "V(8) = -0.100\n",
      "V(9) = -0.195\n",
      "V(10) = -0.195\n",
      "V(11) = -0.195\n",
      "V(12) = -0.195\n",
      "V(13) = -0.195\n",
      "V(14) = -0.195\n",
      "V(15) = -0.195\n",
      "V(16) = -0.195\n",
      "V(17) = -0.338\n",
      "V(18) = -0.195\n",
      "V(19) = -0.337\n",
      "V(20) = -0.337\n",
      "V(21) = -0.100\n",
      "V(22) = -0.337\n",
      "V(23) = -1.000\n",
      "V(24) = -0.337\n",
      "V(25) = -0.337\n",
      "V(26) = -0.337\n",
      "V(27) = -0.337\n",
      "V(28) = -0.338\n",
      "V(29) = -0.195\n",
      "V(30) = -0.195\n",
      "V(31) = -0.195\n",
      "V(32) = -0.338\n",
      "V(33) = -0.195\n",
      "V(34) = -0.337\n",
      "V(35) = -0.337\n",
      "V(36) = -0.195\n",
      "V(37) = -1.000\n",
      "V(38) = -0.337\n",
      "V(39) = -0.337\n",
      "V(40) = -0.337\n",
      "V(41) = -0.337\n",
      "V(42) = -0.338\n",
      "V(43) = -0.100\n",
      "V(44) = -0.100\n",
      "V(45) = -1.000\n",
      "V(46) = -0.100\n",
      "V(47) = -0.195\n",
      "V(48) = -0.100\n",
      "V(49) = -0.195\n",
      "V(50) = -0.100\n",
      "V(51) = -0.338\n",
      "V(52) = -0.100\n",
      "V(53) = -0.195\n",
      "V(54) = -0.100\n",
      "V(55) = -0.100\n",
      "V(56) = -0.195\n",
      "V(57) = -0.195\n",
      "V(58) = -0.195\n",
      "V(59) = -0.100\n",
      "V(60) = -0.195\n",
      "V(61) = -0.195\n",
      "V(62) = -0.100\n",
      "V(63) = -0.337\n",
      "V(64) = -0.100\n",
      "V(65) = -0.337\n",
      "V(66) = -0.100\n",
      "V(67) = -1.000\n",
      "V(68) = -0.195\n",
      "V(69) = -0.100\n",
      "V(70) = -0.337\n",
      "V(71) = -0.195\n",
      "V(72) = -0.338\n",
      "V(73) = -0.100\n",
      "V(74) = -0.195\n",
      "V(75) = -0.021\n",
      "V(76) = -0.195\n",
      "V(77) = -0.195\n",
      "V(78) = -0.021\n",
      "V(79) = -0.195\n",
      "V(80) = 1.000\n",
      "V(81) = -0.195\n",
      "V(82) = -0.195\n",
      "V(83) = -0.100\n",
      "V(84) = -0.021\n",
      "V(85) = -0.021\n",
      "V(86) = -0.021\n",
      "V(87) = -0.337\n",
      "V(88) = -0.337\n",
      "V(89) = -1.000\n",
      "V(90) = -0.337\n",
      "V(91) = -0.337\n",
      "V(92) = -0.100\n",
      "V(93) = -0.337\n",
      "V(94) = -0.338\n",
      "V(95) = -0.100\n",
      "V(96) = -0.021\n",
      "V(97) = -0.195\n",
      "V(98) = -0.100\n",
      "V(99) = -0.021\n",
      "V(100) = 1.000\n"
     ]
    }
   ],
   "source": [
    "gamma = 0.95\n",
    "H = 2\n",
    "for i in es.policy: \n",
    "    rand=np.random.uniform()\n",
    "    if rand<0.5:\n",
    "        es.policy[i]='Ad'\n",
    "    else:\n",
    "        es.policy[i]='At'\n",
    "es.state_values=es.init_values()\n",
    "es.update_values = MethodType(update_values, es)\n",
    "es.solve_dynamic_programming(gamma=gamma, horizon=H)\n",
    "\n",
    "for state in es.states:\n",
    "    print(f'V({state}) = {es.state_values[state]:.3f}')"
   ]
  },
  {
   "cell_type": "code",
   "execution_count": 158,
   "id": "9756a42b",
   "metadata": {},
   "outputs": [],
   "source": [
    "def value_iteration(es, gamma):    \n",
    "    for state in es.states:       \n",
    "        q = dict.fromkeys(es.get_allowed_actions(state), 0.0) \n",
    "        \n",
    "        # TO DO: Actualice los valores q para Value iteration\n",
    "        if state in es.snakes:\n",
    "            es.policy[state]=''\n",
    "            es.state_values[state] =es.state_values[es.snakes[state]]\n",
    "        elif state in es.stairs:\n",
    "            es.policy[state]=''\n",
    "            es.state_values[state] = es.state_values[es.stairs[state]]\n",
    "        else:\n",
    "            for target_action in q: #Acción deseada\n",
    "                for action in es.real_actions[target_action]: #Acciones resultantes para una acción deseada\n",
    "\n",
    "                    new_state, reward, _, done = es.step(state, action, random=False) #Prueba cada acción\n",
    "                    prob = es.action_probabilities[es.real_actions[target_action].index(action)] #Probabilidad de la acción resultante\n",
    "\n",
    "                    if(done):\n",
    "                        q[target_action] += prob*reward\n",
    "\n",
    "                    else:\n",
    "                        q[target_action] += prob*(reward + gamma*es.state_values[new_state])\n",
    "\n",
    "\n",
    "            es.policy[state], es.state_values[state] =  es.key_max(q)"
   ]
  },
  {
   "cell_type": "code",
   "execution_count": 159,
   "id": "5c40f883",
   "metadata": {},
   "outputs": [],
   "source": [
    "es.state_values = es.init_values()\n"
   ]
  },
  {
   "cell_type": "code",
   "execution_count": 160,
   "id": "93f3dfb6",
   "metadata": {},
   "outputs": [],
   "source": [
    "H=15\n",
    "gamma=0.9\n",
    "es.value_iteration = MethodType(value_iteration, es)\n",
    "es.solve_value_iteration(gamma=gamma, horizon=H)"
   ]
  },
  {
   "cell_type": "code",
   "execution_count": 161,
   "id": "f6543a78",
   "metadata": {},
   "outputs": [
    {
     "data": {
      "text/plain": [
       "26"
      ]
     },
     "execution_count": 161,
     "metadata": {},
     "output_type": "execute_result"
    }
   ],
   "source": [
    "es.stairs[8]"
   ]
  },
  {
   "cell_type": "code",
   "execution_count": 162,
   "id": "3420b7d9",
   "metadata": {},
   "outputs": [
    {
     "data": {
      "text/plain": [
       "{1: 'Ad',\n",
       " 2: 'Ad',\n",
       " 3: 'Ad',\n",
       " 4: 'Ad',\n",
       " 5: 'Ad',\n",
       " 6: 'Ad',\n",
       " 7: 'Ad',\n",
       " 8: '',\n",
       " 9: 'Ad',\n",
       " 10: 'Ad',\n",
       " 11: 'Ad',\n",
       " 12: 'Ad',\n",
       " 13: 'Ad',\n",
       " 14: 'Ad',\n",
       " 15: 'Ad',\n",
       " 16: 'Ad',\n",
       " 17: 'Ad',\n",
       " 18: 'Ad',\n",
       " 19: 'Ad',\n",
       " 20: 'Ad',\n",
       " 21: '',\n",
       " 22: 'At',\n",
       " 23: 'Ad',\n",
       " 24: 'At',\n",
       " 25: 'At',\n",
       " 26: 'At',\n",
       " 27: 'At',\n",
       " 28: 'At',\n",
       " 29: 'At',\n",
       " 30: 'At',\n",
       " 31: 'At',\n",
       " 32: 'At',\n",
       " 33: 'At',\n",
       " 34: 'At',\n",
       " 35: 'Ad',\n",
       " 36: 'Ad',\n",
       " 37: 'Ad',\n",
       " 38: 'Ad',\n",
       " 39: 'Ad',\n",
       " 40: 'Ad',\n",
       " 41: 'Ad',\n",
       " 42: 'Ad',\n",
       " 43: '',\n",
       " 44: '',\n",
       " 45: 'Ad',\n",
       " 46: '',\n",
       " 47: 'Ad',\n",
       " 48: '',\n",
       " 49: 'Ad',\n",
       " 50: '',\n",
       " 51: 'Ad',\n",
       " 52: '',\n",
       " 53: 'Ad',\n",
       " 54: '',\n",
       " 55: '',\n",
       " 56: 'Ad',\n",
       " 57: 'Ad',\n",
       " 58: 'Ad',\n",
       " 59: '',\n",
       " 60: 'Ad',\n",
       " 61: 'Ad',\n",
       " 62: '',\n",
       " 63: 'At',\n",
       " 64: '',\n",
       " 65: 'Ad',\n",
       " 66: '',\n",
       " 67: 'Ad',\n",
       " 68: 'Ad',\n",
       " 69: '',\n",
       " 70: 'Ad',\n",
       " 71: 'Ad',\n",
       " 72: 'Ad',\n",
       " 73: '',\n",
       " 74: 'Ad',\n",
       " 75: 'Ad',\n",
       " 76: 'Ad',\n",
       " 77: 'Ad',\n",
       " 78: 'Ad',\n",
       " 79: 'Ad',\n",
       " 80: '',\n",
       " 81: 'At',\n",
       " 82: 'At',\n",
       " 83: '',\n",
       " 84: 'At',\n",
       " 85: 'At',\n",
       " 86: 'At',\n",
       " 87: 'At',\n",
       " 88: 'At',\n",
       " 89: 'Ad',\n",
       " 90: 'At',\n",
       " 91: 'At',\n",
       " 92: '',\n",
       " 93: 'Ad',\n",
       " 94: 'Ad',\n",
       " 95: '',\n",
       " 96: 'Ad',\n",
       " 97: 'Ad',\n",
       " 98: '',\n",
       " 99: 'Ad',\n",
       " 100: 'Ad'}"
      ]
     },
     "execution_count": 162,
     "metadata": {},
     "output_type": "execute_result"
    }
   ],
   "source": [
    "es.policy"
   ]
  },
  {
   "cell_type": "code",
   "execution_count": null,
   "id": "cfb12030",
   "metadata": {},
   "outputs": [],
   "source": []
  }
 ],
 "metadata": {
  "kernelspec": {
   "display_name": "Python 3 (ipykernel)",
   "language": "python",
   "name": "python3"
  },
  "language_info": {
   "codemirror_mode": {
    "name": "ipython",
    "version": 3
   },
   "file_extension": ".py",
   "mimetype": "text/x-python",
   "name": "python",
   "nbconvert_exporter": "python",
   "pygments_lexer": "ipython3",
   "version": "3.8.16"
  }
 },
 "nbformat": 4,
 "nbformat_minor": 5
}
