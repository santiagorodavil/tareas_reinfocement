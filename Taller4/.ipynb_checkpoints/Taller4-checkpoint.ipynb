{
 "cells": [
  {
   "cell_type": "markdown",
   "metadata": {
    "tags": []
   },
   "source": [
    "# **Reinforcement Learning: Taller 4**\n",
    "## Juan Pablo Reyes Fajardo y Santiago Rodríguez Ávila "
   ]
  },
  {
   "cell_type": "markdown",
   "metadata": {},
   "source": [
    "## Importación de módulos"
   ]
  },
  {
   "cell_type": "code",
   "execution_count": 121,
   "metadata": {},
   "outputs": [],
   "source": [
    "!pip -q install tqdm\n",
    "import gym\n",
    "import random\n",
    "import numpy as np\n",
    "import itertools\n",
    "import operator\n",
    "from tqdm import tqdm\n",
    "import matplotlib.pyplot as plt\n",
    "import time\n",
    "import pickle\n",
    "import multiprocessing\n",
    "\n",
    "from keras.models import Sequential,clone_model\n",
    "from keras.layers import Dense, Activation, Flatten\n",
    "from keras.optimizers import Adam\n",
    "\n",
    "from rl.agents.dqn import DQNAgent\n",
    "from rl.agents.sarsa import SARSAAgent\n",
    "\n",
    "from rl.policy import EpsGreedyQPolicy,LinearAnnealedPolicy\n",
    "from rl.memory import SequentialMemory\n",
    "from rl.callbacks import Callback"
   ]
  },
  {
   "cell_type": "markdown",
   "metadata": {},
   "source": [
    "## Funciones auxiliares"
   ]
  },
  {
   "cell_type": "code",
   "execution_count": 122,
   "metadata": {},
   "outputs": [],
   "source": [
    "def running_mean(x, N):\n",
    "    cumsum = np.cumsum(np.insert(x, 0, 0)) \n",
    "    return (cumsum[N:] - cumsum[:-N]) / float(N)"
   ]
  },
  {
   "cell_type": "code",
   "execution_count": 123,
   "metadata": {},
   "outputs": [],
   "source": [
    "# Funcion Auxiliar para diccionarios\n",
    "def key_max(d):\n",
    "        return max(d.items(), key=operator.itemgetter(1))\n",
    "def key_min(d):\n",
    "        return min(d.items(), key=operator.itemgetter(1))"
   ]
  },
  {
   "cell_type": "markdown",
   "metadata": {},
   "source": [
    "## Creación del ambiente"
   ]
  },
  {
   "cell_type": "code",
   "execution_count": 124,
   "metadata": {},
   "outputs": [],
   "source": [
    "env = gym.make('CartPole-v1')"
   ]
  },
  {
   "cell_type": "markdown",
   "metadata": {},
   "source": [
    "Experimentos a promediar"
   ]
  },
  {
   "cell_type": "code",
   "execution_count": 125,
   "metadata": {},
   "outputs": [],
   "source": [
    "experimentos=5\n",
    "episodios_aprendizaje=int(1e5)\n",
    "epsilons=np.linspace(0.25,0.01,episodios_aprendizaje)"
   ]
  },
  {
   "cell_type": "markdown",
   "metadata": {},
   "source": [
    "## 1. RL Tabular"
   ]
  },
  {
   "cell_type": "markdown",
   "metadata": {},
   "source": [
    "Política $\\epsilon$ - Greedy \n",
    "\n",
    "(Útil más adelante)"
   ]
  },
  {
   "cell_type": "code",
   "execution_count": 6,
   "metadata": {},
   "outputs": [],
   "source": [
    "def eps_greedy(Q_, state,epsilon=0.1):\n",
    "    rand = np.random.uniform()\n",
    "    if rand>epsilon:\n",
    "        return key_max(Q_[state])[0],1-epsilon\n",
    "    else:\n",
    "        return random.choice(list(Q_[state])),epsilon"
   ]
  },
  {
   "cell_type": "markdown",
   "metadata": {},
   "source": [
    "### Discretización\n",
    "\n",
    "Inicialmente se realizan múltiples (1 millón) experimentos para determinar límites razonables para las variables a discretizar (aquellas cuyo espacio de observación es infinito)"
   ]
  },
  {
   "cell_type": "code",
   "execution_count": 7,
   "metadata": {},
   "outputs": [
    {
     "name": "stdout",
     "output_type": "stream",
     "text": [
      "Promedio de velocidad lineal absoluta máxima:       3.463834657961228       \n",
      "Promedio de velocidad angular absoluta máxima:       3.548875238344513\n"
     ]
    }
   ],
   "source": [
    "velocidades_absolutas_maximas={\"Lineal\":[],\"Angular\":[]}\n",
    "\n",
    "observation = env.reset()\n",
    "\n",
    "abs_lineal=abs(observation[1])\n",
    "abs_angular=abs(observation[3])\n",
    "\n",
    "for _ in range(int(1e6)):\n",
    "    \n",
    "    action = env.action_space.sample() \n",
    "    observation, reward, terminated, truncated = env.step(action)\n",
    "    \n",
    "    if abs(observation[1])>abs_lineal:\n",
    "        abs_lineal=abs(observation[1])\n",
    "    if abs(observation[3])>abs_angular:\n",
    "        abs_angular=abs(observation[3])\n",
    "\n",
    "    if terminated or truncated:\n",
    "        observation= env.reset()\n",
    "        velocidades_absolutas_maximas[\"Lineal\"].append(abs_lineal)\n",
    "        velocidades_absolutas_maximas[\"Angular\"].append(abs_angular)\n",
    "\n",
    "\n",
    "vel_lin_abs_max=np.mean(velocidades_absolutas_maximas[\"Lineal\"])\n",
    "vel_ang_abs_max=np.mean(velocidades_absolutas_maximas[\"Angular\"])\n",
    "print(f'Promedio de velocidad lineal absoluta máxima: \\\n",
    "      {vel_lin_abs_max} \\\n",
    "      \\nPromedio de velocidad angular absoluta máxima: \\\n",
    "      {vel_ang_abs_max}')"
   ]
  },
  {
   "cell_type": "markdown",
   "metadata": {},
   "source": [
    "Discretización de estados:"
   ]
  },
  {
   "cell_type": "code",
   "execution_count": 15,
   "metadata": {},
   "outputs": [],
   "source": [
    "# Límites del espacio de observación del MDP real\n",
    "cart_high_var = env.observation_space.high\n",
    "cart_low_var = env.observation_space.low\n",
    "\n",
    "# Espacios de observación discretizados\n",
    "observation_space_discrete_400=[np.linspace(cart_low_var[0], cart_high_var[0], num= 5),\\\n",
    "                            np.linspace(-vel_lin_abs_max, vel_lin_abs_max, num= 4),\\\n",
    "                            np.linspace(cart_low_var[2], cart_high_var[2], num = 5),\\\n",
    "                            np.linspace(-vel_ang_abs_max, vel_ang_abs_max, num= 4)]\\\n",
    "\n",
    "observation_space_discrete_4096=[np.linspace(cart_low_var[0], cart_high_var[0], num= 8),\\\n",
    "                            np.linspace(-vel_lin_abs_max, vel_lin_abs_max, num= 8),\\\n",
    "                            np.linspace(cart_low_var[2], cart_high_var[2], num = 8),\\\n",
    "                            np.linspace(-vel_ang_abs_max, vel_ang_abs_max, num= 8)]\n",
    "\n",
    "# Uso de iteradores para obtener todos los estados a partir del espacio de obsevación discreto\n",
    "states_400=list(itertools.product(*observation_space_discrete_400))\n",
    "states_4096=list(itertools.product(*observation_space_discrete_4096))\n",
    "\n",
    "# Retorna un diccionario Q, inicializado en 0 para todo par (S,A), para la discretización de 400 estados\n",
    "def init_Q_400():\n",
    "    Q_table={}\n",
    "    for i in states_400:\n",
    "        Q_table[i] = {0:0,1:0}\n",
    "    return Q_table\n",
    "\n",
    "# Retorna un diccionario Q, inicializado en 0 para todo par (S,A),  para la discretización de 4096 estados\n",
    "def init_Q_4096():\n",
    "    Q_table={}\n",
    "    for i in states_4096:\n",
    "        Q_table[i] = {0:0,1:0}\n",
    "    return Q_table\n",
    "\n",
    "# Inicializa una política para todos los estados en la discretización de 400 estados\n",
    "def init_policy_400():\n",
    "    return dict.fromkeys(states_400, 0)\n",
    "\n",
    "# Inicializa una política para todos los estados en la discretización de 400 estados\n",
    "def init_policy_4096():\n",
    "    return dict.fromkeys(states_4096, 0)\n",
    "\n",
    "# Convierte un estado del ambiente en un estado discreto, usando la discretización de 400 estados\n",
    "def discretize_400(new_state):\n",
    "    discretizacion=[0]*4\n",
    "    for i in range(len(discretizacion)):\n",
    "        dif = [(abs(x - new_state[i])) for x in observation_space_discrete_400[i]]\n",
    "        discretizacion[i] = observation_space_discrete_400[i][dif.index(min(dif))]\n",
    "        \n",
    "    return tuple(discretizacion)\n",
    "\n",
    "# Convierte un estado del ambiente en un estado discreto, usando la discretización de 400 estados\n",
    "def discretize_4096(new_state):\n",
    "    discretizacion=[0]*4\n",
    "    for i in range(len(discretizacion)):\n",
    "        dif = [(abs(x - new_state[i])) for x in observation_space_discrete_4096[i]]\n",
    "        discretizacion[i] = observation_space_discrete_4096[i][dif.index(min(dif))]\n",
    "        \n",
    "    return tuple(discretizacion)"
   ]
  },
  {
   "cell_type": "markdown",
   "metadata": {},
   "source": [
    "### Estimación de Q con Q-Learning \n",
    "Implementación del algoritmo de Q-Learning"
   ]
  },
  {
   "cell_type": "markdown",
   "metadata": {},
   "source": [
    "#### Algoritmo 400 Estados"
   ]
  },
  {
   "cell_type": "code",
   "execution_count": 9,
   "metadata": {},
   "outputs": [],
   "source": [
    "def Q_Learning_400(Q,gamma=0.9,alpha=0.01,epsilon=0.1):\n",
    "    \n",
    "    G=0\n",
    "    terminated,truncated=False,False\n",
    "    \n",
    "    observation = env.reset()\n",
    "    observation=discretize_400(observation)\n",
    "    \n",
    "    while not (terminated or truncated):\n",
    "        action,_=eps_greedy(Q,observation,epsilon)\n",
    "        \n",
    "        observation_, reward, terminated, truncated = env.step(action)\n",
    "        observation_=discretize_400(observation_)\n",
    "        \n",
    "        G+=reward\n",
    "        \n",
    "        if terminated or truncated:\n",
    "            Q_=0\n",
    "        else:\n",
    "            Q_=key_max(Q[observation_])[1]\n",
    "        \n",
    "        Q[observation][action]+=alpha*(reward+gamma*Q_-Q[observation][action])\n",
    "        observation=observation_\n",
    "        \n",
    "    return Q,G"
   ]
  },
  {
   "cell_type": "markdown",
   "metadata": {},
   "source": [
    "#### Algoritmo 4096 Estados"
   ]
  },
  {
   "cell_type": "code",
   "execution_count": 10,
   "metadata": {},
   "outputs": [],
   "source": [
    "def Q_Learning_4096(Q,gamma=0.9,alpha=0.01,epsilon=0.1):\n",
    "    G=0\n",
    "    terminated,truncated=False,False\n",
    "    \n",
    "    observation = env.reset()\n",
    "    observation=discretize_4096(observation)\n",
    "    \n",
    "    while not (terminated or truncated):\n",
    "        action,_=eps_greedy(Q,observation,epsilon)\n",
    "        \n",
    "        observation_, reward, terminated, truncated = env.step(action)\n",
    "        observation_=discretize_4096(observation_)\n",
    "        \n",
    "        G+=reward\n",
    "        \n",
    "        if terminated or truncated:\n",
    "            Q_=0\n",
    "        else:\n",
    "            Q_=key_max(Q[observation_])[1]\n",
    "        \n",
    "        Q[observation][action]+=alpha*(reward+gamma*Q_-Q[observation][action])\n",
    "        observation=observation_\n",
    "        \n",
    "    return Q,G\n",
    "        "
   ]
  },
  {
   "cell_type": "markdown",
   "metadata": {},
   "source": [
    "##### Aprendizaje 400 estados"
   ]
  },
  {
   "cell_type": "code",
   "execution_count": 26,
   "metadata": {},
   "outputs": [
    {
     "name": "stderr",
     "output_type": "stream",
     "text": [
      "100%|██████████| 100000/100000 [07:58<00:00, 209.13it/s]\n",
      "100%|██████████| 100000/100000 [08:17<00:00, 201.20it/s]\n",
      "100%|██████████| 100000/100000 [08:01<00:00, 207.82it/s]\n",
      "100%|██████████| 100000/100000 [07:53<00:00, 211.40it/s]\n",
      "100%|██████████| 100000/100000 [08:06<00:00, 205.49it/s]\n"
     ]
    }
   ],
   "source": [
    "Gs_400_Qlearn=[]\n",
    "\n",
    "for i in range(experimentos):\n",
    "    Q_400_Qlearn=init_Q_400()\n",
    "    Gs_experimento=[]\n",
    "    for i in tqdm(range(episodios_aprendizaje)):\n",
    "        Q_400_Qlearn,G=Q_Learning_400(Q_400_Qlearn,epsilon=epsilons[i])\n",
    "        Gs_experimento.append(G)\n",
    "    Gs_400_Qlearn.append(Gs_experimento)"
   ]
  },
  {
   "cell_type": "markdown",
   "metadata": {},
   "source": [
    "#### Aprendizaje 4096 estados"
   ]
  },
  {
   "cell_type": "code",
   "execution_count": 27,
   "metadata": {},
   "outputs": [
    {
     "data": {
      "text/plain": [
       "[<matplotlib.lines.Line2D at 0x7f94854af828>]"
      ]
     },
     "execution_count": 27,
     "metadata": {},
     "output_type": "execute_result"
    },
    {
     "data": {
      "image/png": "[encoded data removed]",
      "text/plain": [
       "<Figure size 432x288 with 1 Axes>"
      ]
     },
     "metadata": {
      "needs_background": "light"
     },
     "output_type": "display_data"
    }
   ],
   "source": [
    "plt.plot(running_mean(np.mean(Gs_400_Qlearn,axis=0),100))"
   ]
  },
  {
   "cell_type": "code",
   "execution_count": 28,
   "metadata": {},
   "outputs": [
    {
     "name": "stderr",
     "output_type": "stream",
     "text": [
      "100%|██████████| 100000/100000 [11:15<00:00, 147.96it/s]\n",
      "100%|██████████| 100000/100000 [09:19<00:00, 178.66it/s]\n",
      "100%|██████████| 100000/100000 [10:02<00:00, 165.86it/s]\n",
      "100%|██████████| 100000/100000 [10:11<00:00, 163.63it/s]\n",
      "100%|██████████| 100000/100000 [09:54<00:00, 168.24it/s]\n"
     ]
    }
   ],
   "source": [
    "Gs_4096_Qlearn=[]\n",
    "\n",
    "for i in range(experimentos):\n",
    "    Q_4096_Qlearn=init_Q_4096()\n",
    "    Gs_experimento=[]\n",
    "    for i in tqdm(range(episodios_aprendizaje)):\n",
    "        Q_4096_Qlearn,G=Q_Learning_4096(Q_4096_Qlearn,epsilon=epsilons[i])\n",
    "        Gs_experimento.append(G)\n",
    "    Gs_4096_Qlearn.append(Gs_experimento)"
   ]
  },
  {
   "cell_type": "code",
   "execution_count": 29,
   "metadata": {},
   "outputs": [
    {
     "data": {
      "text/plain": [
       "[<matplotlib.lines.Line2D at 0x7f945bdbf438>]"
      ]
     },
     "execution_count": 29,
     "metadata": {},
     "output_type": "execute_result"
    },
    {
     "data": {
      "image/png": "[encoded data removed]",
      "text/plain": [
       "<Figure size 432x288 with 1 Axes>"
      ]
     },
     "metadata": {
      "needs_background": "light"
     },
     "output_type": "display_data"
    }
   ],
   "source": [
    "plt.plot(running_mean(np.mean(Gs_4096_Qlearn,axis=0),100))"
   ]
  },
  {
   "cell_type": "markdown",
   "metadata": {},
   "source": [
    "#### Política usando greedy respecto a Q para la discretización de 400 estados"
   ]
  },
  {
   "cell_type": "code",
   "execution_count": 31,
   "metadata": {},
   "outputs": [],
   "source": [
    "policy_400_Qlearn=init_policy_400()\n",
    "for state_400 in states_400:\n",
    "    policy_400_Qlearn[state_400],_=eps_greedy(Q_400_Qlearn,tuple(state_400),0)"
   ]
  },
  {
   "cell_type": "markdown",
   "metadata": {},
   "source": [
    "#### Política usando greedy respecto a Q para la discretización de 4096 estados"
   ]
  },
  {
   "cell_type": "code",
   "execution_count": 32,
   "metadata": {},
   "outputs": [],
   "source": [
    "policy_4096_Qlearn=init_policy_4096()\n",
    "for state_4096 in states_4096:\n",
    "    policy_4096_Qlearn[state_4096],_=eps_greedy(Q_4096_Qlearn,tuple(state_4096),0)"
   ]
  },
  {
   "cell_type": "markdown",
   "metadata": {},
   "source": [
    "#### Guardar resultados"
   ]
  },
  {
   "cell_type": "code",
   "execution_count": 67,
   "metadata": {},
   "outputs": [],
   "source": [
    "with open(\"./Resultados/Gs_400_Qlearn.pkl\", \"wb\") as file:\n",
    "    pickle.dump(Gs_400_Qlearn, file)\n",
    "with open(\"./Resultados/Gs_4096_Qlearn.pkl\", \"wb\") as file:\n",
    "    pickle.dump(Gs_4096_Qlearn, file)\n",
    "with open(\"./Resultados/policy_400_Qlearn.pkl\", \"wb\") as file:\n",
    "    pickle.dump(policy_400_Qlearn, file)\n",
    "with open(\"./Resultados/policy_4096_Qlearn.pkl\", \"wb\") as file:\n",
    "    pickle.dump(policy_4096_Qlearn, file)"
   ]
  },
  {
   "cell_type": "markdown",
   "metadata": {},
   "source": [
    "#### Cargar resultados"
   ]
  },
  {
   "cell_type": "code",
   "execution_count": 11,
   "metadata": {},
   "outputs": [],
   "source": [
    "with open(\"./Resultados/Gs_400_Qlearn.pkl\", \"rb\") as file:\n",
    "    Gs_400_Qlearn=pickle.load( file)\n",
    "with open(\"./Resultados/Gs_4096_Qlearn.pkl\", \"rb\") as file:\n",
    "    Gs_4096_Qlearn=pickle.load( file)\n",
    "with open(\"./Resultados/policy_400_Qlearn.pkl\", \"rb\") as file:\n",
    "    policy_400_Qlearn=pickle.load( file)\n",
    "with open(\"./Resultados/policy_4096_Qlearn.pkl\", \"rb\") as file:\n",
    "    policy_4096_Qlearn=pickle.load( file)"
   ]
  },
  {
   "cell_type": "markdown",
   "metadata": {},
   "source": [
    " #### Evaluación de política para la discretización de 400 estados"
   ]
  },
  {
   "cell_type": "code",
   "execution_count": 166,
   "metadata": {},
   "outputs": [
    {
     "name": "stdout",
     "output_type": "stream",
     "text": [
      "Recompensas promedio para 400 estados:  199.684\n"
     ]
    }
   ],
   "source": [
    "rwds=[]\n",
    "for _ in range(1000):\n",
    "    observation = env.reset()\n",
    "    r=0\n",
    "    while True:\n",
    "        #time.sleep(0.0001)\n",
    "        action = policy_400_Qlearn[discretize_400(observation)]\n",
    "        #env.render(mode = \"human\")\n",
    "        observation, reward, terminated, truncated = env.step(action)\n",
    "        r+=reward\n",
    "\n",
    "        if terminated or truncated:\n",
    "            observation = env.reset()\n",
    "            rwds.append(r)\n",
    "            break\n",
    "env.close()\n",
    "print(\"Recompensas promedio para 400 estados: \",np.mean(rwds))"
   ]
  },
  {
   "cell_type": "markdown",
   "metadata": {},
   "source": [
    " #### Evaluación de política para la discretización de 4096 estados"
   ]
  },
  {
   "cell_type": "code",
   "execution_count": 167,
   "metadata": {},
   "outputs": [
    {
     "name": "stdout",
     "output_type": "stream",
     "text": [
      "Recompensas promedio para 4096 estados:  272.543\n"
     ]
    }
   ],
   "source": [
    "rwds=[]\n",
    "for _ in range(1000):\n",
    "    observation = env.reset()\n",
    "    r=0\n",
    "    while True:\n",
    "        #time.sleep(0.0001)\n",
    "        action = policy_4096_Qlearn[discretize_4096(observation)]\n",
    "        #env.render(mode = \"human\")\n",
    "        observation, reward, terminated, truncated = env.step(action)\n",
    "        r+=reward\n",
    "\n",
    "        if terminated or truncated:\n",
    "            observation = env.reset()\n",
    "            rwds.append(r)\n",
    "            break\n",
    "env.close()\n",
    "print(\"Recompensas promedio para 4096 estados: \",np.mean(rwds))"
   ]
  },
  {
   "cell_type": "markdown",
   "metadata": {},
   "source": [
    "### Estimación de Q con SARSA\n",
    "Implementación del algoritmo SARSA"
   ]
  },
  {
   "cell_type": "markdown",
   "metadata": {},
   "source": [
    "#### Algoritmo 400 Estados"
   ]
  },
  {
   "cell_type": "code",
   "execution_count": 11,
   "metadata": {},
   "outputs": [],
   "source": [
    "def SARSA_400(Q,gamma=0.9,alpha=0.01,epsilon=0.1):\n",
    "    \n",
    "    G=0\n",
    "    terminated,truncated=False,False\n",
    "    \n",
    "    observation = env.reset()\n",
    "    observation=discretize_400(observation)\n",
    "    action,_=eps_greedy(Q,observation,epsilon)\n",
    "    \n",
    "    while not (terminated or truncated):\n",
    "        \n",
    "        \n",
    "        observation_, reward, terminated, truncated = env.step(action)\n",
    "        observation_=discretize_400(observation_)\n",
    "        action_,_ = eps_greedy(Q,observation_,epsilon)\n",
    "        \n",
    "        G+=reward\n",
    "        \n",
    "        if terminated or truncated:\n",
    "            Q_=0\n",
    "        else:\n",
    "            Q_=Q[observation_][action_]\n",
    "        \n",
    "        Q[observation][action]+=alpha*(reward+gamma*Q_-Q[observation][action])\n",
    "        observation=observation_\n",
    "        action = action_\n",
    "        \n",
    "    return Q,G"
   ]
  },
  {
   "cell_type": "markdown",
   "metadata": {},
   "source": [
    "#### Algoritmo 4096 Estados"
   ]
  },
  {
   "cell_type": "code",
   "execution_count": 12,
   "metadata": {},
   "outputs": [],
   "source": [
    "def SARSA_4096(Q,gamma=0.9,alpha=0.01,epsilon=0.1):\n",
    "    G=0\n",
    "    terminated,truncated=False,False\n",
    "    \n",
    "    observation = env.reset()\n",
    "    observation=discretize_4096(observation)\n",
    "    action,_=eps_greedy(Q,observation,epsilon)\n",
    "    \n",
    "    while not (terminated or truncated):\n",
    "        \n",
    "        \n",
    "        observation_, reward, terminated, truncated = env.step(action)\n",
    "        observation_=discretize_4096(observation_)\n",
    "        action_,_ = eps_greedy(Q,observation_,epsilon)\n",
    "        \n",
    "        G+=reward\n",
    "        \n",
    "        if terminated or truncated:\n",
    "            Q_=0\n",
    "        else:\n",
    "            Q_=Q[observation_][action_]\n",
    "        \n",
    "        Q[observation][action]+=alpha*(reward+gamma*Q_-Q[observation][action])\n",
    "        observation=observation_\n",
    "        action = action_\n",
    "    return Q,G\n",
    "        "
   ]
  },
  {
   "cell_type": "markdown",
   "metadata": {},
   "source": [
    "##### Aprendizaje 400 estados"
   ]
  },
  {
   "cell_type": "code",
   "execution_count": 37,
   "metadata": {},
   "outputs": [
    {
     "name": "stderr",
     "output_type": "stream",
     "text": [
      "100%|██████████| 100000/100000 [07:47<00:00, 213.94it/s]\n",
      "100%|██████████| 100000/100000 [08:13<00:00, 202.83it/s]\n",
      "100%|██████████| 100000/100000 [07:47<00:00, 213.93it/s]\n",
      "100%|██████████| 100000/100000 [07:57<00:00, 209.49it/s]\n",
      "100%|██████████| 100000/100000 [07:55<00:00, 210.30it/s]\n"
     ]
    }
   ],
   "source": [
    "Gs_400_SARSA=[]\n",
    "\n",
    "for i in range(experimentos):\n",
    "    Q_400_SARSA=init_Q_400()\n",
    "    Gs_experimento=[]\n",
    "    for i in tqdm(range(episodios_aprendizaje)):\n",
    "        Q_400_SARSA,G=SARSA_400(Q_400_SARSA,epsilon=epsilons[i])\n",
    "        Gs_experimento.append(G)\n",
    "    Gs_400_SARSA.append(Gs_experimento)"
   ]
  },
  {
   "cell_type": "markdown",
   "metadata": {},
   "source": [
    "#### Aprendizaje 4096 estados"
   ]
  },
  {
   "cell_type": "code",
   "execution_count": 38,
   "metadata": {},
   "outputs": [
    {
     "data": {
      "text/plain": [
       "[<matplotlib.lines.Line2D at 0x7f94524ec588>]"
      ]
     },
     "execution_count": 38,
     "metadata": {},
     "output_type": "execute_result"
    },
    {
     "data": {
      "image/png": "[encoded data removed]",
      "text/plain": [
       "<Figure size 432x288 with 1 Axes>"
      ]
     },
     "metadata": {
      "needs_background": "light"
     },
     "output_type": "display_data"
    }
   ],
   "source": [
    "plt.plot(running_mean(np.mean(Gs_400_SARSA,axis=0),100))"
   ]
  },
  {
   "cell_type": "code",
   "execution_count": 39,
   "metadata": {},
   "outputs": [
    {
     "name": "stderr",
     "output_type": "stream",
     "text": [
      "100%|██████████| 100000/100000 [08:17<00:00, 201.15it/s]\n",
      "100%|██████████| 100000/100000 [08:14<00:00, 202.14it/s]\n",
      "100%|██████████| 100000/100000 [08:18<00:00, 200.58it/s]\n",
      "100%|██████████| 100000/100000 [08:52<00:00, 187.72it/s]\n",
      "100%|██████████| 100000/100000 [08:17<00:00, 200.80it/s]\n"
     ]
    }
   ],
   "source": [
    "Gs_4096_SARSA=[]\n",
    "\n",
    "for i in range(experimentos):\n",
    "    Q_4096_SARSA=init_Q_4096()\n",
    "    Gs_experimento=[]\n",
    "    for i in tqdm(range(episodios_aprendizaje)):\n",
    "        Q_4096_SARSA,G=SARSA_4096(Q_4096_SARSA,epsilon=epsilons[i])\n",
    "        Gs_experimento.append(G)\n",
    "    Gs_4096_SARSA.append(Gs_experimento)"
   ]
  },
  {
   "cell_type": "code",
   "execution_count": 21,
   "metadata": {},
   "outputs": [
    {
     "data": {
      "text/plain": [
       "[<matplotlib.lines.Line2D at 0x7f6dc5fe1940>]"
      ]
     },
     "execution_count": 21,
     "metadata": {},
     "output_type": "execute_result"
    },
    {
     "data": {
      "image/png": "[encoded data removed]",
      "text/plain": [
       "<Figure size 432x288 with 1 Axes>"
      ]
     },
     "metadata": {
      "needs_background": "light"
     },
     "output_type": "display_data"
    }
   ],
   "source": [
    "plt.plot(running_mean(np.mean(Gs_4096_SARSA,axis=0),100))"
   ]
  },
  {
   "cell_type": "markdown",
   "metadata": {},
   "source": [
    "#### Política usando greedy respecto a Q para la discretización de 400 estados"
   ]
  },
  {
   "cell_type": "code",
   "execution_count": 71,
   "metadata": {},
   "outputs": [],
   "source": [
    "policy_400_SARSA=init_policy_400()\n",
    "for state_400 in states_400:\n",
    "    policy_400_SARSA[state_400],_=eps_greedy(Q_400_SARSA,tuple(state_400),0)"
   ]
  },
  {
   "cell_type": "markdown",
   "metadata": {},
   "source": [
    "#### Política usando greedy respecto a Q para la discretización de 4096 estados"
   ]
  },
  {
   "cell_type": "code",
   "execution_count": 72,
   "metadata": {},
   "outputs": [],
   "source": [
    "policy_4096_SARSA=init_policy_4096()\n",
    "for state_4096 in states_4096:\n",
    "    policy_4096_SARSA[state_4096],_=eps_greedy(Q_4096_SARSA,tuple(state_4096),0)"
   ]
  },
  {
   "cell_type": "markdown",
   "metadata": {},
   "source": [
    "#### Guardar resultados"
   ]
  },
  {
   "cell_type": "code",
   "execution_count": 73,
   "metadata": {},
   "outputs": [],
   "source": [
    "with open(\"./Resultados/Gs_400_SARSA.pkl\", \"wb\") as file:\n",
    "    pickle.dump(Gs_400_SARSA, file)\n",
    "with open(\"./Resultados/Gs_4096_SARSA.pkl\", \"wb\") as file:\n",
    "    pickle.dump(Gs_4096_SARSA, file)\n",
    "with open(\"./Resultados/policy_400_SARSA.pkl\", \"wb\") as file:\n",
    "    pickle.dump(policy_400_SARSA, file)\n",
    "with open(\"./Resultados/policy_4096_SARSA.pkl\", \"wb\") as file:\n",
    "    pickle.dump(policy_4096_SARSA, file)"
   ]
  },
  {
   "cell_type": "markdown",
   "metadata": {},
   "source": [
    "#### Cargar resultados"
   ]
  },
  {
   "cell_type": "code",
   "execution_count": 18,
   "metadata": {},
   "outputs": [],
   "source": [
    "with open(\"./Resultados/Gs_400_SARSA.pkl\", \"rb\") as file:\n",
    "    Gs_400_SARSA=pickle.load( file)\n",
    "with open(\"./Resultados/Gs_4096_SARSA.pkl\", \"rb\") as file:\n",
    "    Gs_4096_SARSA=pickle.load( file)\n",
    "with open(\"./Resultados/policy_400_SARSA.pkl\", \"rb\") as file:\n",
    "    policy_400_SARSA=pickle.load( file)\n",
    "with open(\"./Resultados/policy_4096_SARSA.pkl\", \"rb\") as file:\n",
    "    policy_4096_SARSA=pickle.load( file)"
   ]
  },
  {
   "cell_type": "markdown",
   "metadata": {},
   "source": [
    " #### Evaluación de política para la discretización de 400 estados"
   ]
  },
  {
   "cell_type": "code",
   "execution_count": 168,
   "metadata": {},
   "outputs": [
    {
     "name": "stdout",
     "output_type": "stream",
     "text": [
      "Recompensas promedio para 400 estados:  201.529\n"
     ]
    }
   ],
   "source": [
    "rwds=[]\n",
    "for _ in range(1000):\n",
    "    observation = env.reset()\n",
    "    r=0\n",
    "    while True:\n",
    "        #time.sleep(0.0001)\n",
    "        action = policy_400_SARSA[discretize_400(observation)]\n",
    "        #env.render(mode = \"human\")\n",
    "        observation, reward, terminated, truncated = env.step(action)\n",
    "        r+=reward\n",
    "\n",
    "        if terminated or truncated:\n",
    "            observation = env.reset()\n",
    "            rwds.append(r)\n",
    "            break\n",
    "env.close()\n",
    "print(\"Recompensas promedio para 400 estados: \",np.mean(rwds))"
   ]
  },
  {
   "cell_type": "markdown",
   "metadata": {},
   "source": [
    " #### Evaluación de política para la discretización de 4096 estados"
   ]
  },
  {
   "cell_type": "code",
   "execution_count": 169,
   "metadata": {},
   "outputs": [
    {
     "name": "stdout",
     "output_type": "stream",
     "text": [
      "Recompensas promedio para 4096 estados:  196.089\n"
     ]
    }
   ],
   "source": [
    "rwds=[]\n",
    "for _ in range(1000):\n",
    "    observation = env.reset()\n",
    "    r=0\n",
    "    while True:\n",
    "        #time.sleep(0.0001)\n",
    "        action = policy_4096_SARSA[discretize_4096(observation)]\n",
    "        #env.render(mode = \"human\")\n",
    "        observation, reward, terminated, truncated = env.step(action)\n",
    "        r+=reward\n",
    "\n",
    "        if terminated or truncated:\n",
    "            observation = env.reset()\n",
    "            rwds.append(r)\n",
    "            break\n",
    "env.close()\n",
    "print(\"Recompensas promedio para 4096 estados: \",np.mean(rwds))"
   ]
  },
  {
   "cell_type": "markdown",
   "metadata": {},
   "source": [
    "## 2. Aproximación de Funciones"
   ]
  },
  {
   "cell_type": "markdown",
   "metadata": {},
   "source": [
    "Clase auxiliar para obtener las recompensas por episodio"
   ]
  },
  {
   "cell_type": "code",
   "execution_count": 59,
   "metadata": {},
   "outputs": [],
   "source": [
    "class EpisodeRewardCallback(Callback):\n",
    "    def __init__(self):\n",
    "        super(EpisodeRewardCallback, self).__init__()\n",
    "        self.episode_rewards = []\n",
    "\n",
    "    def on_episode_end(self, episode, logs):\n",
    "        episode_reward = logs['episode_reward']\n",
    "        self.episode_rewards.append(episode_reward)\n"
   ]
  },
  {
   "cell_type": "markdown",
   "metadata": {},
   "source": [
    "### Construcción de aproximadores"
   ]
  },
  {
   "cell_type": "code",
   "execution_count": 120,
   "metadata": {},
   "outputs": [],
   "source": [
    "# Almacenadores de recompensas\n",
    "episode_DQN_4  = EpisodeRewardCallback()\n",
    "episode_DQN_16  = EpisodeRewardCallback()\n",
    "episode_DSARSA_4  = EpisodeRewardCallback()\n",
    "episode_DSARSA_16  = EpisodeRewardCallback()\n",
    "\n",
    "# Construcción de aproximadores\n",
    "\n",
    "def create_agent(neurons,model_type):\n",
    "    \n",
    "    model = Sequential()\n",
    "    model.add(Flatten(input_shape=(1,) + env.observation_space.shape))\n",
    "    model.add(Dense(neurons))\n",
    "    model.add(Activation('relu'))\n",
    "    model.add(Dense(env.action_space.n))\n",
    "    model.add(Activation('linear'))\n",
    "    \n",
    "    memory = SequentialMemory(limit=episodios_aprendizaje, window_length=1)\n",
    "\n",
    "    policy =LinearAnnealedPolicy(EpsGreedyQPolicy(),'eps',0.25,0.01,0,episodios_aprendizaje)\n",
    "    \n",
    "    if model_type=='DQN':\n",
    "        return DQNAgent(model=model, nb_actions=env.action_space.n, \\\n",
    "                        memory=memory,target_model_update=1e-2, policy=policy,nb_steps_warmup=10)\n",
    "    elif model_type=='SARSA':\n",
    "        return SARSAAgent(model=model, nb_actions=env.action_space.n, \\\n",
    "                          policy=policy,nb_steps_warmup=10)\n",
    "    else:\n",
    "        return None\n",
    "    \n",
    "# Agentes\n",
    "DQN_4 = create_agent(4,'DQN')\n",
    "\n",
    "DQN_16 = create_agent(16,'DQN')\n",
    "\n",
    "DSARSA_4 = create_agent(4,'SARSA')\n",
    "\n",
    "DSARSA_16 = create_agent(16,'SARSA')\n",
    "\n",
    "# Compilación\n",
    "DQN_4.compile(Adam(lr=1e-3), metrics=['mae'])\n",
    "\n",
    "DQN_16.compile(Adam(lr=1e-3), metrics=['mae'])\n",
    "\n",
    "DSARSA_4.compile(Adam(lr=1e-3), metrics=['mae'])\n",
    "\n",
    "DSARSA_16.compile(Adam(lr=1e-3), metrics=['mae'])"
   ]
  },
  {
   "cell_type": "markdown",
   "metadata": {},
   "source": [
    "### Entrenamiento"
   ]
  },
  {
   "cell_type": "code",
   "execution_count": 126,
   "metadata": {},
   "outputs": [
    {
     "data": {
      "text/plain": [
       "<keras.callbacks.History at 0x7f6dc5d6e6d8>"
      ]
     },
     "execution_count": 126,
     "metadata": {},
     "output_type": "execute_result"
    }
   ],
   "source": [
    "DQN_4.fit(env, nb_steps=episodios_aprendizaje, visualize=False, callbacks=[episode_DQN_4],verbose=0)"
   ]
  },
  {
   "cell_type": "code",
   "execution_count": 127,
   "metadata": {},
   "outputs": [
    {
     "data": {
      "text/plain": [
       "<keras.callbacks.History at 0x7f6dc5b751d0>"
      ]
     },
     "execution_count": 127,
     "metadata": {},
     "output_type": "execute_result"
    }
   ],
   "source": [
    "DQN_16.fit(env, nb_steps=episodios_aprendizaje, visualize=False, callbacks=[episode_DQN_16],verbose=0)"
   ]
  },
  {
   "cell_type": "code",
   "execution_count": 128,
   "metadata": {},
   "outputs": [
    {
     "data": {
      "text/plain": [
       "<keras.callbacks.History at 0x7f6dc44b7cf8>"
      ]
     },
     "execution_count": 128,
     "metadata": {},
     "output_type": "execute_result"
    }
   ],
   "source": [
    "DSARSA_4.fit(env, nb_steps=episodios_aprendizaje, visualize=False, callbacks=[episode_DSARSA_4],verbose=0)"
   ]
  },
  {
   "cell_type": "code",
   "execution_count": 129,
   "metadata": {},
   "outputs": [
    {
     "data": {
      "text/plain": [
       "<keras.callbacks.History at 0x7f6dc3443ef0>"
      ]
     },
     "execution_count": 129,
     "metadata": {},
     "output_type": "execute_result"
    }
   ],
   "source": [
    "DSARSA_16.fit(env, nb_steps=episodios_aprendizaje, visualize=False, callbacks=[episode_DSARSA_16],verbose=0)"
   ]
  },
  {
   "cell_type": "code",
   "execution_count": 172,
   "metadata": {},
   "outputs": [],
   "source": [
    "test_DQN_4  = EpisodeRewardCallback()\n",
    "test_DQN_16  = EpisodeRewardCallback()\n",
    "test_DSARSA_4  = EpisodeRewardCallback()\n",
    "test_DSARSA_16  = EpisodeRewardCallback()"
   ]
  },
  {
   "cell_type": "code",
   "execution_count": 173,
   "metadata": {},
   "outputs": [],
   "source": [
    "DQN_4.test(env, nb_episodes=1000, visualize=False, callbacks=[test_DQN_4],verbose=0)\n",
    "env.close()"
   ]
  },
  {
   "cell_type": "code",
   "execution_count": 174,
   "metadata": {},
   "outputs": [],
   "source": [
    "DQN_16.test(env, nb_episodes=5, visualize=False, callbacks=[test_DQN_16],verbose=0)\n",
    "env.close()"
   ]
  },
  {
   "cell_type": "code",
   "execution_count": 175,
   "metadata": {},
   "outputs": [],
   "source": [
    "DSARSA_4.test(env, nb_episodes=5, visualize=False, callbacks=[test_DSARSA_4],verbose=0)\n",
    "env.close()"
   ]
  },
  {
   "cell_type": "code",
   "execution_count": 176,
   "metadata": {},
   "outputs": [],
   "source": [
    "DSARSA_16.test(env, nb_episodes=5, visualize=False, callbacks=[test_DSARSA_16],verbose=0)\n",
    "env.close()"
   ]
  },
  {
   "cell_type": "code",
   "execution_count": 177,
   "metadata": {},
   "outputs": [
    {
     "name": "stdout",
     "output_type": "stream",
     "text": [
      "Recompenas tras 1000 episodios:  18.959 391.0 167.8 133.8\n"
     ]
    }
   ],
   "source": [
    "print(\"Recompenas tras 1000 episodios: \",np.mean(test_DQN_4.episode_rewards),\n",
    "np.mean(test_DQN_16.episode_rewards),\n",
    "np.mean(test_DSARSA_4.episode_rewards),\n",
    "np.mean(test_DSARSA_16.episode_rewards))"
   ]
  },
  {
   "cell_type": "markdown",
   "metadata": {},
   "source": [
    "## 3. Resultados y conclusiones"
   ]
  },
  {
   "cell_type": "code",
   "execution_count": 161,
   "metadata": {},
   "outputs": [
    {
     "data": {
      "image/png": "[encoded data removed]",
      "text/plain": [
       "<Figure size 720x576 with 4 Axes>"
      ]
     },
     "metadata": {
      "needs_background": "light"
     },
     "output_type": "display_data"
    }
   ],
   "source": [
    "fig = plt.figure(figsize=(10, 8))\n",
    "\n",
    "# Plot 1\n",
    "ax1 = fig.add_subplot(2, 2, 1)\n",
    "ax1.plot(np.linspace(0,1e5,len(running_mean(episode_DQN_4.episode_rewards, 200))),running_mean(episode_DQN_4.episode_rewards, 200), label='DQN - 4')\n",
    "ax1.plot(running_mean(np.mean(Gs_400_Qlearn,axis=0),1000), label='Q - Learning (400)')\n",
    "\n",
    "ax1.set_title('Q-Learning')\n",
    "ax1.set_xlabel('Iteraciones')\n",
    "ax1.set_ylabel('Retorno esperado')\n",
    "ax1.legend()\n",
    "\n",
    "# Plot 2\n",
    "ax2 = fig.add_subplot(2, 2, 2)\n",
    "ax2.plot(np.linspace(0,1e5,len(running_mean(episode_DQN_16.episode_rewards, 200))),running_mean(episode_DQN_16.episode_rewards, 200), label='DQN - 16')\n",
    "ax2.plot(running_mean(np.mean(Gs_4096_Qlearn,axis=0),1000), label='Q - Learning (400)')\n",
    "\n",
    "ax2.set_title('Q-Learning')\n",
    "ax2.set_xlabel('Iteraciones')\n",
    "ax2.set_ylabel('Retorno esperado')\n",
    "ax2.legend()\n",
    "\n",
    "# Plot 3\n",
    "ax3 = fig.add_subplot(2, 2, 3)\n",
    "# Add your data and customization for Plot 3 here\n",
    "ax3.plot(np.linspace(0,1e5,len(running_mean(episode_DSARSA_4.episode_rewards, 200))),running_mean(episode_DSARSA_4.episode_rewards, 200), label='DSARSA - 4')\n",
    "ax3.plot(running_mean(np.mean(Gs_400_SARSA,axis=0),1000), label='SARSA (400)')\n",
    "\n",
    "ax3.set_title('SARSA')\n",
    "ax3.set_xlabel('Iteraciones')\n",
    "ax3.set_ylabel('Retorno esperado')\n",
    "ax3.legend()\n",
    "\n",
    "# Plot 4\n",
    "ax4 = fig.add_subplot(2, 2, 4)\n",
    "# Add your data and customization for Plot 4 here\n",
    "ax4.plot(np.linspace(0,1e5,len(running_mean(episode_DSARSA_16.episode_rewards, 200))),running_mean(episode_DSARSA_16.episode_rewards, 200), label='DSARSA - 16')\n",
    "ax4.plot(running_mean(np.mean(Gs_4096_SARSA,axis=0),1000), label='SARSA (4096)')\n",
    "\n",
    "ax4.set_title('SARSA')\n",
    "ax4.set_xlabel('Iteraciones')\n",
    "ax4.set_ylabel('Retorno esperado')\n",
    "ax4.legend()\n",
    "\n",
    "# Adjust the spacing between subplots\n",
    "fig.tight_layout()\n",
    "\n",
    "# Show the figure\n",
    "plt.show()\n"
   ]
  },
  {
   "cell_type": "markdown",
   "metadata": {},
   "source": [
    "Sobre la primera parte, se puede concluir que los algoritmos taubulares son capaces de aprender satisfactoriamente con una representación discretizada del espacio de observación. La particularidad está en que entre menos estados haya, el agente podrá converger más rápido a una política dado que el agente tiene que explorar menos estados. Alternativamente, entre más estados se tienen el estimativo de Q es mejor para los estados observados y permite obtener mayores recompensas con la política obtenida. El inconveniente con más estados es que se requiere un entrenamiento proporcionalmente mayor.\n",
    "Eso se ilustra en ambos casos de SARSA y Q-Learning, donde el valor del retorno esperado converge más rápido, mientras que en la discretización de 4096 se llega a un mayor retorno luego de un mayor número de episiodios. \n",
    "Los algoritmos, por usar la representación discretizada solo pueden llegar a políticas sub-optimas cuyas recompensas son una fracción de la máxima recompensa posible. Como se observa, en ninguno de los 4 casos se llega al límite del retorno (500) para este ambiente."
   ]
  },
  {
   "cell_type": "markdown",
   "metadata": {},
   "source": [
    "Por parte de las redes neuronales, aprendizaje puede llegar a ser mejor si se compara con los algoritmos tabulares. Esto se debe a que se hace una aproximación de Q para el continuo de estados, por lo que se puede aprender más de las interacciones con el ambiente, segundo, es que se tiene una capacidad de procesamiento mayor, ya que el agente puede captar más información con funciones que poco a poco se van complejizando más (dependiendo de la estructura de la red). Entre más compleja sea la red neuronal, el agente va a ser capaz de adaptarse a situaciones que sean de mayor dificultad o que tengan un espacio de estados más complejo. En este caso, sea por el número de episodios o una falta de sintonización los algoritmos profundos parecen tener un peor desempeño que los tabulares."
   ]
  },
  {
   "cell_type": "markdown",
   "metadata": {},
   "source": [
    "### Evaluación de políticas en 1000 episodios"
   ]
  },
  {
   "cell_type": "markdown",
   "metadata": {},
   "source": [
    "| Prueba            | Retorno promedio tras 1000 episodios |\n",
    "|-------------------|-------------------------------------|\n",
    "| Q-Learning (400)  | 199.684                             |\n",
    "| Q-Learning (4096) | 272.543                             |\n",
    "| DQN - 4           | 18.959                              |\n",
    "| DQN - 16          | 391.0                               |\n",
    "| SARSA (400)       | 201.529                             |\n",
    "| SARSA (4096)      | 196.089                             |\n",
    "| DeepSARSA - 4     | 167.8                               |\n",
    "| DeepSARSA - 16    | 133.8                               |\n"
   ]
  },
  {
   "cell_type": "markdown",
   "metadata": {},
   "source": [
    "Se puede observar el mejor rendimiento es para DQN de 16 neuronas. A parte de este caso, los algoritmos tabulares tienen mejor rendimiento observado para el número de episiodios de entrenamiento y los hiperparámetros, los cuales son iguales en los 8 casos."
   ]
  },
  {
   "cell_type": "markdown",
   "metadata": {},
   "source": [
    "### Parámetros\n",
    "\n",
    "| Parámetro                    | Valor                            |\n",
    "|-----------------------------|----------------------------------|\n",
    "|  $\\epsilon$  | 0.25 a 0.01 (Decaimiento)        |\n",
    "| $\\alpha$                    | 0.001                            |\n",
    "| Episodios de entrenamiento  | 100000                           |\n",
    "| Experimentos*               | 5                                |\n"
   ]
  },
  {
   "cell_type": "markdown",
   "metadata": {},
   "source": [
    "*Se promedian las curvas de aprendizaje en el caso tabular. En redes neuronales no se hace por limitaciones de costo computacional"
   ]
  }
 ],
 "metadata": {
  "kernelspec": {
   "display_name": "Python 3",
   "language": "python",
   "name": "python3"
  },
  "language_info": {
   "codemirror_mode": {
    "name": "ipython",
    "version": 3
   },
   "file_extension": ".py",
   "mimetype": "text/x-python",
   "name": "python",
   "nbconvert_exporter": "python",
   "pygments_lexer": "ipython3",
   "version": "3.6.8"
  }
 },
 "nbformat": 4,
 "nbformat_minor": 5
}
