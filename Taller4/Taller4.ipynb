{
 "cells": [
  {
   "cell_type": "markdown",
   "id": "247c5a90-c5d3-4661-9d2c-88f2ea2f537a",
   "metadata": {
    "tags": []
   },
   "source": [
    "# **Reinforcement Learning: Taller 4**\n",
    "## Estudiantes: Juan Pablo Reyes Fajardo y Santiago Rodríguez Ávila "
   ]
  },
  {
   "cell_type": "code",
   "execution_count": 2,
   "id": "ca4cd0ea-8a2d-49bb-86f3-8dd44ad516eb",
   "metadata": {},
   "outputs": [
    {
     "name": "stdout",
     "output_type": "stream",
     "text": [
      "Requirement already satisfied: gym in c:\\users\\santiago\\miniconda3\\lib\\site-packages (0.26.2)\n",
      "Requirement already satisfied: cloudpickle>=1.2.0 in c:\\users\\santiago\\miniconda3\\lib\\site-packages (from gym) (2.2.1)\n",
      "Requirement already satisfied: numpy>=1.18.0 in c:\\users\\santiago\\miniconda3\\lib\\site-packages (from gym) (1.24.2)\n",
      "Requirement already satisfied: gym-notices>=0.0.4 in c:\\users\\santiago\\miniconda3\\lib\\site-packages (from gym) (0.0.8)\n"
     ]
    }
   ],
   "source": [
    "!pip install gym"
   ]
  },
  {
   "cell_type": "code",
   "execution_count": 3,
   "id": "dd367f16-d8ba-4db1-98f4-b147dc419455",
   "metadata": {},
   "outputs": [],
   "source": [
    "import gym\n",
    "import numpy as np"
   ]
  },
  {
   "cell_type": "code",
   "execution_count": 14,
   "id": "6e0e262a-a666-493f-b6e9-b952ebe4100f",
   "metadata": {},
   "outputs": [],
   "source": [
    "env = gym.make('CartPole-v1',render_mode=\"human\")\n",
    "cart_high_var = env.observation_space.high\n",
    "cart_low_var = env.observation_space.low\n",
    "\n",
    "def num_states(num):\n",
    "    # dependiendo el numero de estados, cambia el tamaño de cada vector\n",
    "    if num ==400:\n",
    "        car_pos = np.linspace(cart_low_var[0], cart_high_var[0], num= 5)\n",
    "        car_vel = np.linspace(-2, 2, num= 4)\n",
    "        pole_angle = np.linspace(cart_low_var[2], cart_high_var[2], num = 5)\n",
    "        pole_vel = np.linspace(-2, 2, num= 4)\n",
    "    elif num ==4000:\n",
    "        car_pos = np.linspace(cart_low_var[0], cart_high_var[0], num= 8)\n",
    "        car_vel = np.linspace(-2, 2, num= 8)\n",
    "        pole_angle = np.linspace(cart_low_var[2], cart_high_var[2], num = 8)\n",
    "        pole_vel = np.linspace(-2, 2, num= 8)   \n",
    "    # vector donde estan todos los valores que se pueden colocar en una tabla\n",
    "    discrete_values = [car_pos, car_vel, pole_angle, pole_vel]\n",
    "    return discrete_values\n",
    "\n",
    "\n",
    "discrete_values = num_states(400)\n",
    "Q_table = {}\n",
    "states=[]\n",
    "def set_states():\n",
    "    for cpos in discrete_values[0]:\n",
    "        for cvel in discrete_values[1]:\n",
    "            for pang in discrete_values[2]:\n",
    "                for pvel in discrete_values[3]:\n",
    "                    states.append((cpos, cvel, pang, pvel))\n",
    "                    \n",
    "def set_q_table():\n",
    "    for i in states:\n",
    "        for action in range(2):\n",
    "            Q_table[i,action] = 0\n",
    "    \n",
    "                    \n",
    "def discretize(new_state):\n",
    "    # car pos, car vel, pole angle, pole vel\n",
    "    valor_cercano=[0]*4\n",
    "    for i in range(4):\n",
    "        dif = [(abs(x - new_state[i])) for x in discrete_values[i]]\n",
    "        valor_cercano[i] = discrete_values[i][dif.index(min(dif))]\n",
    "        \n",
    "    return valor_cercano"
   ]
  },
  {
   "cell_type": "code",
   "execution_count": 3,
   "id": "88514866-70f6-4ecf-81fc-d7ef7778551e",
   "metadata": {},
   "outputs": [],
   "source": [
    "#SARSA algorithm\n",
    "def SARSA_algorithm(num_episodes):\n",
    "    allowed_actions=[0,1]\n",
    "    # Variables: alpha, gamma y epsilon.\n",
    "    alpha = 0.3\n",
    "    gamma = 1\n",
    "    epsilon = 0.1\n",
    "    cont = 0\n",
    "    #Para 5000 episodios de entrenamiento\n",
    "    for i in range(num_episodes):\n",
    "        # Inicializa las variables para cada episodio\n",
    "        state=env.reset()\n",
    "        num_steps = 0\n",
    "        state = discretize(state[0])\n",
    "\n",
    "\n",
    "        # Seleccion accion \"a\" de forma epsilon-greedy\n",
    "        if epsilon< np.random.uniform():        \n",
    "            act_arg = np.array([Q_table[tuple(state), act] for act in range(2)])\n",
    "            action = allowed_actions[np.argmax(act_arg)]\n",
    "        else:\n",
    "            action = env.action_space.sample()\n",
    "\n",
    "        # Inicia el episodio\n",
    "        continue_episode = True\n",
    "        while continue_episode:        \n",
    "            # Obtengo s'\n",
    "            new_state, reward, done, _,_=env.step(action)\n",
    "            new_state = discretize(new_state)\n",
    "\n",
    "            # Revisa que new_state no sea un estado terminal\n",
    "            if done:\n",
    "                # Valor q(s',a') terminal\n",
    "                q_value_next_step = 0\n",
    "            else:\n",
    "                #Obtengo a' de s' con epsilon greedy\n",
    "                if epsilon< np.random.uniform():        \n",
    "                    act_arg = np.array([Q_table[tuple(state), act] for act in range(2)])\n",
    "                    new_action = allowed_actions[np.argmax(act_arg)]\n",
    "                else:\n",
    "                    new_action = env.action_space.sample()\n",
    "\n",
    "                # Valor q(s',a') no terminal\n",
    "                q_value_next_step = Q_table[tuple(new_state),new_action]\n",
    "\n",
    "\n",
    "            # Calculo de actualizacion q(s,a) <- q(s,a) + alpha*(R + gamma*q(s',a') - q(s,a))\n",
    "            Q_table[tuple(state), action] += alpha*(reward + gamma*q_value_next_step - Q_table[tuple(state),action])\n",
    "\n",
    "            # asigna a = a' y s = s'\n",
    "            state = new_state\n",
    "            action = new_action\n",
    "\n",
    "\n",
    "            # Parte que termina el episodio si se llega a algun estado terminal\n",
    "            if done:\n",
    "                continue_episode = False\n",
    "        cont+=1\n",
    "        if cont%100==0:\n",
    "            print(cont)"
   ]
  },
  {
   "cell_type": "markdown",
   "id": "3175e199-6c30-42f9-9445-b1fff097fda4",
   "metadata": {
    "tags": []
   },
   "source": [
    "## SARSA con 400 estados:"
   ]
  },
  {
   "cell_type": "code",
   "execution_count": 16,
   "id": "0fc496d6-4697-4c4b-99f3-3fd3d6c38ad6",
   "metadata": {},
   "outputs": [],
   "source": [
    "set_states()\n",
    "set_q_table()"
   ]
  },
  {
   "cell_type": "code",
   "execution_count": 17,
   "id": "5d518651-f58f-43e2-a852-ac711092fa7d",
   "metadata": {},
   "outputs": [
    {
     "name": "stderr",
     "output_type": "stream",
     "text": [
      "C:\\Users\\Santiago\\miniconda3\\lib\\site-packages\\gym\\utils\\passive_env_checker.py:233: DeprecationWarning: `np.bool8` is a deprecated alias for `np.bool_`.  (Deprecated NumPy 1.24)\n",
      "  if not isinstance(terminated, (bool, np.bool8)):\n"
     ]
    },
    {
     "name": "stdout",
     "output_type": "stream",
     "text": [
      "100\n",
      "200\n",
      "300\n",
      "400\n",
      "500\n",
      "600\n",
      "700\n",
      "800\n",
      "900\n",
      "1000\n",
      "1100\n",
      "1200\n",
      "1300\n",
      "1400\n",
      "1500\n",
      "1600\n",
      "1700\n",
      "1800\n",
      "1900\n",
      "2000\n",
      "2100\n",
      "2200\n",
      "2300\n",
      "2400\n",
      "2500\n",
      "2600\n",
      "2700\n",
      "2800\n",
      "2900\n",
      "3000\n",
      "3100\n",
      "3200\n",
      "3300\n",
      "3400\n",
      "3500\n",
      "3600\n",
      "3700\n",
      "3800\n",
      "3900\n",
      "4000\n",
      "4100\n",
      "4200\n",
      "4300\n",
      "4400\n",
      "4500\n",
      "4600\n",
      "4700\n",
      "4800\n",
      "4900\n",
      "5000\n"
     ]
    }
   ],
   "source": [
    "discrete_values = num_states(400)\n",
    "SARSA_algorithm(5000)"
   ]
  },
  {
   "cell_type": "code",
   "execution_count": 18,
   "id": "b49d541f-311e-4792-8d36-aeda32925164",
   "metadata": {},
   "outputs": [],
   "source": [
    "allowed_actions= [0,1]\n",
    "prom=[]\n",
    "prom_rand=[]\n",
    "for i in range(100):\n",
    "    G_pi = 0\n",
    "    state =env.reset()\n",
    "    state = state[0]\n",
    "    state = discretize(state)\n",
    "    act_arg = np.array([Q_table[tuple(state), act] for act in range(2)])\n",
    "    action = allowed_actions[np.argmax(act_arg)]\n",
    "    done = False\n",
    "    n=1\n",
    "    while not done:\n",
    "        new_state, reward, done, _,_=env.step(action)\n",
    "        G_pi= G_pi + reward\n",
    "        discrete_state = discretize(new_state)\n",
    "        act_arg = np.array([Q_table[tuple(discrete_state), act] for act in range(2)])\n",
    "        action = allowed_actions[np.argmax(act_arg)]\n",
    "    prom.append(G_pi)\n",
    "print('---'*5)\n",
    "for i in range(100):\n",
    "    G_pi = 0\n",
    "    state =env.reset()\n",
    "    done = False\n",
    "    while not done:\n",
    "        action = env.action_space.sample()\n",
    "        new_state, reward, done, _,_=env.step(action)\n",
    "        G_pi= G_pi + reward\n",
    "    prom_rand.append(G_pi)"
   ]
  },
  {
   "cell_type": "code",
   "execution_count": 19,
   "id": "a01d842e-c241-4e90-a9d9-6090d2fb5168",
   "metadata": {},
   "outputs": [
    {
     "name": "stdout",
     "output_type": "stream",
     "text": [
      "Retorno obtenido con la funcion q: 189.28\n",
      "Retorno obtenido de acciones al azar: 21.97\n"
     ]
    }
   ],
   "source": [
    "print(\"Retorno obtenido con la funcion q:\",sum(prom)/len(prom))\n",
    "print(\"Retorno obtenido de acciones al azar:\",sum(prom_rand)/len(prom_rand))"
   ]
  },
  {
   "cell_type": "markdown",
   "id": "5914b0c8-5082-4b70-85fe-9f08941b6861",
   "metadata": {
    "tags": []
   },
   "source": [
    "## SARSA con 4000 estados:"
   ]
  },
  {
   "cell_type": "code",
   "execution_count": 4,
   "id": "971337c3-768a-4d8d-b63f-d2438646e77c",
   "metadata": {},
   "outputs": [],
   "source": [
    "set_states()\n",
    "set_q_table()"
   ]
  },
  {
   "cell_type": "code",
   "execution_count": 7,
   "id": "7bdedad1-20eb-4d8d-b297-1df3f77f6b10",
   "metadata": {},
   "outputs": [
    {
     "name": "stderr",
     "output_type": "stream",
     "text": [
      "C:\\Users\\Santiago\\miniconda3\\lib\\site-packages\\gym\\utils\\passive_env_checker.py:233: DeprecationWarning: `np.bool8` is a deprecated alias for `np.bool_`.  (Deprecated NumPy 1.24)\n",
      "  if not isinstance(terminated, (bool, np.bool8)):\n"
     ]
    },
    {
     "name": "stdout",
     "output_type": "stream",
     "text": [
      "100\n",
      "200\n",
      "300\n",
      "400\n",
      "500\n",
      "600\n",
      "700\n",
      "800\n",
      "900\n",
      "1000\n"
     ]
    }
   ],
   "source": [
    "discrete_values = num_states(4000)\n",
    "SARSA_algorithm(1000)"
   ]
  },
  {
   "cell_type": "code",
   "execution_count": 11,
   "id": "5a0343b9-09a1-4d69-b6ef-493b6207eaac",
   "metadata": {},
   "outputs": [
    {
     "name": "stdout",
     "output_type": "stream",
     "text": [
      "---------------\n"
     ]
    }
   ],
   "source": [
    "prom=[]\n",
    "prom_rand=[]\n",
    "allowed_actions= [0,1]\n",
    "for i in range(100):\n",
    "    G_pi = 0\n",
    "    state =env.reset()\n",
    "    state = state[0]\n",
    "    state = discretize(state)\n",
    "    act_arg = np.array([Q_table[tuple(state), act] for act in range(2)])\n",
    "    action = allowed_actions[np.argmax(act_arg)]\n",
    "    done = False\n",
    "    n=1\n",
    "    while not done:\n",
    "        new_state, reward, done, _,_=env.step(action)\n",
    "        G_pi= G_pi + reward\n",
    "        discrete_state = discretize(new_state)\n",
    "        act_arg = np.array([Q_table[tuple(discrete_state), act] for act in range(2)])\n",
    "        action = allowed_actions[np.argmax(act_arg)]\n",
    "    prom.append(G_pi)\n",
    "print('---'*5)\n",
    "for i in range(100):\n",
    "    G_pi = 0\n",
    "    state =env.reset()\n",
    "    done = False\n",
    "    while not done:\n",
    "        action = env.action_space.sample()\n",
    "        new_state, reward, done, _,_=env.step(action)\n",
    "        G_pi= G_pi + reward\n",
    "    prom_rand.append(G_pi)"
   ]
  },
  {
   "cell_type": "code",
   "execution_count": 12,
   "id": "b6d949d9-15ed-4c55-a0ec-90bb45d23a81",
   "metadata": {},
   "outputs": [
    {
     "name": "stdout",
     "output_type": "stream",
     "text": [
      "Retorno obtenido con la funcion q: 218.33\n",
      "Retorno obtenido de acciones al azar: 21.88\n"
     ]
    }
   ],
   "source": [
    "print(\"Retorno obtenido con la funcion q:\",sum(prom)/len(prom))\n",
    "print(\"Retorno obtenido de acciones al azar:\",sum(prom_rand)/len(prom_rand))"
   ]
  },
  {
   "cell_type": "code",
   "execution_count": 20,
   "id": "4cb52627-a4a1-46ec-9b80-21647b9c7315",
   "metadata": {},
   "outputs": [],
   "source": [
    "env.close()"
   ]
  },
  {
   "cell_type": "markdown",
   "id": "cd1512d1-fdcb-45ae-a1d5-d53313e2c89e",
   "metadata": {},
   "source": [
    "## Uso de redes neuronales"
   ]
  },
  {
   "cell_type": "code",
   "execution_count": 12,
   "id": "37dac095-93cd-4a7d-80d8-fc6e2414dd1d",
   "metadata": {},
   "outputs": [],
   "source": [
    "import random\n",
    "from keras.models import Sequential\n",
    "from keras.layers import Dense\n",
    "from keras.optimizers import Adam\n",
    "'''\n",
    "# Define the hyperparameters\n",
    "EPISODES = 5000\n",
    "EPSILON = 1.0\n",
    "EPSILON_MIN = 0.01\n",
    "EPSILON_DECAY = 0.999\n",
    "GAMMA = 0.99\n",
    "ALPHA = 0.001\n",
    "BATCH_SIZE = 32\n",
    "\n",
    "# Define the environment\n",
    "env = gym.make('CartPole-v1')\n",
    "\n",
    "# Define the model\n",
    "model = Sequential()\n",
    "model.add(Dense(4, input_dim=4, activation='relu'))\n",
    "model.add(Dense(2, activation='linear'))\n",
    "model.compile(loss='mse', optimizer='adam')\n",
    "'''\n",
    "\n",
    "\n",
    "\n",
    "class DSARSAAgent:\n",
    "    def __init__(self, state_dim, action_dim, learning_rate=0.001, discount_factor=0.99, epsilon=1.0, epsilon_decay=0.999):\n",
    "        self.state_dim = state_dim\n",
    "        self.action_dim = action_dim\n",
    "        self.learning_rate = learning_rate\n",
    "        self.discount_factor = discount_factor\n",
    "        self.epsilon = epsilon\n",
    "        self.epsilon_decay = epsilon_decay\n",
    "        self.model = self.build_model()\n",
    "\n",
    "    def build_model(self):\n",
    "        model = Sequential()\n",
    "        model.add(Dense(4, input_dim=self.state_dim, activation='relu'))\n",
    "        model.add(Dense(2, activation='linear'))\n",
    "        model.compile(loss='mse', optimizer='adam')\n",
    "        print(model.summary())\n",
    "        return model\n",
    "\n",
    "    def choose_action(self, state):\n",
    "        if np.random.rand() <= self.epsilon:\n",
    "            return np.random.choice(self.action_dim)\n",
    "        q_values = self.model.predict(state)\n",
    "        return np.argmax(q_values[0])\n",
    "\n",
    "    def update_model(self, state, action, reward, next_state, next_action, done):\n",
    "        target = reward\n",
    "        if not done:\n",
    "            target += self.discount_factor * self.model.predict(next_state)[0][next_action]\n",
    "        target_f = self.model.predict(state)\n",
    "        target_f[0][action] = target\n",
    "        self.model.fit(state, target_f, epochs=1, verbose=0)"
   ]
  },
  {
   "cell_type": "code",
   "execution_count": 13,
   "id": "bf585e1c-bc54-41de-95df-154488006694",
   "metadata": {},
   "outputs": [
    {
     "name": "stdout",
     "output_type": "stream",
     "text": [
      "Model: \"sequential_7\"\n",
      "_________________________________________________________________\n",
      " Layer (type)                Output Shape              Param #   \n",
      "=================================================================\n",
      " dense_14 (Dense)            (None, 4)                 20        \n",
      "                                                                 \n",
      " dense_15 (Dense)            (None, 2)                 10        \n",
      "                                                                 \n",
      "=================================================================\n",
      "Total params: 30\n",
      "Trainable params: 30\n",
      "Non-trainable params: 0\n",
      "_________________________________________________________________\n",
      "None\n",
      "1/1 [==============================] - 0s 362ms/step\n"
     ]
    },
    {
     "ename": "InvalidArgumentError",
     "evalue": "Graph execution error:\n\nDetected at node 'sequential_7/dense_14/MatMul' defined at (most recent call last):\n    File \"C:\\Users\\Santiago\\miniconda3\\lib\\runpy.py\", line 196, in _run_module_as_main\n      return _run_code(code, main_globals, None,\n    File \"C:\\Users\\Santiago\\miniconda3\\lib\\runpy.py\", line 86, in _run_code\n      exec(code, run_globals)\n    File \"C:\\Users\\Santiago\\miniconda3\\lib\\site-packages\\ipykernel_launcher.py\", line 17, in <module>\n      app.launch_new_instance()\n    File \"C:\\Users\\Santiago\\AppData\\Roaming\\Python\\Python310\\site-packages\\traitlets\\config\\application.py\", line 1043, in launch_instance\n      app.start()\n    File \"C:\\Users\\Santiago\\miniconda3\\lib\\site-packages\\ipykernel\\kernelapp.py\", line 724, in start\n      self.io_loop.start()\n    File \"C:\\Users\\Santiago\\AppData\\Roaming\\Python\\Python310\\site-packages\\tornado\\platform\\asyncio.py\", line 215, in start\n      self.asyncio_loop.run_forever()\n    File \"C:\\Users\\Santiago\\miniconda3\\lib\\asyncio\\base_events.py\", line 603, in run_forever\n      self._run_once()\n    File \"C:\\Users\\Santiago\\miniconda3\\lib\\asyncio\\base_events.py\", line 1899, in _run_once\n      handle._run()\n    File \"C:\\Users\\Santiago\\miniconda3\\lib\\asyncio\\events.py\", line 80, in _run\n      self._context.run(self._callback, *self._args)\n    File \"C:\\Users\\Santiago\\miniconda3\\lib\\site-packages\\ipykernel\\kernelbase.py\", line 512, in dispatch_queue\n      await self.process_one()\n    File \"C:\\Users\\Santiago\\miniconda3\\lib\\site-packages\\ipykernel\\kernelbase.py\", line 501, in process_one\n      await dispatch(*args)\n    File \"C:\\Users\\Santiago\\miniconda3\\lib\\site-packages\\ipykernel\\kernelbase.py\", line 408, in dispatch_shell\n      await result\n    File \"C:\\Users\\Santiago\\miniconda3\\lib\\site-packages\\ipykernel\\kernelbase.py\", line 731, in execute_request\n      reply_content = await reply_content\n    File \"C:\\Users\\Santiago\\miniconda3\\lib\\site-packages\\ipykernel\\ipkernel.py\", line 417, in do_execute\n      res = shell.run_cell(\n    File \"C:\\Users\\Santiago\\miniconda3\\lib\\site-packages\\ipykernel\\zmqshell.py\", line 540, in run_cell\n      return super().run_cell(*args, **kwargs)\n    File \"C:\\Users\\Santiago\\miniconda3\\lib\\site-packages\\IPython\\core\\interactiveshell.py\", line 2945, in run_cell\n      result = self._run_cell(\n    File \"C:\\Users\\Santiago\\miniconda3\\lib\\site-packages\\IPython\\core\\interactiveshell.py\", line 3000, in _run_cell\n      return runner(coro)\n    File \"C:\\Users\\Santiago\\miniconda3\\lib\\site-packages\\IPython\\core\\async_helpers.py\", line 129, in _pseudo_sync_runner\n      coro.send(None)\n    File \"C:\\Users\\Santiago\\miniconda3\\lib\\site-packages\\IPython\\core\\interactiveshell.py\", line 3203, in run_cell_async\n      has_raised = await self.run_ast_nodes(code_ast.body, cell_name,\n    File \"C:\\Users\\Santiago\\miniconda3\\lib\\site-packages\\IPython\\core\\interactiveshell.py\", line 3382, in run_ast_nodes\n      if await self.run_code(code, result, async_=asy):\n    File \"C:\\Users\\Santiago\\miniconda3\\lib\\site-packages\\IPython\\core\\interactiveshell.py\", line 3442, in run_code\n      exec(code_obj, self.user_global_ns, self.user_ns)\n    File \"C:\\Users\\Santiago\\AppData\\Local\\Temp\\ipykernel_15796\\300310841.py\", line 27, in <module>\n      agent.update_model(state, action, reward, next_state, next_action, done)\n    File \"C:\\Users\\Santiago\\AppData\\Local\\Temp\\ipykernel_15796\\1772366920.py\", line 55, in update_model\n      target_f = self.model.predict(state)\n    File \"C:\\Users\\Santiago\\miniconda3\\lib\\site-packages\\keras\\utils\\traceback_utils.py\", line 65, in error_handler\n      return fn(*args, **kwargs)\n    File \"C:\\Users\\Santiago\\miniconda3\\lib\\site-packages\\keras\\engine\\training.py\", line 2382, in predict\n      tmp_batch_outputs = self.predict_function(iterator)\n    File \"C:\\Users\\Santiago\\miniconda3\\lib\\site-packages\\keras\\engine\\training.py\", line 2169, in predict_function\n      return step_function(self, iterator)\n    File \"C:\\Users\\Santiago\\miniconda3\\lib\\site-packages\\keras\\engine\\training.py\", line 2155, in step_function\n      outputs = model.distribute_strategy.run(run_step, args=(data,))\n    File \"C:\\Users\\Santiago\\miniconda3\\lib\\site-packages\\keras\\engine\\training.py\", line 2143, in run_step\n      outputs = model.predict_step(data)\n    File \"C:\\Users\\Santiago\\miniconda3\\lib\\site-packages\\keras\\engine\\training.py\", line 2111, in predict_step\n      return self(x, training=False)\n    File \"C:\\Users\\Santiago\\miniconda3\\lib\\site-packages\\keras\\utils\\traceback_utils.py\", line 65, in error_handler\n      return fn(*args, **kwargs)\n    File \"C:\\Users\\Santiago\\miniconda3\\lib\\site-packages\\keras\\engine\\training.py\", line 558, in __call__\n      return super().__call__(*args, **kwargs)\n    File \"C:\\Users\\Santiago\\miniconda3\\lib\\site-packages\\keras\\utils\\traceback_utils.py\", line 65, in error_handler\n      return fn(*args, **kwargs)\n    File \"C:\\Users\\Santiago\\miniconda3\\lib\\site-packages\\keras\\engine\\base_layer.py\", line 1145, in __call__\n      outputs = call_fn(inputs, *args, **kwargs)\n    File \"C:\\Users\\Santiago\\miniconda3\\lib\\site-packages\\keras\\utils\\traceback_utils.py\", line 96, in error_handler\n      return fn(*args, **kwargs)\n    File \"C:\\Users\\Santiago\\miniconda3\\lib\\site-packages\\keras\\engine\\sequential.py\", line 412, in call\n      return super().call(inputs, training=training, mask=mask)\n    File \"C:\\Users\\Santiago\\miniconda3\\lib\\site-packages\\keras\\engine\\functional.py\", line 512, in call\n      return self._run_internal_graph(inputs, training=training, mask=mask)\n    File \"C:\\Users\\Santiago\\miniconda3\\lib\\site-packages\\keras\\engine\\functional.py\", line 669, in _run_internal_graph\n      outputs = node.layer(*args, **kwargs)\n    File \"C:\\Users\\Santiago\\miniconda3\\lib\\site-packages\\keras\\utils\\traceback_utils.py\", line 65, in error_handler\n      return fn(*args, **kwargs)\n    File \"C:\\Users\\Santiago\\miniconda3\\lib\\site-packages\\keras\\engine\\base_layer.py\", line 1145, in __call__\n      outputs = call_fn(inputs, *args, **kwargs)\n    File \"C:\\Users\\Santiago\\miniconda3\\lib\\site-packages\\keras\\utils\\traceback_utils.py\", line 96, in error_handler\n      return fn(*args, **kwargs)\n    File \"C:\\Users\\Santiago\\miniconda3\\lib\\site-packages\\keras\\layers\\core\\dense.py\", line 241, in call\n      outputs = tf.matmul(a=inputs, b=self.kernel)\nNode: 'sequential_7/dense_14/MatMul'\nIn[0] ndims must be >= 2: 1\n\t [[{{node sequential_7/dense_14/MatMul}}]] [Op:__inference_predict_function_1277]",
     "output_type": "error",
     "traceback": [
      "\u001b[1;31m---------------------------------------------------------------------------\u001b[0m",
      "\u001b[1;31mInvalidArgumentError\u001b[0m                      Traceback (most recent call last)",
      "Cell \u001b[1;32mIn[13], line 27\u001b[0m\n\u001b[0;32m     24\u001b[0m next_action \u001b[38;5;241m=\u001b[39m agent\u001b[38;5;241m.\u001b[39mchoose_action(next_state)\n\u001b[0;32m     26\u001b[0m \u001b[38;5;66;03m# Update the model\u001b[39;00m\n\u001b[1;32m---> 27\u001b[0m \u001b[43magent\u001b[49m\u001b[38;5;241;43m.\u001b[39;49m\u001b[43mupdate_model\u001b[49m\u001b[43m(\u001b[49m\u001b[43mstate\u001b[49m\u001b[43m,\u001b[49m\u001b[43m \u001b[49m\u001b[43maction\u001b[49m\u001b[43m,\u001b[49m\u001b[43m \u001b[49m\u001b[43mreward\u001b[49m\u001b[43m,\u001b[49m\u001b[43m \u001b[49m\u001b[43mnext_state\u001b[49m\u001b[43m,\u001b[49m\u001b[43m \u001b[49m\u001b[43mnext_action\u001b[49m\u001b[43m,\u001b[49m\u001b[43m \u001b[49m\u001b[43mdone\u001b[49m\u001b[43m)\u001b[49m\n\u001b[0;32m     29\u001b[0m \u001b[38;5;66;03m# Update the current state\u001b[39;00m\n\u001b[0;32m     30\u001b[0m state \u001b[38;5;241m=\u001b[39m next_state\n",
      "Cell \u001b[1;32mIn[12], line 55\u001b[0m, in \u001b[0;36mDSARSAAgent.update_model\u001b[1;34m(self, state, action, reward, next_state, next_action, done)\u001b[0m\n\u001b[0;32m     53\u001b[0m \u001b[38;5;28;01mif\u001b[39;00m \u001b[38;5;129;01mnot\u001b[39;00m done:\n\u001b[0;32m     54\u001b[0m     target \u001b[38;5;241m+\u001b[39m\u001b[38;5;241m=\u001b[39m \u001b[38;5;28mself\u001b[39m\u001b[38;5;241m.\u001b[39mdiscount_factor \u001b[38;5;241m*\u001b[39m \u001b[38;5;28mself\u001b[39m\u001b[38;5;241m.\u001b[39mmodel\u001b[38;5;241m.\u001b[39mpredict(next_state)[\u001b[38;5;241m0\u001b[39m][next_action]\n\u001b[1;32m---> 55\u001b[0m target_f \u001b[38;5;241m=\u001b[39m \u001b[38;5;28;43mself\u001b[39;49m\u001b[38;5;241;43m.\u001b[39;49m\u001b[43mmodel\u001b[49m\u001b[38;5;241;43m.\u001b[39;49m\u001b[43mpredict\u001b[49m\u001b[43m(\u001b[49m\u001b[43mstate\u001b[49m\u001b[43m)\u001b[49m\n\u001b[0;32m     56\u001b[0m target_f[\u001b[38;5;241m0\u001b[39m][action] \u001b[38;5;241m=\u001b[39m target\n\u001b[0;32m     57\u001b[0m \u001b[38;5;28mself\u001b[39m\u001b[38;5;241m.\u001b[39mmodel\u001b[38;5;241m.\u001b[39mfit(state, target_f, epochs\u001b[38;5;241m=\u001b[39m\u001b[38;5;241m1\u001b[39m, verbose\u001b[38;5;241m=\u001b[39m\u001b[38;5;241m0\u001b[39m)\n",
      "File \u001b[1;32m~\\miniconda3\\lib\\site-packages\\keras\\utils\\traceback_utils.py:70\u001b[0m, in \u001b[0;36mfilter_traceback.<locals>.error_handler\u001b[1;34m(*args, **kwargs)\u001b[0m\n\u001b[0;32m     67\u001b[0m     filtered_tb \u001b[38;5;241m=\u001b[39m _process_traceback_frames(e\u001b[38;5;241m.\u001b[39m__traceback__)\n\u001b[0;32m     68\u001b[0m     \u001b[38;5;66;03m# To get the full stack trace, call:\u001b[39;00m\n\u001b[0;32m     69\u001b[0m     \u001b[38;5;66;03m# `tf.debugging.disable_traceback_filtering()`\u001b[39;00m\n\u001b[1;32m---> 70\u001b[0m     \u001b[38;5;28;01mraise\u001b[39;00m e\u001b[38;5;241m.\u001b[39mwith_traceback(filtered_tb) \u001b[38;5;28;01mfrom\u001b[39;00m \u001b[38;5;28mNone\u001b[39m\n\u001b[0;32m     71\u001b[0m \u001b[38;5;28;01mfinally\u001b[39;00m:\n\u001b[0;32m     72\u001b[0m     \u001b[38;5;28;01mdel\u001b[39;00m filtered_tb\n",
      "File \u001b[1;32m~\\miniconda3\\lib\\site-packages\\tensorflow\\python\\eager\\execute.py:52\u001b[0m, in \u001b[0;36mquick_execute\u001b[1;34m(op_name, num_outputs, inputs, attrs, ctx, name)\u001b[0m\n\u001b[0;32m     50\u001b[0m \u001b[38;5;28;01mtry\u001b[39;00m:\n\u001b[0;32m     51\u001b[0m   ctx\u001b[38;5;241m.\u001b[39mensure_initialized()\n\u001b[1;32m---> 52\u001b[0m   tensors \u001b[38;5;241m=\u001b[39m pywrap_tfe\u001b[38;5;241m.\u001b[39mTFE_Py_Execute(ctx\u001b[38;5;241m.\u001b[39m_handle, device_name, op_name,\n\u001b[0;32m     53\u001b[0m                                       inputs, attrs, num_outputs)\n\u001b[0;32m     54\u001b[0m \u001b[38;5;28;01mexcept\u001b[39;00m core\u001b[38;5;241m.\u001b[39m_NotOkStatusException \u001b[38;5;28;01mas\u001b[39;00m e:\n\u001b[0;32m     55\u001b[0m   \u001b[38;5;28;01mif\u001b[39;00m name \u001b[38;5;129;01mis\u001b[39;00m \u001b[38;5;129;01mnot\u001b[39;00m \u001b[38;5;28;01mNone\u001b[39;00m:\n",
      "\u001b[1;31mInvalidArgumentError\u001b[0m: Graph execution error:\n\nDetected at node 'sequential_7/dense_14/MatMul' defined at (most recent call last):\n    File \"C:\\Users\\Santiago\\miniconda3\\lib\\runpy.py\", line 196, in _run_module_as_main\n      return _run_code(code, main_globals, None,\n    File \"C:\\Users\\Santiago\\miniconda3\\lib\\runpy.py\", line 86, in _run_code\n      exec(code, run_globals)\n    File \"C:\\Users\\Santiago\\miniconda3\\lib\\site-packages\\ipykernel_launcher.py\", line 17, in <module>\n      app.launch_new_instance()\n    File \"C:\\Users\\Santiago\\AppData\\Roaming\\Python\\Python310\\site-packages\\traitlets\\config\\application.py\", line 1043, in launch_instance\n      app.start()\n    File \"C:\\Users\\Santiago\\miniconda3\\lib\\site-packages\\ipykernel\\kernelapp.py\", line 724, in start\n      self.io_loop.start()\n    File \"C:\\Users\\Santiago\\AppData\\Roaming\\Python\\Python310\\site-packages\\tornado\\platform\\asyncio.py\", line 215, in start\n      self.asyncio_loop.run_forever()\n    File \"C:\\Users\\Santiago\\miniconda3\\lib\\asyncio\\base_events.py\", line 603, in run_forever\n      self._run_once()\n    File \"C:\\Users\\Santiago\\miniconda3\\lib\\asyncio\\base_events.py\", line 1899, in _run_once\n      handle._run()\n    File \"C:\\Users\\Santiago\\miniconda3\\lib\\asyncio\\events.py\", line 80, in _run\n      self._context.run(self._callback, *self._args)\n    File \"C:\\Users\\Santiago\\miniconda3\\lib\\site-packages\\ipykernel\\kernelbase.py\", line 512, in dispatch_queue\n      await self.process_one()\n    File \"C:\\Users\\Santiago\\miniconda3\\lib\\site-packages\\ipykernel\\kernelbase.py\", line 501, in process_one\n      await dispatch(*args)\n    File \"C:\\Users\\Santiago\\miniconda3\\lib\\site-packages\\ipykernel\\kernelbase.py\", line 408, in dispatch_shell\n      await result\n    File \"C:\\Users\\Santiago\\miniconda3\\lib\\site-packages\\ipykernel\\kernelbase.py\", line 731, in execute_request\n      reply_content = await reply_content\n    File \"C:\\Users\\Santiago\\miniconda3\\lib\\site-packages\\ipykernel\\ipkernel.py\", line 417, in do_execute\n      res = shell.run_cell(\n    File \"C:\\Users\\Santiago\\miniconda3\\lib\\site-packages\\ipykernel\\zmqshell.py\", line 540, in run_cell\n      return super().run_cell(*args, **kwargs)\n    File \"C:\\Users\\Santiago\\miniconda3\\lib\\site-packages\\IPython\\core\\interactiveshell.py\", line 2945, in run_cell\n      result = self._run_cell(\n    File \"C:\\Users\\Santiago\\miniconda3\\lib\\site-packages\\IPython\\core\\interactiveshell.py\", line 3000, in _run_cell\n      return runner(coro)\n    File \"C:\\Users\\Santiago\\miniconda3\\lib\\site-packages\\IPython\\core\\async_helpers.py\", line 129, in _pseudo_sync_runner\n      coro.send(None)\n    File \"C:\\Users\\Santiago\\miniconda3\\lib\\site-packages\\IPython\\core\\interactiveshell.py\", line 3203, in run_cell_async\n      has_raised = await self.run_ast_nodes(code_ast.body, cell_name,\n    File \"C:\\Users\\Santiago\\miniconda3\\lib\\site-packages\\IPython\\core\\interactiveshell.py\", line 3382, in run_ast_nodes\n      if await self.run_code(code, result, async_=asy):\n    File \"C:\\Users\\Santiago\\miniconda3\\lib\\site-packages\\IPython\\core\\interactiveshell.py\", line 3442, in run_code\n      exec(code_obj, self.user_global_ns, self.user_ns)\n    File \"C:\\Users\\Santiago\\AppData\\Local\\Temp\\ipykernel_15796\\300310841.py\", line 27, in <module>\n      agent.update_model(state, action, reward, next_state, next_action, done)\n    File \"C:\\Users\\Santiago\\AppData\\Local\\Temp\\ipykernel_15796\\1772366920.py\", line 55, in update_model\n      target_f = self.model.predict(state)\n    File \"C:\\Users\\Santiago\\miniconda3\\lib\\site-packages\\keras\\utils\\traceback_utils.py\", line 65, in error_handler\n      return fn(*args, **kwargs)\n    File \"C:\\Users\\Santiago\\miniconda3\\lib\\site-packages\\keras\\engine\\training.py\", line 2382, in predict\n      tmp_batch_outputs = self.predict_function(iterator)\n    File \"C:\\Users\\Santiago\\miniconda3\\lib\\site-packages\\keras\\engine\\training.py\", line 2169, in predict_function\n      return step_function(self, iterator)\n    File \"C:\\Users\\Santiago\\miniconda3\\lib\\site-packages\\keras\\engine\\training.py\", line 2155, in step_function\n      outputs = model.distribute_strategy.run(run_step, args=(data,))\n    File \"C:\\Users\\Santiago\\miniconda3\\lib\\site-packages\\keras\\engine\\training.py\", line 2143, in run_step\n      outputs = model.predict_step(data)\n    File \"C:\\Users\\Santiago\\miniconda3\\lib\\site-packages\\keras\\engine\\training.py\", line 2111, in predict_step\n      return self(x, training=False)\n    File \"C:\\Users\\Santiago\\miniconda3\\lib\\site-packages\\keras\\utils\\traceback_utils.py\", line 65, in error_handler\n      return fn(*args, **kwargs)\n    File \"C:\\Users\\Santiago\\miniconda3\\lib\\site-packages\\keras\\engine\\training.py\", line 558, in __call__\n      return super().__call__(*args, **kwargs)\n    File \"C:\\Users\\Santiago\\miniconda3\\lib\\site-packages\\keras\\utils\\traceback_utils.py\", line 65, in error_handler\n      return fn(*args, **kwargs)\n    File \"C:\\Users\\Santiago\\miniconda3\\lib\\site-packages\\keras\\engine\\base_layer.py\", line 1145, in __call__\n      outputs = call_fn(inputs, *args, **kwargs)\n    File \"C:\\Users\\Santiago\\miniconda3\\lib\\site-packages\\keras\\utils\\traceback_utils.py\", line 96, in error_handler\n      return fn(*args, **kwargs)\n    File \"C:\\Users\\Santiago\\miniconda3\\lib\\site-packages\\keras\\engine\\sequential.py\", line 412, in call\n      return super().call(inputs, training=training, mask=mask)\n    File \"C:\\Users\\Santiago\\miniconda3\\lib\\site-packages\\keras\\engine\\functional.py\", line 512, in call\n      return self._run_internal_graph(inputs, training=training, mask=mask)\n    File \"C:\\Users\\Santiago\\miniconda3\\lib\\site-packages\\keras\\engine\\functional.py\", line 669, in _run_internal_graph\n      outputs = node.layer(*args, **kwargs)\n    File \"C:\\Users\\Santiago\\miniconda3\\lib\\site-packages\\keras\\utils\\traceback_utils.py\", line 65, in error_handler\n      return fn(*args, **kwargs)\n    File \"C:\\Users\\Santiago\\miniconda3\\lib\\site-packages\\keras\\engine\\base_layer.py\", line 1145, in __call__\n      outputs = call_fn(inputs, *args, **kwargs)\n    File \"C:\\Users\\Santiago\\miniconda3\\lib\\site-packages\\keras\\utils\\traceback_utils.py\", line 96, in error_handler\n      return fn(*args, **kwargs)\n    File \"C:\\Users\\Santiago\\miniconda3\\lib\\site-packages\\keras\\layers\\core\\dense.py\", line 241, in call\n      outputs = tf.matmul(a=inputs, b=self.kernel)\nNode: 'sequential_7/dense_14/MatMul'\nIn[0] ndims must be >= 2: 1\n\t [[{{node sequential_7/dense_14/MatMul}}]] [Op:__inference_predict_function_1277]"
     ]
    }
   ],
   "source": [
    "env = gym.make('CartPole-v1',render_mode=\"human\")\n",
    "num_episodes=100\n",
    "# Define your state and action dimensions\n",
    "state_dim = 4\n",
    "action_dim = 2\n",
    "\n",
    "# Create an instance of the DSARSAAgent class\n",
    "agent = DSARSAAgent(state_dim, action_dim)\n",
    "for episode in range(num_episodes):\n",
    "    state = env.reset()\n",
    "    state = state[0]\n",
    "    done = False\n",
    "    total_reward = 0\n",
    "\n",
    "    while not done:\n",
    "        # Choose an action\n",
    "        action = agent.choose_action(state)\n",
    "\n",
    "        # Take the chosen action and observe the next state and reward\n",
    "        next_state, reward, done, _,_ = env.step(action)\n",
    "        next_state = np.reshape(next_state, [1, state_dim])\n",
    "\n",
    "        # Choose the next action\n",
    "        next_action = agent.choose_action(next_state)\n",
    "\n",
    "        # Update the model\n",
    "        agent.update_model(state, action, reward, next_state, next_action, done)\n",
    "\n",
    "        # Update the current state\n",
    "        state = next_state\n",
    "        total_reward += rewardsummary"
   ]
  },
  {
   "cell_type": "code",
   "execution_count": 14,
   "id": "eff46198-c43d-456a-a016-4d1be9063980",
   "metadata": {},
   "outputs": [],
   "source": [
    "env.close()"
   ]
  },
  {
   "cell_type": "code",
   "execution_count": 16,
   "id": "7230848b-ea04-4e2c-a21f-29f1ee4fd4e4",
   "metadata": {},
   "outputs": [
    {
     "name": "stdout",
     "output_type": "stream",
     "text": [
      "Capa 1 - Pesos:\n",
      "[[-0.7432852  -0.1486429  -0.1371448   0.24629325]\n",
      " [ 0.3666528   0.39687043  0.17363995 -0.03056824]\n",
      " [ 0.11689937  0.46246618 -0.45954245  0.03358054]\n",
      " [ 0.5355603   0.2761702   0.713564    0.04761124]]\n",
      "\n",
      "Capa 2 - Pesos:\n",
      "[0. 0. 0. 0.]\n",
      "\n",
      "Capa 3 - Pesos:\n",
      "[[-0.8054986  -0.3941636 ]\n",
      " [ 0.271904   -0.06075954]\n",
      " [-0.00227332  0.3381405 ]\n",
      " [-0.28135157  0.73801684]]\n",
      "\n",
      "Capa 4 - Pesos:\n",
      "[0. 0.]\n",
      "\n"
     ]
    }
   ],
   "source": [
    "EPISODES = 5000\n",
    "EPSILON = 1.0\n",
    "EPSILON_MIN = 0.01\n",
    "EPSILON_DECAY = 0.999\n",
    "GAMMA = 0.99\n",
    "ALPHA = 0.001\n",
    "BATCH_SIZE = 32\n",
    "\n",
    "# Define the environment\n",
    "env = gym.make('CartPole-v1')\n",
    "\n",
    "# Define the model\n",
    "model = Sequential()\n",
    "model.add(Dense(4, input_dim=4, activation='relu'))\n",
    "model.add(Dense(2, activation='linear'))\n",
    "model.compile(loss='mse', optimizer='adam')\n",
    "weights=model.get_weights()\n",
    "for i, layer_weights in enumerate(weights):\n",
    "    print(f\"Capa {i + 1} - Pesos:\")\n",
    "    print(layer_weights)\n",
    "    print()"
   ]
  }
 ],
 "metadata": {
  "kernelspec": {
   "display_name": "Python 3 (ipykernel)",
   "language": "python",
   "name": "python3"
  },
  "language_info": {
   "codemirror_mode": {
    "name": "ipython",
    "version": 3
   },
   "file_extension": ".py",
   "mimetype": "text/x-python",
   "name": "python",
   "nbconvert_exporter": "python",
   "pygments_lexer": "ipython3",
   "version": "3.10.8"
  }
 },
 "nbformat": 4,
 "nbformat_minor": 5
}
